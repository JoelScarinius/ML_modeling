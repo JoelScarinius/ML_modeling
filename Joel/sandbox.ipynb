{
 "cells": [
  {
   "cell_type": "code",
   "execution_count": 4,
   "id": "cd3575e9",
   "metadata": {},
   "outputs": [],
   "source": [
    "try:\n",
    "    from rich import load_ipython_extension\n",
    "    %load_ext rich\n",
    "except ImportError:\n",
    "    try:\n",
    "        from rich import pretty\n",
    "        pretty.install()\n",
    "    except ImportError:\n",
    "        pass"
   ]
  },
  {
   "cell_type": "code",
   "execution_count": null,
   "id": "e8aa1d8e",
   "metadata": {},
   "outputs": [],
   "source": [
    "import pandas as pd\n",
    "import seaborn as sns\n",
    "import matplotlib.pyplot as plt\n",
    "import pingouin as pg\n",
    "import numpy as np\n",
    "from sklearn.cluster import KMeans\n",
    "from sklearn.mixture import GaussianMixture as GMM\n",
    "from sklearn.model_selection import StratifiedKFold, RandomizedSearchCV\n",
    "from sklearn.model_selection import train_test_split, cross_val_score, GridSearchCV, RandomizedSearchCV\n",
    "from sklearn.ensemble import HistGradientBoostingClassifier\n",
    "from sklearn.metrics import accuracy_score, f1_score, confusion_matrix, classification_report\n",
    "from sklearn.inspection import permutation_importance\n",
    "from sklearn.linear_model import LinearRegression\n",
    "from sklearn.cluster import KMeans\n",
    "from sklearn.mixture import GaussianMixture"
   ]
  },
  {
   "cell_type": "markdown",
   "id": "34a2de24",
   "metadata": {},
   "source": [
    "Using the cleaned dataset created in assignment 1"
   ]
  },
  {
   "cell_type": "code",
   "execution_count": 6,
   "id": "542a2000",
   "metadata": {},
   "outputs": [
    {
     "data": {
      "text/html": [
       "<pre style=\"white-space:pre;overflow-x:auto;line-height:normal;font-family:Menlo,'DejaVu Sans Mono',consolas,'Courier New',monospace\"></pre>\n"
      ],
      "text/plain": []
     },
     "metadata": {},
     "output_type": "display_data"
    },
    {
     "data": {
      "text/html": [
       "<div>\n",
       "<style scoped>\n",
       "    .dataframe tbody tr th:only-of-type {\n",
       "        vertical-align: middle;\n",
       "    }\n",
       "\n",
       "    .dataframe tbody tr th {\n",
       "        vertical-align: top;\n",
       "    }\n",
       "\n",
       "    .dataframe thead th {\n",
       "        text-align: right;\n",
       "    }\n",
       "</style>\n",
       "<table border=\"1\" class=\"dataframe\">\n",
       "  <thead>\n",
       "    <tr style=\"text-align: right;\">\n",
       "      <th></th>\n",
       "      <th>sex</th>\n",
       "      <th>age</th>\n",
       "      <th>income_bracket</th>\n",
       "      <th>year</th>\n",
       "      <th>total_sum_sek_millions</th>\n",
       "      <th>number_of_persons</th>\n",
       "      <th>region_name</th>\n",
       "      <th>level_of_education</th>\n",
       "    </tr>\n",
       "  </thead>\n",
       "  <tbody>\n",
       "    <tr>\n",
       "      <th>0</th>\n",
       "      <td>Man</td>\n",
       "      <td>16-19</td>\n",
       "      <td>TOT</td>\n",
       "      <td>2018</td>\n",
       "      <td>547.9</td>\n",
       "      <td>38091</td>\n",
       "      <td>Stockholm</td>\n",
       "      <td>primary/lower secondary</td>\n",
       "    </tr>\n",
       "    <tr>\n",
       "      <th>1</th>\n",
       "      <td>Man</td>\n",
       "      <td>16-19</td>\n",
       "      <td>0</td>\n",
       "      <td>2018</td>\n",
       "      <td>0.0</td>\n",
       "      <td>13357</td>\n",
       "      <td>Stockholm</td>\n",
       "      <td>primary/lower secondary</td>\n",
       "    </tr>\n",
       "    <tr>\n",
       "      <th>2</th>\n",
       "      <td>Man</td>\n",
       "      <td>16-19</td>\n",
       "      <td>1-19</td>\n",
       "      <td>2018</td>\n",
       "      <td>137.9</td>\n",
       "      <td>17417</td>\n",
       "      <td>Stockholm</td>\n",
       "      <td>primary/lower secondary</td>\n",
       "    </tr>\n",
       "    <tr>\n",
       "      <th>3</th>\n",
       "      <td>Man</td>\n",
       "      <td>16-19</td>\n",
       "      <td>20-39</td>\n",
       "      <td>2018</td>\n",
       "      <td>106.1</td>\n",
       "      <td>3763</td>\n",
       "      <td>Stockholm</td>\n",
       "      <td>primary/lower secondary</td>\n",
       "    </tr>\n",
       "    <tr>\n",
       "      <th>4</th>\n",
       "      <td>Man</td>\n",
       "      <td>16-19</td>\n",
       "      <td>40-59</td>\n",
       "      <td>2018</td>\n",
       "      <td>77.2</td>\n",
       "      <td>1574</td>\n",
       "      <td>Stockholm</td>\n",
       "      <td>primary/lower secondary</td>\n",
       "    </tr>\n",
       "    <tr>\n",
       "      <th>...</th>\n",
       "      <td>...</td>\n",
       "      <td>...</td>\n",
       "      <td>...</td>\n",
       "      <td>...</td>\n",
       "      <td>...</td>\n",
       "      <td>...</td>\n",
       "      <td>...</td>\n",
       "      <td>...</td>\n",
       "    </tr>\n",
       "    <tr>\n",
       "      <th>409255</th>\n",
       "      <td>Woman</td>\n",
       "      <td>65-69</td>\n",
       "      <td>80-99</td>\n",
       "      <td>2012</td>\n",
       "      <td>0.9</td>\n",
       "      <td>10</td>\n",
       "      <td>Norrbotten</td>\n",
       "      <td>unknown</td>\n",
       "    </tr>\n",
       "    <tr>\n",
       "      <th>409256</th>\n",
       "      <td>Woman</td>\n",
       "      <td>70-75</td>\n",
       "      <td>TOT</td>\n",
       "      <td>2012</td>\n",
       "      <td>2.4</td>\n",
       "      <td>36</td>\n",
       "      <td>Norrbotten</td>\n",
       "      <td>unknown</td>\n",
       "    </tr>\n",
       "    <tr>\n",
       "      <th>409257</th>\n",
       "      <td>Woman</td>\n",
       "      <td>70-75</td>\n",
       "      <td>0</td>\n",
       "      <td>2012</td>\n",
       "      <td>0.0</td>\n",
       "      <td>11</td>\n",
       "      <td>Norrbotten</td>\n",
       "      <td>unknown</td>\n",
       "    </tr>\n",
       "    <tr>\n",
       "      <th>409258</th>\n",
       "      <td>Woman</td>\n",
       "      <td>70-75</td>\n",
       "      <td>1-19</td>\n",
       "      <td>2012</td>\n",
       "      <td>0.1</td>\n",
       "      <td>6</td>\n",
       "      <td>Norrbotten</td>\n",
       "      <td>unknown</td>\n",
       "    </tr>\n",
       "    <tr>\n",
       "      <th>409259</th>\n",
       "      <td>Woman</td>\n",
       "      <td>70-75</td>\n",
       "      <td>80-99</td>\n",
       "      <td>2012</td>\n",
       "      <td>0.6</td>\n",
       "      <td>6</td>\n",
       "      <td>Norrbotten</td>\n",
       "      <td>unknown</td>\n",
       "    </tr>\n",
       "  </tbody>\n",
       "</table>\n",
       "<p>409260 rows × 8 columns</p>\n",
       "</div>"
      ],
      "text/plain": [
       "\n",
       "          sex    age income_bracket  year  total_sum_sek_millions  \\\n",
       "\u001b[1;36m0\u001b[0m         Man  \u001b[1;36m16\u001b[0m-\u001b[1;36m19\u001b[0m            TOT  \u001b[1;36m2018\u001b[0m                   \u001b[1;36m547.9\u001b[0m   \n",
       "\u001b[1;36m1\u001b[0m         Man  \u001b[1;36m16\u001b[0m-\u001b[1;36m19\u001b[0m              \u001b[1;36m0\u001b[0m  \u001b[1;36m2018\u001b[0m                     \u001b[1;36m0.0\u001b[0m   \n",
       "\u001b[1;36m2\u001b[0m         Man  \u001b[1;36m16\u001b[0m-\u001b[1;36m19\u001b[0m           \u001b[1;36m1\u001b[0m-\u001b[1;36m19\u001b[0m  \u001b[1;36m2018\u001b[0m                   \u001b[1;36m137.9\u001b[0m   \n",
       "\u001b[1;36m3\u001b[0m         Man  \u001b[1;36m16\u001b[0m-\u001b[1;36m19\u001b[0m          \u001b[1;36m20\u001b[0m-\u001b[1;36m39\u001b[0m  \u001b[1;36m2018\u001b[0m                   \u001b[1;36m106.1\u001b[0m   \n",
       "\u001b[1;36m4\u001b[0m         Man  \u001b[1;36m16\u001b[0m-\u001b[1;36m19\u001b[0m          \u001b[1;36m40\u001b[0m-\u001b[1;36m59\u001b[0m  \u001b[1;36m2018\u001b[0m                    \u001b[1;36m77.2\u001b[0m   \n",
       "\u001b[33m...\u001b[0m       \u001b[33m...\u001b[0m    \u001b[33m...\u001b[0m            \u001b[33m...\u001b[0m   \u001b[33m...\u001b[0m                     \u001b[33m...\u001b[0m   \n",
       "\u001b[1;36m409255\u001b[0m  Woman  \u001b[1;36m65\u001b[0m-\u001b[1;36m69\u001b[0m          \u001b[1;36m80\u001b[0m-\u001b[1;36m99\u001b[0m  \u001b[1;36m2012\u001b[0m                     \u001b[1;36m0.9\u001b[0m   \n",
       "\u001b[1;36m409256\u001b[0m  Woman  \u001b[1;36m70\u001b[0m-\u001b[1;36m75\u001b[0m            TOT  \u001b[1;36m2012\u001b[0m                     \u001b[1;36m2.4\u001b[0m   \n",
       "\u001b[1;36m409257\u001b[0m  Woman  \u001b[1;36m70\u001b[0m-\u001b[1;36m75\u001b[0m              \u001b[1;36m0\u001b[0m  \u001b[1;36m2012\u001b[0m                     \u001b[1;36m0.0\u001b[0m   \n",
       "\u001b[1;36m409258\u001b[0m  Woman  \u001b[1;36m70\u001b[0m-\u001b[1;36m75\u001b[0m           \u001b[1;36m1\u001b[0m-\u001b[1;36m19\u001b[0m  \u001b[1;36m2012\u001b[0m                     \u001b[1;36m0.1\u001b[0m   \n",
       "\u001b[1;36m409259\u001b[0m  Woman  \u001b[1;36m70\u001b[0m-\u001b[1;36m75\u001b[0m          \u001b[1;36m80\u001b[0m-\u001b[1;36m99\u001b[0m  \u001b[1;36m2012\u001b[0m                     \u001b[1;36m0.6\u001b[0m   \n",
       "\n",
       "        number_of_persons region_name       level_of_education  \n",
       "\u001b[1;36m0\u001b[0m                   \u001b[1;36m38091\u001b[0m   Stockholm  primary/lower secondary  \n",
       "\u001b[1;36m1\u001b[0m                   \u001b[1;36m13357\u001b[0m   Stockholm  primary/lower secondary  \n",
       "\u001b[1;36m2\u001b[0m                   \u001b[1;36m17417\u001b[0m   Stockholm  primary/lower secondary  \n",
       "\u001b[1;36m3\u001b[0m                    \u001b[1;36m3763\u001b[0m   Stockholm  primary/lower secondary  \n",
       "\u001b[1;36m4\u001b[0m                    \u001b[1;36m1574\u001b[0m   Stockholm  primary/lower secondary  \n",
       "\u001b[33m...\u001b[0m                   \u001b[33m...\u001b[0m         \u001b[33m...\u001b[0m                      \u001b[33m...\u001b[0m  \n",
       "\u001b[1;36m409255\u001b[0m                 \u001b[1;36m10\u001b[0m  Norrbotten                  unknown  \n",
       "\u001b[1;36m409256\u001b[0m                 \u001b[1;36m36\u001b[0m  Norrbotten                  unknown  \n",
       "\u001b[1;36m409257\u001b[0m                 \u001b[1;36m11\u001b[0m  Norrbotten                  unknown  \n",
       "\u001b[1;36m409258\u001b[0m                  \u001b[1;36m6\u001b[0m  Norrbotten                  unknown  \n",
       "\u001b[1;36m409259\u001b[0m                  \u001b[1;36m6\u001b[0m  Norrbotten                  unknown  \n",
       "\n",
       "\u001b[1m[\u001b[0m\u001b[1;36m409260\u001b[0m rows x \u001b[1;36m8\u001b[0m columns\u001b[1m]\u001b[0m"
      ]
     },
     "execution_count": 6,
     "metadata": {},
     "output_type": "execute_result"
    }
   ],
   "source": [
    "data = pd.read_csv(\"../data/manipulated_data.csv\")\n",
    "data"
   ]
  },
  {
   "cell_type": "markdown",
   "id": "48531145",
   "metadata": {},
   "source": [
    "Checking data types"
   ]
  },
  {
   "cell_type": "code",
   "execution_count": 7,
   "id": "7851d407",
   "metadata": {},
   "outputs": [
    {
     "data": {
      "text/html": [
       "<pre style=\"white-space:pre;overflow-x:auto;line-height:normal;font-family:Menlo,'DejaVu Sans Mono',consolas,'Courier New',monospace\"></pre>\n"
      ],
      "text/plain": []
     },
     "metadata": {},
     "output_type": "display_data"
    },
    {
     "data": {
      "text/plain": [
       "\n",
       "sex                        object\n",
       "age                        object\n",
       "income_bracket             object\n",
       "year                        int64\n",
       "total_sum_sek_millions    float64\n",
       "number_of_persons           int64\n",
       "region_name                object\n",
       "level_of_education         object\n",
       "dtype: object"
      ]
     },
     "execution_count": 7,
     "metadata": {},
     "output_type": "execute_result"
    }
   ],
   "source": [
    "data.dtypes"
   ]
  },
  {
   "cell_type": "markdown",
   "id": "e33773af",
   "metadata": {},
   "source": [
    "To set data types correctly for each column the function and type map from assignment 1 is used."
   ]
  },
  {
   "cell_type": "code",
   "execution_count": 35,
   "id": "ebe7e079",
   "metadata": {},
   "outputs": [],
   "source": [
    "def convert_types(type_map, df):\n",
    "    for item in type_map.items():\n",
    "        if item[1] == \"int64\":\n",
    "            df[item[0]] = pd.to_numeric(df[item[0]], errors=\"coerce\").astype(\"Int64\")\n",
    "        elif item[1] == \"float64\":\n",
    "            df[item[0]] = pd.to_numeric(df[item[0]], errors=\"coerce\").astype(\"float64\")\n",
    "        elif item[1] == \"string\":\n",
    "            df[item[0]] = df[item[0]].astype(\"string\")"
   ]
  },
  {
   "cell_type": "code",
   "execution_count": 9,
   "id": "4282c474",
   "metadata": {},
   "outputs": [
    {
     "data": {
      "text/html": [
       "<pre style=\"white-space:pre;overflow-x:auto;line-height:normal;font-family:Menlo,'DejaVu Sans Mono',consolas,'Courier New',monospace\"></pre>\n"
      ],
      "text/plain": []
     },
     "metadata": {},
     "output_type": "display_data"
    },
    {
     "data": {
      "text/plain": [
       "\n",
       "sex                       string\u001b[1m[\u001b[0mpython\u001b[1m]\u001b[0m\n",
       "age                       string\u001b[1m[\u001b[0mpython\u001b[1m]\u001b[0m\n",
       "income_bracket            string\u001b[1m[\u001b[0mpython\u001b[1m]\u001b[0m\n",
       "year                               Int64\n",
       "total_sum_sek_millions           float64\n",
       "number_of_persons                  Int64\n",
       "region_name               string\u001b[1m[\u001b[0mpython\u001b[1m]\u001b[0m\n",
       "level_of_education        string\u001b[1m[\u001b[0mpython\u001b[1m]\u001b[0m\n",
       "dtype: object"
      ]
     },
     "execution_count": 9,
     "metadata": {},
     "output_type": "execute_result"
    }
   ],
   "source": [
    "type_map_data = {\n",
    "    \"region_name\": \"string\",\n",
    "    \"level_of_education\": \"string\",\n",
    "    \"sex\": \"string\",\n",
    "    \"age\": \"string\",\n",
    "    \"income_bracket\": \"string\",\n",
    "    \"year\": \"int64\",\n",
    "    \"total_sum_sek_millions\": \"float64\",\n",
    "    \"number_of_persons\": \"int64\",\n",
    "}\n",
    "\n",
    "convert_types(type_map_data, data)\n",
    "data.dtypes"
   ]
  },
  {
   "cell_type": "markdown",
   "id": "f2a7186a",
   "metadata": {},
   "source": [
    "I will try to classify which age the test instances has based on their features."
   ]
  },
  {
   "cell_type": "code",
   "execution_count": 10,
   "id": "a3ab7b38",
   "metadata": {},
   "outputs": [
    {
     "data": {
      "text/html": [
       "<pre style=\"white-space:pre;overflow-x:auto;line-height:normal;font-family:Menlo,'DejaVu Sans Mono',consolas,'Courier New',monospace\"></pre>\n"
      ],
      "text/plain": []
     },
     "metadata": {},
     "output_type": "display_data"
    },
    {
     "data": {
      "text/plain": [
       "\u001b[1m[\u001b[0m\u001b[32m'16-19'\u001b[0m, \u001b[32m'20-29'\u001b[0m, \u001b[32m'30-39'\u001b[0m, \u001b[32m'40-49'\u001b[0m, \u001b[32m'50-59'\u001b[0m, \u001b[32m'60-64'\u001b[0m, \u001b[32m'65-69'\u001b[0m, \u001b[32m'70-75'\u001b[0m\u001b[1m]\u001b[0m"
      ]
     },
     "execution_count": 10,
     "metadata": {},
     "output_type": "execute_result"
    }
   ],
   "source": [
    "data[\"age\"].unique().tolist()"
   ]
  },
  {
   "cell_type": "markdown",
   "id": "68eb6d24",
   "metadata": {},
   "source": [
    "Number of instances for each age bin"
   ]
  },
  {
   "cell_type": "code",
   "execution_count": 11,
   "id": "7c0073c4",
   "metadata": {},
   "outputs": [
    {
     "data": {
      "text/html": [
       "<pre style=\"white-space:pre;overflow-x:auto;line-height:normal;font-family:Menlo,'DejaVu Sans Mono',consolas,'Courier New',monospace\"></pre>\n"
      ],
      "text/plain": []
     },
     "metadata": {},
     "output_type": "display_data"
    },
    {
     "data": {
      "text/plain": [
       "\n",
       "age\n",
       "\u001b[1;36m30\u001b[0m-\u001b[1;36m39\u001b[0m    \u001b[1;36m58938\u001b[0m\n",
       "\u001b[1;36m40\u001b[0m-\u001b[1;36m49\u001b[0m    \u001b[1;36m57395\u001b[0m\n",
       "\u001b[1;36m20\u001b[0m-\u001b[1;36m29\u001b[0m    \u001b[1;36m57333\u001b[0m\n",
       "\u001b[1;36m50\u001b[0m-\u001b[1;36m59\u001b[0m    \u001b[1;36m55641\u001b[0m\n",
       "\u001b[1;36m60\u001b[0m-\u001b[1;36m64\u001b[0m    \u001b[1;36m53044\u001b[0m\n",
       "\u001b[1;36m65\u001b[0m-\u001b[1;36m69\u001b[0m    \u001b[1;36m52566\u001b[0m\n",
       "\u001b[1;36m70\u001b[0m-\u001b[1;36m75\u001b[0m    \u001b[1;36m50595\u001b[0m\n",
       "\u001b[1;36m16\u001b[0m-\u001b[1;36m19\u001b[0m    \u001b[1;36m23748\u001b[0m\n",
       "Name: count, dtype: Int64"
      ]
     },
     "execution_count": 11,
     "metadata": {},
     "output_type": "execute_result"
    }
   ],
   "source": [
    "data[\"age\"].value_counts()"
   ]
  },
  {
   "cell_type": "markdown",
   "id": "018ddeba",
   "metadata": {},
   "source": [
    "Removing the TOT rows from income bracket beacause I believe it will not help the model and it doesn't make sense to keep it for this task."
   ]
  },
  {
   "cell_type": "code",
   "execution_count": 12,
   "id": "ab4568cd",
   "metadata": {},
   "outputs": [
    {
     "data": {
      "text/html": [
       "<pre style=\"white-space:pre;overflow-x:auto;line-height:normal;font-family:Menlo,'DejaVu Sans Mono',consolas,'Courier New',monospace\"></pre>\n"
      ],
      "text/plain": []
     },
     "metadata": {},
     "output_type": "display_data"
    },
    {
     "data": {
      "text/html": [
       "<div>\n",
       "<style scoped>\n",
       "    .dataframe tbody tr th:only-of-type {\n",
       "        vertical-align: middle;\n",
       "    }\n",
       "\n",
       "    .dataframe tbody tr th {\n",
       "        vertical-align: top;\n",
       "    }\n",
       "\n",
       "    .dataframe thead th {\n",
       "        text-align: right;\n",
       "    }\n",
       "</style>\n",
       "<table border=\"1\" class=\"dataframe\">\n",
       "  <thead>\n",
       "    <tr style=\"text-align: right;\">\n",
       "      <th></th>\n",
       "      <th>sex</th>\n",
       "      <th>age</th>\n",
       "      <th>income_bracket</th>\n",
       "      <th>year</th>\n",
       "      <th>total_sum_sek_millions</th>\n",
       "      <th>number_of_persons</th>\n",
       "      <th>region_name</th>\n",
       "      <th>level_of_education</th>\n",
       "    </tr>\n",
       "  </thead>\n",
       "  <tbody>\n",
       "    <tr>\n",
       "      <th>1</th>\n",
       "      <td>Man</td>\n",
       "      <td>16-19</td>\n",
       "      <td>0</td>\n",
       "      <td>2018</td>\n",
       "      <td>0.0</td>\n",
       "      <td>13357</td>\n",
       "      <td>Stockholm</td>\n",
       "      <td>primary/lower secondary</td>\n",
       "    </tr>\n",
       "    <tr>\n",
       "      <th>2</th>\n",
       "      <td>Man</td>\n",
       "      <td>16-19</td>\n",
       "      <td>1-19</td>\n",
       "      <td>2018</td>\n",
       "      <td>137.9</td>\n",
       "      <td>17417</td>\n",
       "      <td>Stockholm</td>\n",
       "      <td>primary/lower secondary</td>\n",
       "    </tr>\n",
       "    <tr>\n",
       "      <th>3</th>\n",
       "      <td>Man</td>\n",
       "      <td>16-19</td>\n",
       "      <td>20-39</td>\n",
       "      <td>2018</td>\n",
       "      <td>106.1</td>\n",
       "      <td>3763</td>\n",
       "      <td>Stockholm</td>\n",
       "      <td>primary/lower secondary</td>\n",
       "    </tr>\n",
       "    <tr>\n",
       "      <th>4</th>\n",
       "      <td>Man</td>\n",
       "      <td>16-19</td>\n",
       "      <td>40-59</td>\n",
       "      <td>2018</td>\n",
       "      <td>77.2</td>\n",
       "      <td>1574</td>\n",
       "      <td>Stockholm</td>\n",
       "      <td>primary/lower secondary</td>\n",
       "    </tr>\n",
       "    <tr>\n",
       "      <th>5</th>\n",
       "      <td>Man</td>\n",
       "      <td>16-19</td>\n",
       "      <td>60-79</td>\n",
       "      <td>2018</td>\n",
       "      <td>50.9</td>\n",
       "      <td>745</td>\n",
       "      <td>Stockholm</td>\n",
       "      <td>primary/lower secondary</td>\n",
       "    </tr>\n",
       "    <tr>\n",
       "      <th>...</th>\n",
       "      <td>...</td>\n",
       "      <td>...</td>\n",
       "      <td>...</td>\n",
       "      <td>...</td>\n",
       "      <td>...</td>\n",
       "      <td>...</td>\n",
       "      <td>...</td>\n",
       "      <td>...</td>\n",
       "    </tr>\n",
       "    <tr>\n",
       "      <th>409254</th>\n",
       "      <td>Woman</td>\n",
       "      <td>65-69</td>\n",
       "      <td>1-19</td>\n",
       "      <td>2012</td>\n",
       "      <td>0.0</td>\n",
       "      <td>4</td>\n",
       "      <td>Norrbotten</td>\n",
       "      <td>unknown</td>\n",
       "    </tr>\n",
       "    <tr>\n",
       "      <th>409255</th>\n",
       "      <td>Woman</td>\n",
       "      <td>65-69</td>\n",
       "      <td>80-99</td>\n",
       "      <td>2012</td>\n",
       "      <td>0.9</td>\n",
       "      <td>10</td>\n",
       "      <td>Norrbotten</td>\n",
       "      <td>unknown</td>\n",
       "    </tr>\n",
       "    <tr>\n",
       "      <th>409257</th>\n",
       "      <td>Woman</td>\n",
       "      <td>70-75</td>\n",
       "      <td>0</td>\n",
       "      <td>2012</td>\n",
       "      <td>0.0</td>\n",
       "      <td>11</td>\n",
       "      <td>Norrbotten</td>\n",
       "      <td>unknown</td>\n",
       "    </tr>\n",
       "    <tr>\n",
       "      <th>409258</th>\n",
       "      <td>Woman</td>\n",
       "      <td>70-75</td>\n",
       "      <td>1-19</td>\n",
       "      <td>2012</td>\n",
       "      <td>0.1</td>\n",
       "      <td>6</td>\n",
       "      <td>Norrbotten</td>\n",
       "      <td>unknown</td>\n",
       "    </tr>\n",
       "    <tr>\n",
       "      <th>409259</th>\n",
       "      <td>Woman</td>\n",
       "      <td>70-75</td>\n",
       "      <td>80-99</td>\n",
       "      <td>2012</td>\n",
       "      <td>0.6</td>\n",
       "      <td>6</td>\n",
       "      <td>Norrbotten</td>\n",
       "      <td>unknown</td>\n",
       "    </tr>\n",
       "  </tbody>\n",
       "</table>\n",
       "<p>389844 rows × 8 columns</p>\n",
       "</div>"
      ],
      "text/plain": [
       "\n",
       "          sex    age income_bracket  year  total_sum_sek_millions  \\\n",
       "\u001b[1;36m1\u001b[0m         Man  \u001b[1;36m16\u001b[0m-\u001b[1;36m19\u001b[0m              \u001b[1;36m0\u001b[0m  \u001b[1;36m2018\u001b[0m                     \u001b[1;36m0.0\u001b[0m   \n",
       "\u001b[1;36m2\u001b[0m         Man  \u001b[1;36m16\u001b[0m-\u001b[1;36m19\u001b[0m           \u001b[1;36m1\u001b[0m-\u001b[1;36m19\u001b[0m  \u001b[1;36m2018\u001b[0m                   \u001b[1;36m137.9\u001b[0m   \n",
       "\u001b[1;36m3\u001b[0m         Man  \u001b[1;36m16\u001b[0m-\u001b[1;36m19\u001b[0m          \u001b[1;36m20\u001b[0m-\u001b[1;36m39\u001b[0m  \u001b[1;36m2018\u001b[0m                   \u001b[1;36m106.1\u001b[0m   \n",
       "\u001b[1;36m4\u001b[0m         Man  \u001b[1;36m16\u001b[0m-\u001b[1;36m19\u001b[0m          \u001b[1;36m40\u001b[0m-\u001b[1;36m59\u001b[0m  \u001b[1;36m2018\u001b[0m                    \u001b[1;36m77.2\u001b[0m   \n",
       "\u001b[1;36m5\u001b[0m         Man  \u001b[1;36m16\u001b[0m-\u001b[1;36m19\u001b[0m          \u001b[1;36m60\u001b[0m-\u001b[1;36m79\u001b[0m  \u001b[1;36m2018\u001b[0m                    \u001b[1;36m50.9\u001b[0m   \n",
       "\u001b[33m...\u001b[0m       \u001b[33m...\u001b[0m    \u001b[33m...\u001b[0m            \u001b[33m...\u001b[0m   \u001b[33m...\u001b[0m                     \u001b[33m...\u001b[0m   \n",
       "\u001b[1;36m409254\u001b[0m  Woman  \u001b[1;36m65\u001b[0m-\u001b[1;36m69\u001b[0m           \u001b[1;36m1\u001b[0m-\u001b[1;36m19\u001b[0m  \u001b[1;36m2012\u001b[0m                     \u001b[1;36m0.0\u001b[0m   \n",
       "\u001b[1;36m409255\u001b[0m  Woman  \u001b[1;36m65\u001b[0m-\u001b[1;36m69\u001b[0m          \u001b[1;36m80\u001b[0m-\u001b[1;36m99\u001b[0m  \u001b[1;36m2012\u001b[0m                     \u001b[1;36m0.9\u001b[0m   \n",
       "\u001b[1;36m409257\u001b[0m  Woman  \u001b[1;36m70\u001b[0m-\u001b[1;36m75\u001b[0m              \u001b[1;36m0\u001b[0m  \u001b[1;36m2012\u001b[0m                     \u001b[1;36m0.0\u001b[0m   \n",
       "\u001b[1;36m409258\u001b[0m  Woman  \u001b[1;36m70\u001b[0m-\u001b[1;36m75\u001b[0m           \u001b[1;36m1\u001b[0m-\u001b[1;36m19\u001b[0m  \u001b[1;36m2012\u001b[0m                     \u001b[1;36m0.1\u001b[0m   \n",
       "\u001b[1;36m409259\u001b[0m  Woman  \u001b[1;36m70\u001b[0m-\u001b[1;36m75\u001b[0m          \u001b[1;36m80\u001b[0m-\u001b[1;36m99\u001b[0m  \u001b[1;36m2012\u001b[0m                     \u001b[1;36m0.6\u001b[0m   \n",
       "\n",
       "        number_of_persons region_name       level_of_education  \n",
       "\u001b[1;36m1\u001b[0m                   \u001b[1;36m13357\u001b[0m   Stockholm  primary/lower secondary  \n",
       "\u001b[1;36m2\u001b[0m                   \u001b[1;36m17417\u001b[0m   Stockholm  primary/lower secondary  \n",
       "\u001b[1;36m3\u001b[0m                    \u001b[1;36m3763\u001b[0m   Stockholm  primary/lower secondary  \n",
       "\u001b[1;36m4\u001b[0m                    \u001b[1;36m1574\u001b[0m   Stockholm  primary/lower secondary  \n",
       "\u001b[1;36m5\u001b[0m                     \u001b[1;36m745\u001b[0m   Stockholm  primary/lower secondary  \n",
       "\u001b[33m...\u001b[0m                   \u001b[33m...\u001b[0m         \u001b[33m...\u001b[0m                      \u001b[33m...\u001b[0m  \n",
       "\u001b[1;36m409254\u001b[0m                  \u001b[1;36m4\u001b[0m  Norrbotten                  unknown  \n",
       "\u001b[1;36m409255\u001b[0m                 \u001b[1;36m10\u001b[0m  Norrbotten                  unknown  \n",
       "\u001b[1;36m409257\u001b[0m                 \u001b[1;36m11\u001b[0m  Norrbotten                  unknown  \n",
       "\u001b[1;36m409258\u001b[0m                  \u001b[1;36m6\u001b[0m  Norrbotten                  unknown  \n",
       "\u001b[1;36m409259\u001b[0m                  \u001b[1;36m6\u001b[0m  Norrbotten                  unknown  \n",
       "\n",
       "\u001b[1m[\u001b[0m\u001b[1;36m389844\u001b[0m rows x \u001b[1;36m8\u001b[0m columns\u001b[1m]\u001b[0m"
      ]
     },
     "execution_count": 12,
     "metadata": {},
     "output_type": "execute_result"
    }
   ],
   "source": [
    "data = data[data[\"income_bracket\"] != \"TOT\"]\n",
    "\n",
    "data"
   ]
  },
  {
   "cell_type": "markdown",
   "id": "58f15dee",
   "metadata": {},
   "source": [
    "Age map for hopefully boosting performance a bit."
   ]
  },
  {
   "cell_type": "code",
   "execution_count": 13,
   "id": "8f737ac2",
   "metadata": {},
   "outputs": [],
   "source": [
    "age_map = {\"16-19\": 0, \"20-29\": 1, \"30-39\": 2, \"40-49\": 3, \"50-59\": 4, \"60-64\": 5, \"65-69\": 6, \"70-75\": 7}"
   ]
  },
  {
   "cell_type": "code",
   "execution_count": 14,
   "id": "41f8ab09",
   "metadata": {},
   "outputs": [
    {
     "data": {
      "text/html": [
       "<pre style=\"white-space:pre;overflow-x:auto;line-height:normal;font-family:Menlo,'DejaVu Sans Mono',consolas,'Courier New',monospace\"></pre>\n"
      ],
      "text/plain": []
     },
     "metadata": {},
     "output_type": "display_data"
    },
    {
     "data": {
      "text/plain": [
       "\u001b[1m[\u001b[0m\u001b[1;36m0\u001b[0m, \u001b[1;36m1\u001b[0m, \u001b[1;36m2\u001b[0m, \u001b[1;36m3\u001b[0m, \u001b[1;36m4\u001b[0m, \u001b[1;36m5\u001b[0m, \u001b[1;36m6\u001b[0m, \u001b[1;36m7\u001b[0m\u001b[1m]\u001b[0m"
      ]
     },
     "execution_count": 14,
     "metadata": {},
     "output_type": "execute_result"
    }
   ],
   "source": [
    "data = data.copy()\n",
    "data[\"age\"] = data[\"age\"].map(age_map).astype(\"int64\")\n",
    "\n",
    "data[\"age\"].unique().tolist()"
   ]
  },
  {
   "cell_type": "code",
   "execution_count": 15,
   "id": "80de6dfb",
   "metadata": {},
   "outputs": [
    {
     "data": {
      "text/html": [
       "<pre style=\"white-space:pre;overflow-x:auto;line-height:normal;font-family:Menlo,'DejaVu Sans Mono',consolas,'Courier New',monospace\"></pre>\n"
      ],
      "text/plain": []
     },
     "metadata": {},
     "output_type": "display_data"
    },
    {
     "data": {
      "text/html": [
       "<div>\n",
       "<style scoped>\n",
       "    .dataframe tbody tr th:only-of-type {\n",
       "        vertical-align: middle;\n",
       "    }\n",
       "\n",
       "    .dataframe tbody tr th {\n",
       "        vertical-align: top;\n",
       "    }\n",
       "\n",
       "    .dataframe thead th {\n",
       "        text-align: right;\n",
       "    }\n",
       "</style>\n",
       "<table border=\"1\" class=\"dataframe\">\n",
       "  <thead>\n",
       "    <tr style=\"text-align: right;\">\n",
       "      <th></th>\n",
       "      <th>age</th>\n",
       "    </tr>\n",
       "  </thead>\n",
       "  <tbody>\n",
       "    <tr>\n",
       "      <th>1</th>\n",
       "      <td>0</td>\n",
       "    </tr>\n",
       "    <tr>\n",
       "      <th>2</th>\n",
       "      <td>0</td>\n",
       "    </tr>\n",
       "    <tr>\n",
       "      <th>3</th>\n",
       "      <td>0</td>\n",
       "    </tr>\n",
       "    <tr>\n",
       "      <th>4</th>\n",
       "      <td>0</td>\n",
       "    </tr>\n",
       "    <tr>\n",
       "      <th>5</th>\n",
       "      <td>0</td>\n",
       "    </tr>\n",
       "    <tr>\n",
       "      <th>...</th>\n",
       "      <td>...</td>\n",
       "    </tr>\n",
       "    <tr>\n",
       "      <th>409254</th>\n",
       "      <td>6</td>\n",
       "    </tr>\n",
       "    <tr>\n",
       "      <th>409255</th>\n",
       "      <td>6</td>\n",
       "    </tr>\n",
       "    <tr>\n",
       "      <th>409257</th>\n",
       "      <td>7</td>\n",
       "    </tr>\n",
       "    <tr>\n",
       "      <th>409258</th>\n",
       "      <td>7</td>\n",
       "    </tr>\n",
       "    <tr>\n",
       "      <th>409259</th>\n",
       "      <td>7</td>\n",
       "    </tr>\n",
       "  </tbody>\n",
       "</table>\n",
       "<p>389844 rows × 1 columns</p>\n",
       "</div>"
      ],
      "text/plain": [
       "\n",
       "        age\n",
       "\u001b[1;36m1\u001b[0m         \u001b[1;36m0\u001b[0m\n",
       "\u001b[1;36m2\u001b[0m         \u001b[1;36m0\u001b[0m\n",
       "\u001b[1;36m3\u001b[0m         \u001b[1;36m0\u001b[0m\n",
       "\u001b[1;36m4\u001b[0m         \u001b[1;36m0\u001b[0m\n",
       "\u001b[1;36m5\u001b[0m         \u001b[1;36m0\u001b[0m\n",
       "\u001b[33m...\u001b[0m     \u001b[33m...\u001b[0m\n",
       "\u001b[1;36m409254\u001b[0m    \u001b[1;36m6\u001b[0m\n",
       "\u001b[1;36m409255\u001b[0m    \u001b[1;36m6\u001b[0m\n",
       "\u001b[1;36m409257\u001b[0m    \u001b[1;36m7\u001b[0m\n",
       "\u001b[1;36m409258\u001b[0m    \u001b[1;36m7\u001b[0m\n",
       "\u001b[1;36m409259\u001b[0m    \u001b[1;36m7\u001b[0m\n",
       "\n",
       "\u001b[1m[\u001b[0m\u001b[1;36m389844\u001b[0m rows x \u001b[1;36m1\u001b[0m columns\u001b[1m]\u001b[0m"
      ]
     },
     "execution_count": 15,
     "metadata": {},
     "output_type": "execute_result"
    }
   ],
   "source": [
    "labels = data[[\"age\"]]\n",
    "labels"
   ]
  },
  {
   "cell_type": "markdown",
   "id": "24eecd50",
   "metadata": {},
   "source": [
    "I will use all features in the first experiment."
   ]
  },
  {
   "cell_type": "code",
   "execution_count": 16,
   "id": "b870a328",
   "metadata": {},
   "outputs": [
    {
     "data": {
      "text/html": [
       "<pre style=\"white-space:pre;overflow-x:auto;line-height:normal;font-family:Menlo,'DejaVu Sans Mono',consolas,'Courier New',monospace\"></pre>\n"
      ],
      "text/plain": []
     },
     "metadata": {},
     "output_type": "display_data"
    },
    {
     "data": {
      "text/html": [
       "<div>\n",
       "<style scoped>\n",
       "    .dataframe tbody tr th:only-of-type {\n",
       "        vertical-align: middle;\n",
       "    }\n",
       "\n",
       "    .dataframe tbody tr th {\n",
       "        vertical-align: top;\n",
       "    }\n",
       "\n",
       "    .dataframe thead th {\n",
       "        text-align: right;\n",
       "    }\n",
       "</style>\n",
       "<table border=\"1\" class=\"dataframe\">\n",
       "  <thead>\n",
       "    <tr style=\"text-align: right;\">\n",
       "      <th></th>\n",
       "      <th>sex</th>\n",
       "      <th>income_bracket</th>\n",
       "      <th>year</th>\n",
       "      <th>total_sum_sek_millions</th>\n",
       "      <th>number_of_persons</th>\n",
       "      <th>region_name</th>\n",
       "      <th>level_of_education</th>\n",
       "    </tr>\n",
       "  </thead>\n",
       "  <tbody>\n",
       "    <tr>\n",
       "      <th>1</th>\n",
       "      <td>Man</td>\n",
       "      <td>0</td>\n",
       "      <td>2018</td>\n",
       "      <td>0.0</td>\n",
       "      <td>13357</td>\n",
       "      <td>Stockholm</td>\n",
       "      <td>primary/lower secondary</td>\n",
       "    </tr>\n",
       "    <tr>\n",
       "      <th>2</th>\n",
       "      <td>Man</td>\n",
       "      <td>1-19</td>\n",
       "      <td>2018</td>\n",
       "      <td>137.9</td>\n",
       "      <td>17417</td>\n",
       "      <td>Stockholm</td>\n",
       "      <td>primary/lower secondary</td>\n",
       "    </tr>\n",
       "    <tr>\n",
       "      <th>3</th>\n",
       "      <td>Man</td>\n",
       "      <td>20-39</td>\n",
       "      <td>2018</td>\n",
       "      <td>106.1</td>\n",
       "      <td>3763</td>\n",
       "      <td>Stockholm</td>\n",
       "      <td>primary/lower secondary</td>\n",
       "    </tr>\n",
       "    <tr>\n",
       "      <th>4</th>\n",
       "      <td>Man</td>\n",
       "      <td>40-59</td>\n",
       "      <td>2018</td>\n",
       "      <td>77.2</td>\n",
       "      <td>1574</td>\n",
       "      <td>Stockholm</td>\n",
       "      <td>primary/lower secondary</td>\n",
       "    </tr>\n",
       "    <tr>\n",
       "      <th>5</th>\n",
       "      <td>Man</td>\n",
       "      <td>60-79</td>\n",
       "      <td>2018</td>\n",
       "      <td>50.9</td>\n",
       "      <td>745</td>\n",
       "      <td>Stockholm</td>\n",
       "      <td>primary/lower secondary</td>\n",
       "    </tr>\n",
       "    <tr>\n",
       "      <th>...</th>\n",
       "      <td>...</td>\n",
       "      <td>...</td>\n",
       "      <td>...</td>\n",
       "      <td>...</td>\n",
       "      <td>...</td>\n",
       "      <td>...</td>\n",
       "      <td>...</td>\n",
       "    </tr>\n",
       "    <tr>\n",
       "      <th>409254</th>\n",
       "      <td>Woman</td>\n",
       "      <td>1-19</td>\n",
       "      <td>2012</td>\n",
       "      <td>0.0</td>\n",
       "      <td>4</td>\n",
       "      <td>Norrbotten</td>\n",
       "      <td>unknown</td>\n",
       "    </tr>\n",
       "    <tr>\n",
       "      <th>409255</th>\n",
       "      <td>Woman</td>\n",
       "      <td>80-99</td>\n",
       "      <td>2012</td>\n",
       "      <td>0.9</td>\n",
       "      <td>10</td>\n",
       "      <td>Norrbotten</td>\n",
       "      <td>unknown</td>\n",
       "    </tr>\n",
       "    <tr>\n",
       "      <th>409257</th>\n",
       "      <td>Woman</td>\n",
       "      <td>0</td>\n",
       "      <td>2012</td>\n",
       "      <td>0.0</td>\n",
       "      <td>11</td>\n",
       "      <td>Norrbotten</td>\n",
       "      <td>unknown</td>\n",
       "    </tr>\n",
       "    <tr>\n",
       "      <th>409258</th>\n",
       "      <td>Woman</td>\n",
       "      <td>1-19</td>\n",
       "      <td>2012</td>\n",
       "      <td>0.1</td>\n",
       "      <td>6</td>\n",
       "      <td>Norrbotten</td>\n",
       "      <td>unknown</td>\n",
       "    </tr>\n",
       "    <tr>\n",
       "      <th>409259</th>\n",
       "      <td>Woman</td>\n",
       "      <td>80-99</td>\n",
       "      <td>2012</td>\n",
       "      <td>0.6</td>\n",
       "      <td>6</td>\n",
       "      <td>Norrbotten</td>\n",
       "      <td>unknown</td>\n",
       "    </tr>\n",
       "  </tbody>\n",
       "</table>\n",
       "<p>389844 rows × 7 columns</p>\n",
       "</div>"
      ],
      "text/plain": [
       "\n",
       "          sex income_bracket  year  total_sum_sek_millions  number_of_persons  \\\n",
       "\u001b[1;36m1\u001b[0m         Man              \u001b[1;36m0\u001b[0m  \u001b[1;36m2018\u001b[0m                     \u001b[1;36m0.0\u001b[0m              \u001b[1;36m13357\u001b[0m   \n",
       "\u001b[1;36m2\u001b[0m         Man           \u001b[1;36m1\u001b[0m-\u001b[1;36m19\u001b[0m  \u001b[1;36m2018\u001b[0m                   \u001b[1;36m137.9\u001b[0m              \u001b[1;36m17417\u001b[0m   \n",
       "\u001b[1;36m3\u001b[0m         Man          \u001b[1;36m20\u001b[0m-\u001b[1;36m39\u001b[0m  \u001b[1;36m2018\u001b[0m                   \u001b[1;36m106.1\u001b[0m               \u001b[1;36m3763\u001b[0m   \n",
       "\u001b[1;36m4\u001b[0m         Man          \u001b[1;36m40\u001b[0m-\u001b[1;36m59\u001b[0m  \u001b[1;36m2018\u001b[0m                    \u001b[1;36m77.2\u001b[0m               \u001b[1;36m1574\u001b[0m   \n",
       "\u001b[1;36m5\u001b[0m         Man          \u001b[1;36m60\u001b[0m-\u001b[1;36m79\u001b[0m  \u001b[1;36m2018\u001b[0m                    \u001b[1;36m50.9\u001b[0m                \u001b[1;36m745\u001b[0m   \n",
       "\u001b[33m...\u001b[0m       \u001b[33m...\u001b[0m            \u001b[33m...\u001b[0m   \u001b[33m...\u001b[0m                     \u001b[33m...\u001b[0m                \u001b[33m...\u001b[0m   \n",
       "\u001b[1;36m409254\u001b[0m  Woman           \u001b[1;36m1\u001b[0m-\u001b[1;36m19\u001b[0m  \u001b[1;36m2012\u001b[0m                     \u001b[1;36m0.0\u001b[0m                  \u001b[1;36m4\u001b[0m   \n",
       "\u001b[1;36m409255\u001b[0m  Woman          \u001b[1;36m80\u001b[0m-\u001b[1;36m99\u001b[0m  \u001b[1;36m2012\u001b[0m                     \u001b[1;36m0.9\u001b[0m                 \u001b[1;36m10\u001b[0m   \n",
       "\u001b[1;36m409257\u001b[0m  Woman              \u001b[1;36m0\u001b[0m  \u001b[1;36m2012\u001b[0m                     \u001b[1;36m0.0\u001b[0m                 \u001b[1;36m11\u001b[0m   \n",
       "\u001b[1;36m409258\u001b[0m  Woman           \u001b[1;36m1\u001b[0m-\u001b[1;36m19\u001b[0m  \u001b[1;36m2012\u001b[0m                     \u001b[1;36m0.1\u001b[0m                  \u001b[1;36m6\u001b[0m   \n",
       "\u001b[1;36m409259\u001b[0m  Woman          \u001b[1;36m80\u001b[0m-\u001b[1;36m99\u001b[0m  \u001b[1;36m2012\u001b[0m                     \u001b[1;36m0.6\u001b[0m                  \u001b[1;36m6\u001b[0m   \n",
       "\n",
       "       region_name       level_of_education  \n",
       "\u001b[1;36m1\u001b[0m        Stockholm  primary/lower secondary  \n",
       "\u001b[1;36m2\u001b[0m        Stockholm  primary/lower secondary  \n",
       "\u001b[1;36m3\u001b[0m        Stockholm  primary/lower secondary  \n",
       "\u001b[1;36m4\u001b[0m        Stockholm  primary/lower secondary  \n",
       "\u001b[1;36m5\u001b[0m        Stockholm  primary/lower secondary  \n",
       "\u001b[33m...\u001b[0m            \u001b[33m...\u001b[0m                      \u001b[33m...\u001b[0m  \n",
       "\u001b[1;36m409254\u001b[0m  Norrbotten                  unknown  \n",
       "\u001b[1;36m409255\u001b[0m  Norrbotten                  unknown  \n",
       "\u001b[1;36m409257\u001b[0m  Norrbotten                  unknown  \n",
       "\u001b[1;36m409258\u001b[0m  Norrbotten                  unknown  \n",
       "\u001b[1;36m409259\u001b[0m  Norrbotten                  unknown  \n",
       "\n",
       "\u001b[1m[\u001b[0m\u001b[1;36m389844\u001b[0m rows x \u001b[1;36m7\u001b[0m columns\u001b[1m]\u001b[0m"
      ]
     },
     "execution_count": 16,
     "metadata": {},
     "output_type": "execute_result"
    }
   ],
   "source": [
    "features = data.drop(columns=\"age\")\n",
    "features"
   ]
  },
  {
   "cell_type": "markdown",
   "id": "92323618",
   "metadata": {},
   "source": [
    "Below I group the dataset by `level_of_education`, summing `total_sum_sek_millions` and `number_of_persons` for each education level.\n",
    "Then plots each education level as a point, with `number_of_persons` on the x-axis and `total_sum_sek_millions` on the y-axis. Each point is colored by education level.\n",
    "And fits a linear regression model to predict total income (`total_sum_sek_millions`) from population size (`number_of_persons`), using the aggregated data.\n",
    "I include the regression line in the scatterplot.\n",
    "\n",
    "This is done to visualize and model the relationship between population size and total income for each education level, showing both the data points and the overall trend."
   ]
  },
  {
   "cell_type": "code",
   "execution_count": null,
   "id": "328f6d5d",
   "metadata": {},
   "outputs": [
    {
     "data": {
      "text/html": [
       "<pre style=\"white-space:pre;overflow-x:auto;line-height:normal;font-family:Menlo,'DejaVu Sans Mono',consolas,'Courier New',monospace\"></pre>\n"
      ],
      "text/plain": []
     },
     "metadata": {},
     "output_type": "display_data"
    },
    {
     "data": {
      "image/png": "[encoded data removed]",
      "text/plain": [
       "\u001b[1m<\u001b[0m\u001b[1;95mFigure\u001b[0m\u001b[39m size 80\u001b[0m\u001b[1;36m0x600\u001b[0m\u001b[39m with \u001b[0m\u001b[1;36m1\u001b[0m\u001b[39m Axes\u001b[0m\u001b[1m>\u001b[0m"
      ]
     },
     "metadata": {},
     "output_type": "display_data"
    }
   ],
   "source": [
    "edu_group = (\n",
    "    data.groupby(\"level_of_education\").agg({\"total_sum_sek_millions\": \"sum\", \"number_of_persons\": \"sum\"}).reset_index()\n",
    ")\n",
    "\n",
    "plt.figure(figsize=(8, 6))\n",
    "sns.scatterplot(\n",
    "    x=\"number_of_persons\",\n",
    "    y=\"total_sum_sek_millions\",\n",
    "    data=edu_group,\n",
    "    hue=\"level_of_education\",\n",
    "    palette=\"tab10\",\n",
    "    s=100,\n",
    ")\n",
    "\n",
    "X = edu_group[[\"number_of_persons\"]]\n",
    "y = edu_group[\"total_sum_sek_millions\"]\n",
    "model = LinearRegression()\n",
    "model.fit(X, y)\n",
    "xfit = np.linspace(X.min(), X.max(), 100)\n",
    "xfit_df = pd.DataFrame(xfit, columns=[\"number_of_persons\"])\n",
    "yfit = model.predict(xfit_df)\n",
    "plt.plot(xfit, yfit, color=\"orange\", label=\"Linear Regression\")\n",
    "\n",
    "plt.xlabel(\"Number of Persons\")\n",
    "plt.ylabel(\"Total Sum SEK (millions)\")\n",
    "plt.title(\"Income vs. Population by Education Level\")\n",
    "plt.legend()\n",
    "plt.tight_layout()\n",
    "plt.show()"
   ]
  },
  {
   "cell_type": "markdown",
   "id": "37a2a096",
   "metadata": {},
   "source": [
    "This code groups the data by region and education, calculates average income per person, clusters the groups into 4 clusters using k-means, and visualizes the clusters on a log-log scatterplot. This helps to identify patterns or groupings among regions based on income and population, with additional context from education levels."
   ]
  },
  {
   "cell_type": "code",
   "execution_count": null,
   "id": "25857745",
   "metadata": {},
   "outputs": [
    {
     "data": {
      "text/html": [
       "<pre style=\"white-space:pre;overflow-x:auto;line-height:normal;font-family:Menlo,'DejaVu Sans Mono',consolas,'Courier New',monospace\"></pre>\n"
      ],
      "text/plain": []
     },
     "metadata": {},
     "output_type": "display_data"
    },
    {
     "data": {
      "image/png": "[encoded data removed]",
      "text/plain": [
       "\u001b[1m<\u001b[0m\u001b[1;95mFigure\u001b[0m\u001b[39m size 100\u001b[0m\u001b[1;36m0x700\u001b[0m\u001b[39m with \u001b[0m\u001b[1;36m1\u001b[0m\u001b[39m Axes\u001b[0m\u001b[1m>\u001b[0m"
      ]
     },
     "metadata": {},
     "output_type": "display_data"
    }
   ],
   "source": [
    "agg = (\n",
    "    data.groupby([\"region_name\", \"level_of_education\"])\n",
    "    .agg({\"total_sum_sek_millions\": \"sum\", \"number_of_persons\": \"sum\"})\n",
    "    .reset_index()\n",
    ")\n",
    "\n",
    "agg[\"income_per_person\"] = agg[\"total_sum_sek_millions\"] / agg[\"number_of_persons\"]\n",
    "\n",
    "X_agg = agg[[\"income_per_person\", \"number_of_persons\"]].fillna(0)\n",
    "\n",
    "kmeans = KMeans(n_clusters=4, random_state=42)\n",
    "agg[\"cluster\"] = kmeans.fit_predict(X_agg)\n",
    "\n",
    "plt.figure(figsize=(10, 7))\n",
    "sns.scatterplot(\n",
    "    x=\"income_per_person\", y=\"number_of_persons\", hue=\"cluster\", style=\"level_of_education\", data=agg, palette=\"tab10\"\n",
    ")\n",
    "plt.xscale(\"log\")\n",
    "plt.yscale(\"log\")\n",
    "plt.title(\"Clusters of Regions by Income per Person and Population (Log Scale)\")\n",
    "plt.xlabel(\"Income per Person (SEK millions, log)\")\n",
    "plt.ylabel(\"Number of Persons (log)\")\n",
    "plt.legend(bbox_to_anchor=(1.05, 1), loc=\"upper left\")\n",
    "plt.tight_layout()\n",
    "plt.show()"
   ]
  },
  {
   "cell_type": "code",
   "execution_count": null,
   "id": "b796002c",
   "metadata": {},
   "outputs": [
    {
     "data": {
      "text/html": [
       "<pre style=\"white-space:pre;overflow-x:auto;line-height:normal;font-family:Menlo,'DejaVu Sans Mono',consolas,'Courier New',monospace\"></pre>\n"
      ],
      "text/plain": []
     },
     "metadata": {},
     "output_type": "display_data"
    },
    {
     "data": {
      "image/png": "[encoded data removed]",
      "text/plain": [
       "\u001b[1m<\u001b[0m\u001b[1;95mFigure\u001b[0m\u001b[39m size 80\u001b[0m\u001b[1;36m0x600\u001b[0m\u001b[39m with \u001b[0m\u001b[1;36m1\u001b[0m\u001b[39m Axes\u001b[0m\u001b[1m>\u001b[0m"
      ]
     },
     "metadata": {},
     "output_type": "display_data"
    }
   ],
   "source": [
    "\n",
    "\n",
    "X_cluster = data[[\"total_sum_sek_millions\", \"number_of_persons\"]]\n",
    "\n",
    "# Choose number of clusters (e.g., 3)\n",
    "kmeans = KMeans(n_clusters=3, random_state=42)\n",
    "clusters = kmeans.fit_predict(X_cluster)\n",
    "\n",
    "plt.figure(figsize=(8, 6))\n",
    "sns.scatterplot(x=\"total_sum_sek_millions\", y=\"number_of_persons\", data=data, hue=clusters, palette=\"Set1\")\n",
    "plt.title(\"k-Means Clustering\")\n",
    "plt.show()"
   ]
  },
  {
   "cell_type": "code",
   "execution_count": 40,
   "id": "cd2fc73e",
   "metadata": {},
   "outputs": [
    {
     "data": {
      "text/html": [
       "<pre style=\"white-space:pre;overflow-x:auto;line-height:normal;font-family:Menlo,'DejaVu Sans Mono',consolas,'Courier New',monospace\"></pre>\n"
      ],
      "text/plain": []
     },
     "metadata": {},
     "output_type": "display_data"
    },
    {
     "data": {
      "image/png": "[encoded data removed]",
      "text/plain": [
       "\u001b[1m<\u001b[0m\u001b[1;95mFigure\u001b[0m\u001b[39m size 100\u001b[0m\u001b[1;36m0x700\u001b[0m\u001b[39m with \u001b[0m\u001b[1;36m1\u001b[0m\u001b[39m Axes\u001b[0m\u001b[1m>\u001b[0m"
      ]
     },
     "metadata": {},
     "output_type": "display_data"
    }
   ],
   "source": [
    "agg = (\n",
    "    data.groupby([\"region_name\", \"level_of_education\"])\n",
    "    .agg({\"total_sum_sek_millions\": \"sum\", \"number_of_persons\": \"sum\"})\n",
    "    .reset_index()\n",
    ")\n",
    "\n",
    "agg[\"income_per_person\"] = agg[\"total_sum_sek_millions\"] / agg[\"number_of_persons\"]\n",
    "\n",
    "X_agg = agg[[\"income_per_person\", \"number_of_persons\"]].fillna(0)\n",
    "\n",
    "gmm = GaussianMixture(n_components=4, random_state=42)\n",
    "agg[\"cluster\"] = gmm.fit_predict(X_agg)\n",
    "\n",
    "plt.figure(figsize=(10, 7))\n",
    "sns.scatterplot(\n",
    "    x=\"income_per_person\", y=\"number_of_persons\", hue=\"cluster\", style=\"level_of_education\", data=agg, palette=\"tab10\"\n",
    ")\n",
    "plt.xscale(\"log\")\n",
    "plt.yscale(\"log\")\n",
    "plt.title(\"Clusters of Regions by Income per Person and Population (Log Scale)\")\n",
    "plt.xlabel(\"Income per Person (SEK millions, log)\")\n",
    "plt.ylabel(\"Number of Persons (log)\")\n",
    "plt.legend(bbox_to_anchor=(1.05, 1), loc=\"upper left\")\n",
    "plt.tight_layout()\n",
    "plt.show()"
   ]
  },
  {
   "cell_type": "code",
   "execution_count": 341,
   "id": "af586961",
   "metadata": {},
   "outputs": [
    {
     "data": {
      "text/html": [
       "<pre style=\"white-space:pre;overflow-x:auto;line-height:normal;font-family:Menlo,'DejaVu Sans Mono',consolas,'Courier New',monospace\"></pre>\n"
      ],
      "text/plain": []
     },
     "metadata": {},
     "output_type": "display_data"
    },
    {
     "data": {
      "text/html": [
       "<div>\n",
       "<style scoped>\n",
       "    .dataframe tbody tr th:only-of-type {\n",
       "        vertical-align: middle;\n",
       "    }\n",
       "\n",
       "    .dataframe tbody tr th {\n",
       "        vertical-align: top;\n",
       "    }\n",
       "\n",
       "    .dataframe thead th {\n",
       "        text-align: right;\n",
       "    }\n",
       "</style>\n",
       "<table border=\"1\" class=\"dataframe\">\n",
       "  <thead>\n",
       "    <tr style=\"text-align: right;\">\n",
       "      <th></th>\n",
       "      <th>sex</th>\n",
       "      <th>income_bracket</th>\n",
       "      <th>year</th>\n",
       "      <th>total_sum_sek_millions</th>\n",
       "      <th>number_of_persons</th>\n",
       "      <th>region_name</th>\n",
       "      <th>level_of_education</th>\n",
       "    </tr>\n",
       "  </thead>\n",
       "  <tbody>\n",
       "    <tr>\n",
       "      <th>113665</th>\n",
       "      <td>Man</td>\n",
       "      <td>220-239</td>\n",
       "      <td>2020</td>\n",
       "      <td>17.3</td>\n",
       "      <td>75</td>\n",
       "      <td>Uppsala</td>\n",
       "      <td>post-secondary</td>\n",
       "    </tr>\n",
       "    <tr>\n",
       "      <th>346363</th>\n",
       "      <td>Man</td>\n",
       "      <td>400-499</td>\n",
       "      <td>2013</td>\n",
       "      <td>124.8</td>\n",
       "      <td>285</td>\n",
       "      <td>Dalarna</td>\n",
       "      <td>primary/lower secondary</td>\n",
       "    </tr>\n",
       "    <tr>\n",
       "      <th>261373</th>\n",
       "      <td>Man</td>\n",
       "      <td>1000+</td>\n",
       "      <td>2015</td>\n",
       "      <td>9.1</td>\n",
       "      <td>7</td>\n",
       "      <td>Värmland</td>\n",
       "      <td>primary/lower secondary</td>\n",
       "    </tr>\n",
       "    <tr>\n",
       "      <th>38648</th>\n",
       "      <td>Woman</td>\n",
       "      <td>140-159</td>\n",
       "      <td>2011</td>\n",
       "      <td>60.9</td>\n",
       "      <td>407</td>\n",
       "      <td>Blekinge</td>\n",
       "      <td>upper secondary</td>\n",
       "    </tr>\n",
       "    <tr>\n",
       "      <th>262689</th>\n",
       "      <td>Man</td>\n",
       "      <td>120-139</td>\n",
       "      <td>2015</td>\n",
       "      <td>13.5</td>\n",
       "      <td>103</td>\n",
       "      <td>Örebro</td>\n",
       "      <td>primary/lower secondary</td>\n",
       "    </tr>\n",
       "    <tr>\n",
       "      <th>...</th>\n",
       "      <td>...</td>\n",
       "      <td>...</td>\n",
       "      <td>...</td>\n",
       "      <td>...</td>\n",
       "      <td>...</td>\n",
       "      <td>...</td>\n",
       "      <td>...</td>\n",
       "    </tr>\n",
       "    <tr>\n",
       "      <th>114658</th>\n",
       "      <td>Man</td>\n",
       "      <td>320-339</td>\n",
       "      <td>2020</td>\n",
       "      <td>56.1</td>\n",
       "      <td>170</td>\n",
       "      <td>Södermanland</td>\n",
       "      <td>upper secondary</td>\n",
       "    </tr>\n",
       "    <tr>\n",
       "      <th>65106</th>\n",
       "      <td>Man</td>\n",
       "      <td>180-199</td>\n",
       "      <td>2023</td>\n",
       "      <td>2.9</td>\n",
       "      <td>15</td>\n",
       "      <td>Gotland</td>\n",
       "      <td>post-secondary</td>\n",
       "    </tr>\n",
       "    <tr>\n",
       "      <th>355475</th>\n",
       "      <td>Man</td>\n",
       "      <td>120-139</td>\n",
       "      <td>2022</td>\n",
       "      <td>19.6</td>\n",
       "      <td>149</td>\n",
       "      <td>Uppsala</td>\n",
       "      <td>upper secondary</td>\n",
       "    </tr>\n",
       "    <tr>\n",
       "      <th>348529</th>\n",
       "      <td>Woman</td>\n",
       "      <td>500-599</td>\n",
       "      <td>2013</td>\n",
       "      <td>33.0</td>\n",
       "      <td>61</td>\n",
       "      <td>Gävleborg</td>\n",
       "      <td>post-secondary</td>\n",
       "    </tr>\n",
       "    <tr>\n",
       "      <th>63539</th>\n",
       "      <td>Woman</td>\n",
       "      <td>1000+</td>\n",
       "      <td>2023</td>\n",
       "      <td>6.6</td>\n",
       "      <td>5</td>\n",
       "      <td>Kalmar</td>\n",
       "      <td>upper secondary</td>\n",
       "    </tr>\n",
       "  </tbody>\n",
       "</table>\n",
       "<p>272890 rows × 7 columns</p>\n",
       "</div>"
      ],
      "text/plain": [
       "\n",
       "          sex income_bracket  year  total_sum_sek_millions  number_of_persons  \\\n",
       "\u001b[1;36m113665\u001b[0m    Man        \u001b[1;36m220\u001b[0m-\u001b[1;36m239\u001b[0m  \u001b[1;36m2020\u001b[0m                    \u001b[1;36m17.3\u001b[0m                 \u001b[1;36m75\u001b[0m   \n",
       "\u001b[1;36m346363\u001b[0m    Man        \u001b[1;36m400\u001b[0m-\u001b[1;36m499\u001b[0m  \u001b[1;36m2013\u001b[0m                   \u001b[1;36m124.8\u001b[0m                \u001b[1;36m285\u001b[0m   \n",
       "\u001b[1;36m261373\u001b[0m    Man          \u001b[1;36m1000\u001b[0m+  \u001b[1;36m2015\u001b[0m                     \u001b[1;36m9.1\u001b[0m                  \u001b[1;36m7\u001b[0m   \n",
       "\u001b[1;36m38648\u001b[0m   Woman        \u001b[1;36m140\u001b[0m-\u001b[1;36m159\u001b[0m  \u001b[1;36m2011\u001b[0m                    \u001b[1;36m60.9\u001b[0m                \u001b[1;36m407\u001b[0m   \n",
       "\u001b[1;36m262689\u001b[0m    Man        \u001b[1;36m120\u001b[0m-\u001b[1;36m139\u001b[0m  \u001b[1;36m2015\u001b[0m                    \u001b[1;36m13.5\u001b[0m                \u001b[1;36m103\u001b[0m   \n",
       "\u001b[33m...\u001b[0m       \u001b[33m...\u001b[0m            \u001b[33m...\u001b[0m   \u001b[33m...\u001b[0m                     \u001b[33m...\u001b[0m                \u001b[33m...\u001b[0m   \n",
       "\u001b[1;36m114658\u001b[0m    Man        \u001b[1;36m320\u001b[0m-\u001b[1;36m339\u001b[0m  \u001b[1;36m2020\u001b[0m                    \u001b[1;36m56.1\u001b[0m                \u001b[1;36m170\u001b[0m   \n",
       "\u001b[1;36m65106\u001b[0m     Man        \u001b[1;36m180\u001b[0m-\u001b[1;36m199\u001b[0m  \u001b[1;36m2023\u001b[0m                     \u001b[1;36m2.9\u001b[0m                 \u001b[1;36m15\u001b[0m   \n",
       "\u001b[1;36m355475\u001b[0m    Man        \u001b[1;36m120\u001b[0m-\u001b[1;36m139\u001b[0m  \u001b[1;36m2022\u001b[0m                    \u001b[1;36m19.6\u001b[0m                \u001b[1;36m149\u001b[0m   \n",
       "\u001b[1;36m348529\u001b[0m  Woman        \u001b[1;36m500\u001b[0m-\u001b[1;36m599\u001b[0m  \u001b[1;36m2013\u001b[0m                    \u001b[1;36m33.0\u001b[0m                 \u001b[1;36m61\u001b[0m   \n",
       "\u001b[1;36m63539\u001b[0m   Woman          \u001b[1;36m1000\u001b[0m+  \u001b[1;36m2023\u001b[0m                     \u001b[1;36m6.6\u001b[0m                  \u001b[1;36m5\u001b[0m   \n",
       "\n",
       "         region_name       level_of_education  \n",
       "\u001b[1;36m113665\u001b[0m       Uppsala           post-secondary  \n",
       "\u001b[1;36m346363\u001b[0m       Dalarna  primary/lower secondary  \n",
       "\u001b[1;36m261373\u001b[0m      Värmland  primary/lower secondary  \n",
       "\u001b[1;36m38648\u001b[0m       Blekinge          upper secondary  \n",
       "\u001b[1;36m262689\u001b[0m        Örebro  primary/lower secondary  \n",
       "\u001b[33m...\u001b[0m              \u001b[33m...\u001b[0m                      \u001b[33m...\u001b[0m  \n",
       "\u001b[1;36m114658\u001b[0m  Södermanland          upper secondary  \n",
       "\u001b[1;36m65106\u001b[0m        Gotland           post-secondary  \n",
       "\u001b[1;36m355475\u001b[0m       Uppsala          upper secondary  \n",
       "\u001b[1;36m348529\u001b[0m     Gävleborg           post-secondary  \n",
       "\u001b[1;36m63539\u001b[0m         Kalmar          upper secondary  \n",
       "\n",
       "\u001b[1m[\u001b[0m\u001b[1;36m272890\u001b[0m rows x \u001b[1;36m7\u001b[0m columns\u001b[1m]\u001b[0m"
      ]
     },
     "execution_count": 341,
     "metadata": {},
     "output_type": "execute_result"
    }
   ],
   "source": [
    "X_train, X_test, y_train, y_test = train_test_split(features, labels, train_size=0.7, random_state=42, stratify=labels, shuffle=True)\n",
    "\n",
    "X_train"
   ]
  },
  {
   "cell_type": "code",
   "execution_count": 342,
   "id": "8e9638d0",
   "metadata": {},
   "outputs": [
    {
     "data": {
      "text/html": [
       "<pre style=\"white-space:pre;overflow-x:auto;line-height:normal;font-family:Menlo,'DejaVu Sans Mono',consolas,'Courier New',monospace\"></pre>\n"
      ],
      "text/plain": []
     },
     "metadata": {},
     "output_type": "display_data"
    },
    {
     "data": {
      "text/html": [
       "<div>\n",
       "<style scoped>\n",
       "    .dataframe tbody tr th:only-of-type {\n",
       "        vertical-align: middle;\n",
       "    }\n",
       "\n",
       "    .dataframe tbody tr th {\n",
       "        vertical-align: top;\n",
       "    }\n",
       "\n",
       "    .dataframe thead th {\n",
       "        text-align: right;\n",
       "    }\n",
       "</style>\n",
       "<table border=\"1\" class=\"dataframe\">\n",
       "  <thead>\n",
       "    <tr style=\"text-align: right;\">\n",
       "      <th></th>\n",
       "      <th>age</th>\n",
       "    </tr>\n",
       "  </thead>\n",
       "  <tbody>\n",
       "    <tr>\n",
       "      <th>113665</th>\n",
       "      <td>6</td>\n",
       "    </tr>\n",
       "    <tr>\n",
       "      <th>346363</th>\n",
       "      <td>5</td>\n",
       "    </tr>\n",
       "    <tr>\n",
       "      <th>261373</th>\n",
       "      <td>6</td>\n",
       "    </tr>\n",
       "    <tr>\n",
       "      <th>38648</th>\n",
       "      <td>6</td>\n",
       "    </tr>\n",
       "    <tr>\n",
       "      <th>262689</th>\n",
       "      <td>6</td>\n",
       "    </tr>\n",
       "    <tr>\n",
       "      <th>...</th>\n",
       "      <td>...</td>\n",
       "    </tr>\n",
       "    <tr>\n",
       "      <th>114658</th>\n",
       "      <td>6</td>\n",
       "    </tr>\n",
       "    <tr>\n",
       "      <th>65106</th>\n",
       "      <td>6</td>\n",
       "    </tr>\n",
       "    <tr>\n",
       "      <th>355475</th>\n",
       "      <td>2</td>\n",
       "    </tr>\n",
       "    <tr>\n",
       "      <th>348529</th>\n",
       "      <td>6</td>\n",
       "    </tr>\n",
       "    <tr>\n",
       "      <th>63539</th>\n",
       "      <td>2</td>\n",
       "    </tr>\n",
       "  </tbody>\n",
       "</table>\n",
       "<p>272890 rows × 1 columns</p>\n",
       "</div>"
      ],
      "text/plain": [
       "\n",
       "        age\n",
       "\u001b[1;36m113665\u001b[0m    \u001b[1;36m6\u001b[0m\n",
       "\u001b[1;36m346363\u001b[0m    \u001b[1;36m5\u001b[0m\n",
       "\u001b[1;36m261373\u001b[0m    \u001b[1;36m6\u001b[0m\n",
       "\u001b[1;36m38648\u001b[0m     \u001b[1;36m6\u001b[0m\n",
       "\u001b[1;36m262689\u001b[0m    \u001b[1;36m6\u001b[0m\n",
       "\u001b[33m...\u001b[0m     \u001b[33m...\u001b[0m\n",
       "\u001b[1;36m114658\u001b[0m    \u001b[1;36m6\u001b[0m\n",
       "\u001b[1;36m65106\u001b[0m     \u001b[1;36m6\u001b[0m\n",
       "\u001b[1;36m355475\u001b[0m    \u001b[1;36m2\u001b[0m\n",
       "\u001b[1;36m348529\u001b[0m    \u001b[1;36m6\u001b[0m\n",
       "\u001b[1;36m63539\u001b[0m     \u001b[1;36m2\u001b[0m\n",
       "\n",
       "\u001b[1m[\u001b[0m\u001b[1;36m272890\u001b[0m rows x \u001b[1;36m1\u001b[0m columns\u001b[1m]\u001b[0m"
      ]
     },
     "execution_count": 342,
     "metadata": {},
     "output_type": "execute_result"
    }
   ],
   "source": [
    "y_train"
   ]
  },
  {
   "cell_type": "markdown",
   "id": "b536f6dd",
   "metadata": {},
   "source": [
    "Catagorical features"
   ]
  },
  {
   "cell_type": "code",
   "execution_count": 343,
   "id": "a59909d6",
   "metadata": {},
   "outputs": [
    {
     "data": {
      "text/html": [
       "<pre style=\"white-space:pre;overflow-x:auto;line-height:normal;font-family:Menlo,'DejaVu Sans Mono',consolas,'Courier New',monospace\"></pre>\n"
      ],
      "text/plain": []
     },
     "metadata": {},
     "output_type": "display_data"
    },
    {
     "data": {
      "text/plain": [
       "\u001b[1m[\u001b[0m\u001b[32m'sex'\u001b[0m, \u001b[32m'income_bracket'\u001b[0m, \u001b[32m'region_name'\u001b[0m, \u001b[32m'level_of_education'\u001b[0m\u001b[1m]\u001b[0m"
      ]
     },
     "execution_count": 343,
     "metadata": {},
     "output_type": "execute_result"
    }
   ],
   "source": [
    "cat_features = features.drop(columns=[\"year\", \"total_sum_sek_millions\", \"number_of_persons\"]).columns.to_list()\n",
    "\n",
    "cat_features"
   ]
  },
  {
   "cell_type": "code",
   "execution_count": 344,
   "id": "c70c79d7",
   "metadata": {},
   "outputs": [
    {
     "name": "stdout",
     "output_type": "stream",
     "text": [
      "Binning 0.014 GB of training data: 0.041 s\n",
      "Binning 0.002 GB of validation data: "
     ]
    },
    {
     "name": "stderr",
     "output_type": "stream",
     "text": [
      "/home/joel/.local/lib/python3.12/site-packages/sklearn/utils/validation.py:1408: DataConversionWarning: A column-vector y was passed when a 1d array was expected. Please change the shape of y to (n_samples, ), for example using ravel().\n",
      "  y = column_or_1d(y, warn=True)\n"
     ]
    },
    {
     "name": "stdout",
     "output_type": "stream",
     "text": [
      "0.003 s\n",
      "Fitting gradient boosted rounds:\n",
      "Fit 800 trees in 8.004 s, (24800 total leaves)\n",
      "Time spent computing histograms: 2.211s\n",
      "Time spent finding best splits:  0.378s\n",
      "Time spent applying splits:      1.565s\n",
      "Time spent predicting:           0.346s\n"
     ]
    }
   ],
   "source": [
    "HGB_clf = HistGradientBoostingClassifier(\n",
    "    loss=\"log_loss\", learning_rate=0.1, max_iter=100, categorical_features=cat_features, l2_regularization=0, validation_fraction=0.1, n_iter_no_change=10, verbose=1, random_state=42\n",
    ").fit(X=X_train, y=y_train)"
   ]
  },
  {
   "cell_type": "code",
   "execution_count": 388,
   "id": "6aec3989",
   "metadata": {},
   "outputs": [],
   "source": [
    "y_pred_bad = HGB_clf.predict(X=X_test)"
   ]
  },
  {
   "cell_type": "code",
   "execution_count": 389,
   "id": "10e76ab6",
   "metadata": {},
   "outputs": [
    {
     "name": "stdout",
     "output_type": "stream",
     "text": [
      "              precision    recall  f1-score   support\n",
      "\n",
      "           0       0.75      0.77      0.76      6468\n",
      "           1       0.50      0.56      0.53     16461\n",
      "           2       0.41      0.37      0.39     16942\n",
      "           3       0.35      0.27      0.31     16479\n",
      "           4       0.42      0.32      0.36     15953\n",
      "           5       0.43      0.52      0.47     15176\n",
      "           6       0.37      0.45      0.41     15033\n",
      "           7       0.50      0.50      0.50     14442\n",
      "\n",
      "    accuracy                           0.45    116954\n",
      "   macro avg       0.47      0.47      0.47    116954\n",
      "weighted avg       0.44      0.45      0.44    116954\n",
      "\n"
     ]
    }
   ],
   "source": [
    "print(classification_report(y_test, y_pred_bad))"
   ]
  },
  {
   "cell_type": "code",
   "execution_count": 390,
   "id": "103d5137",
   "metadata": {},
   "outputs": [
    {
     "data": {
      "text/html": [
       "<pre style=\"white-space:pre;overflow-x:auto;line-height:normal;font-family:Menlo,'DejaVu Sans Mono',consolas,'Courier New',monospace\"></pre>\n"
      ],
      "text/plain": []
     },
     "metadata": {},
     "output_type": "display_data"
    },
    {
     "data": {
      "text/plain": [
       "\u001b[1;36m0.44513227422747403\u001b[0m"
      ]
     },
     "execution_count": 390,
     "metadata": {},
     "output_type": "execute_result"
    }
   ],
   "source": [
    "HGB_clf.score(X=X_test, y=y_test)"
   ]
  },
  {
   "cell_type": "code",
   "execution_count": 393,
   "id": "1bc04b7f",
   "metadata": {},
   "outputs": [
    {
     "data": {
      "text/html": [
       "<pre style=\"white-space:pre;overflow-x:auto;line-height:normal;font-family:Menlo,'DejaVu Sans Mono',consolas,'Courier New',monospace\"></pre>\n"
      ],
      "text/plain": []
     },
     "metadata": {},
     "output_type": "display_data"
    },
    {
     "data": {
      "image/png": "[encoded data removed]",
      "text/plain": [
       "\u001b[1m<\u001b[0m\u001b[1;95mFigure\u001b[0m\u001b[39m size 80\u001b[0m\u001b[1;36m0x600\u001b[0m\u001b[39m with \u001b[0m\u001b[1;36m2\u001b[0m\u001b[39m Axes\u001b[0m\u001b[1m>\u001b[0m"
      ]
     },
     "metadata": {},
     "output_type": "display_data"
    }
   ],
   "source": [
    "cm = confusion_matrix(y_true=y_test, y_pred=y_pred_bad)\n",
    "\n",
    "labels_names = [\"16-19\", \"20-29\", \"30-39\", \"40-49\", \"50-59\", \"60-64\", \"65-69\", \"70-75\"]\n",
    "\n",
    "plt.figure(figsize=(8, 6))\n",
    "sns.heatmap(cm, annot=True, fmt=\"d\", cmap=\"flare\", xticklabels=labels_names, yticklabels=labels_names)\n",
    "plt.xlabel(\"Predicted\")\n",
    "plt.ylabel(\"Actual\")\n",
    "plt.title(\"Confusion Matrix\")\n",
    "plt.tight_layout()\n",
    "plt.show()"
   ]
  },
  {
   "cell_type": "code",
   "execution_count": 250,
   "id": "dc3a72a2",
   "metadata": {},
   "outputs": [
    {
     "name": "stderr",
     "output_type": "stream",
     "text": [
      "/home/joel/.local/lib/python3.12/site-packages/sklearn/utils/validation.py:1408: DataConversionWarning: A column-vector y was passed when a 1d array was expected. Please change the shape of y to (n_samples, ), for example using ravel().\n",
      "  y = column_or_1d(y, warn=True)\n"
     ]
    },
    {
     "name": "stdout",
     "output_type": "stream",
     "text": [
      "Binning 0.017 GB of training data: 0.047 s\n",
      "Binning 0.002 GB of validation data: 0.003 s\n",
      "Fitting gradient boosted rounds:\n",
      "Fit 800 trees in 9.147 s, (24800 total leaves)\n",
      "Time spent computing histograms: 2.568s\n",
      "Time spent finding best splits:  0.402s\n",
      "Time spent applying splits:      1.842s\n",
      "Time spent predicting:           0.410s\n"
     ]
    },
    {
     "name": "stderr",
     "output_type": "stream",
     "text": [
      "/home/joel/.local/lib/python3.12/site-packages/sklearn/utils/validation.py:1408: DataConversionWarning: A column-vector y was passed when a 1d array was expected. Please change the shape of y to (n_samples, ), for example using ravel().\n",
      "  y = column_or_1d(y, warn=True)\n"
     ]
    },
    {
     "name": "stdout",
     "output_type": "stream",
     "text": [
      "Binning 0.017 GB of training data: 0.113 s\n",
      "Binning 0.002 GB of validation data: 0.004 s\n",
      "Fitting gradient boosted rounds:\n",
      "Fit 800 trees in 9.733 s, (24800 total leaves)\n",
      "Time spent computing histograms: 2.731s\n",
      "Time spent finding best splits:  0.421s\n",
      "Time spent applying splits:      1.908s\n",
      "Time spent predicting:           0.436s\n"
     ]
    },
    {
     "name": "stderr",
     "output_type": "stream",
     "text": [
      "/home/joel/.local/lib/python3.12/site-packages/sklearn/utils/validation.py:1408: DataConversionWarning: A column-vector y was passed when a 1d array was expected. Please change the shape of y to (n_samples, ), for example using ravel().\n",
      "  y = column_or_1d(y, warn=True)\n"
     ]
    },
    {
     "name": "stdout",
     "output_type": "stream",
     "text": [
      "Binning 0.017 GB of training data: 0.043 s\n",
      "Binning 0.002 GB of validation data: 0.003 s\n",
      "Fitting gradient boosted rounds:\n",
      "Fit 800 trees in 11.352 s, (24800 total leaves)\n",
      "Time spent computing histograms: 3.333s\n",
      "Time spent finding best splits:  0.503s\n",
      "Time spent applying splits:      2.286s\n",
      "Time spent predicting:           0.504s\n"
     ]
    },
    {
     "name": "stderr",
     "output_type": "stream",
     "text": [
      "/home/joel/.local/lib/python3.12/site-packages/sklearn/utils/validation.py:1408: DataConversionWarning: A column-vector y was passed when a 1d array was expected. Please change the shape of y to (n_samples, ), for example using ravel().\n",
      "  y = column_or_1d(y, warn=True)\n"
     ]
    },
    {
     "name": "stdout",
     "output_type": "stream",
     "text": [
      "Binning 0.017 GB of training data: 0.042 s\n",
      "Binning 0.002 GB of validation data: 0.003 s\n",
      "Fitting gradient boosted rounds:\n",
      "Fit 800 trees in 12.082 s, (24800 total leaves)\n",
      "Time spent computing histograms: 3.556s\n",
      "Time spent finding best splits:  0.546s\n",
      "Time spent applying splits:      2.398s\n",
      "Time spent predicting:           0.526s\n"
     ]
    },
    {
     "name": "stderr",
     "output_type": "stream",
     "text": [
      "/home/joel/.local/lib/python3.12/site-packages/sklearn/utils/validation.py:1408: DataConversionWarning: A column-vector y was passed when a 1d array was expected. Please change the shape of y to (n_samples, ), for example using ravel().\n",
      "  y = column_or_1d(y, warn=True)\n"
     ]
    },
    {
     "name": "stdout",
     "output_type": "stream",
     "text": [
      "Binning 0.017 GB of training data: 0.053 s\n",
      "Binning 0.002 GB of validation data: 0.004 s\n",
      "Fitting gradient boosted rounds:\n",
      "Fit 800 trees in 11.398 s, (24800 total leaves)\n",
      "Time spent computing histograms: 3.260s\n",
      "Time spent finding best splits:  0.495s\n",
      "Time spent applying splits:      2.237s\n",
      "Time spent predicting:           0.491s\n"
     ]
    },
    {
     "data": {
      "text/html": [
       "<pre style=\"white-space:pre;overflow-x:auto;line-height:normal;font-family:Menlo,'DejaVu Sans Mono',consolas,'Courier New',monospace\"></pre>\n"
      ],
      "text/plain": []
     },
     "metadata": {},
     "output_type": "display_data"
    },
    {
     "data": {
      "text/plain": [
       "\u001b[1;36m0.4342300737917217\u001b[0m"
      ]
     },
     "execution_count": 250,
     "metadata": {},
     "output_type": "execute_result"
    }
   ],
   "source": [
    "scores = cross_val_score(HGB_clf, features, labels, cv=5)\n",
    "scores.mean()"
   ]
  },
  {
   "cell_type": "markdown",
   "id": "bcc16aa3",
   "metadata": {},
   "source": [
    "Tuning"
   ]
  },
  {
   "cell_type": "code",
   "execution_count": 251,
   "id": "0da9c349",
   "metadata": {},
   "outputs": [],
   "source": [
    "# Parameter Suggested Range:\n",
    "\n",
    "learning_rate = [0.01, 0.05, 0.1, 0.2]\n",
    "max_iter = [100, 300, 500, 1000]\n",
    "max_leaf_nodes = [10, 20, 31, 50, 100] # default = 31\n",
    "max_depth = [3, 5, 8, None]\n",
    "min_samples_leaf = [1, 5, 10, 20, 50]\n",
    "l2_regularization = [0, 1e-3, 1e-2, 1e-1, 1]\n",
    "max_features = [0.3, 0.5, 0.7, 1.0]\n",
    "validation_fraction = [0.1, 0.2]\n",
    "n_iter_no_change = [5, 10, 20]"
   ]
  },
  {
   "cell_type": "code",
   "execution_count": null,
   "id": "05068288",
   "metadata": {},
   "outputs": [],
   "source": [
    "param_grid = [\n",
    "    {\n",
    "        \"learning_rate\": learning_rate,\n",
    "        # \"max_iter\": max_iter,\n",
    "        \"max_leaf_nodes\": max_leaf_nodes,\n",
    "        \"max_depth\": max_depth,\n",
    "        \"min_samples_leaf\": min_samples_leaf,\n",
    "        \"l2_regularization\": l2_regularization,\n",
    "        # \"max_features\": max_features,\n",
    "        # \"validation_fraction\": validation_fraction,\n",
    "        # \"n_iter_no_change\": n_iter_no_change,\n",
    "    }\n",
    "]"
   ]
  },
  {
   "cell_type": "code",
   "execution_count": 349,
   "id": "eed45d33",
   "metadata": {},
   "outputs": [
    {
     "name": "stdout",
     "output_type": "stream",
     "text": [
      "Fitting 5 folds for each of 10 candidates, totalling 50 fits\n",
      "Binning 0.016 GB of training data: Binning 0.016 GB of training data: Binning 0.016 GB of training data: 0.202 s\n",
      "Binning 0.002 GB of validation data: 0.020 s\n",
      "Fitting gradient boosted rounds:\n",
      "0.208 s\n",
      "Binning 0.002 GB of validation data: 0.013 s\n",
      "Fitting gradient boosted rounds:\n",
      "Binning 0.016 GB of training data: Binning 0.016 GB of training data: 0.356 s\n",
      "Binning 0.002 GB of validation data: Binning 0.016 GB of training data: 0.020 s\n",
      "Fitting gradient boosted rounds:\n",
      "0.200 s\n",
      "Binning 0.002 GB of validation data: 0.020 s\n",
      "Fitting gradient boosted rounds:\n",
      "0.307 s\n",
      "Binning 0.002 GB of validation data: 0.363 s\n",
      "Binning 0.002 GB of validation data: 0.014 s\n",
      "Fitting gradient boosted rounds:\n",
      "0.033 s\n",
      "Fitting gradient boosted rounds:\n",
      "Binning 0.016 GB of training data: Binning 0.016 GB of training data: 0.187 s\n",
      "Binning 0.002 GB of validation data: 0.015 s\n",
      "Fitting gradient boosted rounds:\n",
      "0.230 s\n",
      "Binning 0.002 GB of validation data: 0.014 s\n",
      "Fitting gradient boosted rounds:\n",
      "Fit 800 trees in 31.198 s, (8000 total leaves)\n",
      "Time spent computing histograms: 9.430s\n",
      "Time spent finding best splits:  0.332s\n",
      "Time spent applying splits:      5.279s\n",
      "Time spent predicting:           0.659s\n",
      "Fit 800 trees in 31.790 s, (8000 total leaves)\n",
      "Time spent computing histograms: 9.551s\n",
      "Time spent finding best splits:  0.331s\n",
      "Time spent applying splits:      5.303s\n",
      "Time spent predicting:           0.670s\n",
      "Fit 800 trees in 33.220 s, (8000 total leaves)\n",
      "Time spent computing histograms: 10.082s\n",
      "Time spent finding best splits:  0.361s\n",
      "Time spent applying splits:      5.563s\n",
      "Time spent predicting:           0.710s\n",
      "Fit 800 trees in 33.226 s, (8000 total leaves)\n",
      "Time spent computing histograms: 10.026s\n",
      "Time spent finding best splits:  0.341s\n",
      "Time spent applying splits:      5.517s\n",
      "Time spent predicting:           0.720s\n",
      "Fit 800 trees in 33.589 s, (8000 total leaves)\n",
      "Time spent computing histograms: 9.921s\n",
      "Time spent finding best splits:  0.337s\n",
      "Time spent applying splits:      5.553s\n",
      "Time spent predicting:           0.743s\n",
      "Fit 800 trees in 36.937 s, (16000 total leaves)\n",
      "Time spent computing histograms: 11.935s\n",
      "Time spent finding best splits:  0.631s\n",
      "Time spent applying splits:      7.336s\n",
      "Time spent predicting:           0.701s\n",
      "Fit 800 trees in 38.973 s, (16000 total leaves)\n",
      "Time spent computing histograms: 12.661s\n",
      "Time spent finding best splits:  0.685s\n",
      "Time spent applying splits:      7.666s\n",
      "Time spent predicting:           0.789s\n",
      "Binning 0.016 GB of training data: Fit 800 trees in 39.385 s, (16000 total leaves)\n",
      "Time spent computing histograms: 12.868s\n",
      "Time spent finding best splits:  0.699s\n",
      "Time spent applying splits:      7.870s\n",
      "Time spent predicting:           0.769s\n",
      "0.165 s\n",
      "Binning 0.002 GB of validation data: 0.012 s\n",
      "Fitting gradient boosted rounds:\n",
      "Binning 0.016 GB of training data: 0.177 s\n",
      "Binning 0.002 GB of validation data: 0.014 s\n",
      "Fitting gradient boosted rounds:\n",
      "Binning 0.016 GB of training data: 0.173 s\n",
      "Binning 0.002 GB of validation data: 0.013 s\n",
      "Fitting gradient boosted rounds:\n",
      "Binning 0.016 GB of training data: 0.193 s\n",
      "Binning 0.002 GB of validation data: 0.015 s\n",
      "Fitting gradient boosted rounds:\n",
      "Binning 0.016 GB of training data: 0.201 s\n",
      "Binning 0.002 GB of validation data: 0.017 s\n",
      "Fitting gradient boosted rounds:\n",
      "Binning 0.016 GB of training data: 0.273 s\n",
      "Binning 0.002 GB of validation data: 0.020 s\n",
      "Fitting gradient boosted rounds:\n",
      "Binning 0.016 GB of training data: Binning 0.016 GB of training data: 0.194 s\n",
      "Binning 0.002 GB of validation data: 0.017 s\n",
      "Fitting gradient boosted rounds:\n",
      "0.198 s\n",
      "Binning 0.002 GB of validation data: 0.016 s\n",
      "Fitting gradient boosted rounds:\n",
      "Fit 800 trees in 46.993 s, (16000 total leaves)\n",
      "Time spent computing histograms: 15.519s\n",
      "Time spent finding best splits:  0.835s\n",
      "Time spent applying splits:      9.378s\n",
      "Time spent predicting:           0.898s\n",
      "Fit 800 trees in 47.906 s, (16000 total leaves)\n",
      "Time spent computing histograms: 15.441s\n",
      "Time spent finding best splits:  0.845s\n",
      "Time spent applying splits:      9.550s\n",
      "Time spent predicting:           0.886s\n",
      "Binning 0.016 GB of training data: 0.224 s\n",
      "Binning 0.002 GB of validation data: 0.019 s\n",
      "Fitting gradient boosted rounds:\n",
      "Binning 0.016 GB of training data: 0.265 s\n",
      "Binning 0.002 GB of validation data: 0.021 s\n",
      "Fitting gradient boosted rounds:\n",
      "Fit 800 trees in 64.325 s, (24800 total leaves)\n",
      "Time spent computing histograms: 23.017s\n",
      "Time spent finding best splits:  1.401s\n",
      "Time spent applying splits:      15.574s\n",
      "Time spent predicting:           1.130s\n",
      "Fit 800 trees in 66.548 s, (24800 total leaves)\n",
      "Time spent computing histograms: 23.679s\n",
      "Time spent finding best splits:  1.517s\n",
      "Time spent applying splits:      16.392s\n",
      "Time spent predicting:           1.191s\n",
      "Fit 800 trees in 69.058 s, (24800 total leaves)\n",
      "Time spent computing histograms: 24.723s\n",
      "Time spent finding best splits:  1.552s\n",
      "Time spent applying splits:      16.993s\n",
      "Time spent predicting:           1.217s\n",
      "Fit 800 trees in 67.619 s, (24800 total leaves)\n",
      "Time spent computing histograms: 23.585s\n",
      "Time spent finding best splits:  1.501s\n",
      "Time spent applying splits:      16.078s\n",
      "Time spent predicting:           1.156s\n",
      "Fit 800 trees in 66.595 s, (24800 total leaves)\n",
      "Time spent computing histograms: 23.307s\n",
      "Time spent finding best splits:  1.454s\n",
      "Time spent applying splits:      16.043s\n",
      "Time spent predicting:           1.178s\n",
      "Binning 0.016 GB of training data: 0.530 s\n",
      "Binning 0.002 GB of validation data: 0.018 s\n",
      "Fitting gradient boosted rounds:\n",
      "Binning 0.016 GB of training data: 0.232 s\n",
      "Binning 0.002 GB of validation data: 0.022 s\n",
      "Fitting gradient boosted rounds:\n",
      "Fit 800 trees in 77.557 s, (40000 total leaves)\n",
      "Time spent computing histograms: 28.340s\n",
      "Time spent finding best splits:  2.410s\n",
      "Time spent applying splits:      19.505s\n",
      "Time spent predicting:           1.278s\n",
      "Binning 0.016 GB of training data: 0.209 s\n",
      "Binning 0.002 GB of validation data: 0.018 s\n",
      "Fitting gradient boosted rounds:\n",
      "Binning 0.016 GB of training data: 0.258 s\n",
      "Binning 0.002 GB of validation data: 0.034 s\n",
      "Fitting gradient boosted rounds:\n",
      "Binning 0.016 GB of training data: 0.252 s\n",
      "Binning 0.002 GB of validation data: 0.021 s\n",
      "Fitting gradient boosted rounds:\n",
      "Binning 0.016 GB of training data: 0.483 s\n",
      "Binning 0.002 GB of validation data: 0.033 s\n",
      "Fitting gradient boosted rounds:\n",
      "Fit 800 trees in 52.936 s, (15968 total leaves)\n",
      "Time spent computing histograms: 16.496s\n",
      "Time spent finding best splits:  0.722s\n",
      "Time spent applying splits:      12.234s\n",
      "Time spent predicting:           0.984s\n",
      "Fit 800 trees in 81.184 s, (40000 total leaves)\n",
      "Time spent computing histograms: 29.570s\n",
      "Time spent finding best splits:  2.436s\n",
      "Time spent applying splits:      20.492s\n",
      "Time spent predicting:           1.266s\n",
      "Fit 800 trees in 80.492 s, (40000 total leaves)\n",
      "Time spent computing histograms: 29.157s\n",
      "Time spent finding best splits:  2.442s\n",
      "Time spent applying splits:      20.354s\n",
      "Time spent predicting:           1.226s\n",
      "Fit 800 trees in 56.520 s, (15994 total leaves)\n",
      "Time spent computing histograms: 17.696s\n",
      "Time spent finding best splits:  0.777s\n",
      "Time spent applying splits:      12.962s\n",
      "Time spent predicting:           1.043s\n",
      "Fit 800 trees in 57.589 s, (15989 total leaves)\n",
      "Time spent computing histograms: 17.745s\n",
      "Time spent finding best splits:  0.789s\n",
      "Time spent applying splits:      12.989s\n",
      "Time spent predicting:           1.050s\n",
      "Binning 0.016 GB of training data: 0.206 s\n",
      "Binning 0.002 GB of validation data: 0.018 s\n",
      "Fitting gradient boosted rounds:\n",
      "Fit 800 trees in 75.662 s, (40000 total leaves)\n",
      "Time spent computing histograms: 27.204s\n",
      "Time spent finding best splits:  2.259s\n",
      "Time spent applying splits:      18.884s\n",
      "Time spent predicting:           1.176s\n",
      "Binning 0.016 GB of training data: 0.249 s\n",
      "Binning 0.002 GB of validation data: 0.021 s\n",
      "Fitting gradient boosted rounds:\n",
      "Binning 0.016 GB of training data: 0.225 s\n",
      "Binning 0.002 GB of validation data: 0.018 s\n",
      "Fitting gradient boosted rounds:\n",
      "Fit 800 trees in 55.592 s, (15993 total leaves)\n",
      "Time spent computing histograms: 17.087s\n",
      "Time spent finding best splits:  0.710s\n",
      "Time spent applying splits:      12.670s\n",
      "Time spent predicting:           1.055s\n",
      "Fit 800 trees in 79.923 s, (40000 total leaves)\n",
      "Time spent computing histograms: 28.841s\n",
      "Time spent finding best splits:  2.389s\n",
      "Time spent applying splits:      20.008s\n",
      "Time spent predicting:           1.227s\n",
      "Binning 0.016 GB of training data: 0.233 s\n",
      "Binning 0.002 GB of validation data: 0.019 s\n",
      "Fitting gradient boosted rounds:\n",
      "Binning 0.016 GB of training data: 0.237 s\n",
      "Binning 0.002 GB of validation data: 0.055 s\n",
      "Fitting gradient boosted rounds:\n",
      "Binning 0.016 GB of training data: 0.247 s\n",
      "Binning 0.002 GB of validation data: 0.021 s\n",
      "Fitting gradient boosted rounds:\n",
      "Binning 0.016 GB of training data: 0.212 s\n",
      "Binning 0.002 GB of validation data: 0.018 s\n",
      "Fitting gradient boosted rounds:\n",
      "Binning 0.016 GB of training data: 0.209 s\n",
      "Binning 0.002 GB of validation data: 0.017 s\n",
      "Fitting gradient boosted rounds:\n",
      "Fit 800 trees in 51.531 s, (16000 total leaves)\n",
      "Time spent computing histograms: 15.764s\n",
      "Time spent finding best splits:  0.673s\n",
      "Time spent applying splits:      11.759s\n",
      "Time spent predicting:           0.949s\n",
      "Binning 0.016 GB of training data: 0.183 s\n",
      "Binning 0.002 GB of validation data: 0.015 s\n",
      "Fitting gradient boosted rounds:\n",
      "Fit 800 trees in 40.199 s, (6387 total leaves)\n",
      "Time spent computing histograms: 11.125s\n",
      "Time spent finding best splits:  0.240s\n",
      "Time spent applying splits:      7.740s\n",
      "Time spent predicting:           0.874s\n",
      "Fit 800 trees in 38.827 s, (6387 total leaves)\n",
      "Time spent computing histograms: 10.758s\n",
      "Time spent finding best splits:  0.253s\n",
      "Time spent applying splits:      7.451s\n",
      "Time spent predicting:           0.840s\n",
      "Fit 800 trees in 71.374 s, (80000 total leaves)\n",
      "Time spent computing histograms: 24.020s\n",
      "Time spent finding best splits:  3.470s\n",
      "Time spent applying splits:      16.573s\n",
      "Time spent predicting:           1.042s\n",
      "Fit 800 trees in 72.364 s, (80000 total leaves)\n",
      "Time spent computing histograms: 24.475s\n",
      "Time spent finding best splits:  3.594s\n",
      "Time spent applying splits:      16.991s\n",
      "Time spent predicting:           1.094s\n",
      "Binning 0.016 GB of training data: 0.195 s\n",
      "Binning 0.002 GB of validation data: 0.018 s\n",
      "Fitting gradient boosted rounds:\n",
      "Binning 0.016 GB of training data: 0.194 s\n",
      "Binning 0.002 GB of validation data: 0.017 s\n",
      "Fitting gradient boosted rounds:\n",
      "Fit 800 trees in 71.562 s, (80000 total leaves)\n",
      "Time spent computing histograms: 24.279s\n",
      "Time spent finding best splits:  3.607s\n",
      "Time spent applying splits:      16.902s\n",
      "Time spent predicting:           1.061s\n",
      "Fit 800 trees in 69.094 s, (80000 total leaves)\n",
      "Time spent computing histograms: 23.348s\n",
      "Time spent finding best splits:  3.341s\n",
      "Time spent applying splits:      16.103s\n",
      "Time spent predicting:           0.999s\n",
      "Binning 0.016 GB of training data: 0.174 s\n",
      "Binning 0.002 GB of validation data: 0.016 s\n",
      "Fitting gradient boosted rounds:\n",
      "Binning 0.016 GB of training data: 0.198 s\n",
      "Binning 0.002 GB of validation data: 0.016 s\n",
      "Fitting gradient boosted rounds:\n",
      "Fit 800 trees in 68.244 s, (80000 total leaves)\n",
      "Time spent computing histograms: 23.002s\n",
      "Time spent finding best splits:  3.309s\n",
      "Time spent applying splits:      15.995s\n",
      "Time spent predicting:           0.994s\n",
      "Binning 0.016 GB of training data: 0.195 s\n",
      "Binning 0.002 GB of validation data: 0.019 s\n",
      "Fitting gradient boosted rounds:\n",
      "Binning 0.016 GB of training data: 0.198 s\n",
      "Binning 0.002 GB of validation data: 0.017 s\n",
      "Fitting gradient boosted rounds:\n",
      "Fit 800 trees in 35.317 s, (6369 total leaves)\n",
      "Time spent computing histograms: 9.888s\n",
      "Time spent finding best splits:  0.236s\n",
      "Time spent applying splits:      6.755s\n",
      "Time spent predicting:           0.795s\n",
      "Binning 0.016 GB of training data: 0.207 s\n",
      "Binning 0.002 GB of validation data: 0.020 s\n",
      "Fitting gradient boosted rounds:\n",
      "Binning 0.016 GB of training data: 0.211 s\n",
      "Binning 0.002 GB of validation data: 0.017 s\n",
      "Fitting gradient boosted rounds:\n",
      "Fit 800 trees in 34.850 s, (6375 total leaves)\n",
      "Time spent computing histograms: 9.782s\n",
      "Time spent finding best splits:  0.216s\n",
      "Time spent applying splits:      6.636s\n",
      "Time spent predicting:           0.746s\n",
      "Fit 800 trees in 36.026 s, (6374 total leaves)\n",
      "Time spent computing histograms: 9.952s\n",
      "Time spent finding best splits:  0.229s\n",
      "Time spent applying splits:      6.836s\n",
      "Time spent predicting:           0.782s\n",
      "Binning 0.016 GB of training data: 0.196 s\n",
      "Binning 0.002 GB of validation data: 0.021 s\n",
      "Fitting gradient boosted rounds:\n",
      "Binning 0.016 GB of training data: 0.204 s\n",
      "Binning 0.002 GB of validation data: 0.017 s\n",
      "Fitting gradient boosted rounds:\n",
      "Fit 800 trees in 51.525 s, (24460 total leaves)\n",
      "Time spent computing histograms: 15.972s\n",
      "Time spent finding best splits:  0.805s\n",
      "Time spent applying splits:      13.232s\n",
      "Time spent predicting:           0.942s\n",
      "Fit 800 trees in 52.285 s, (24467 total leaves)\n",
      "Time spent computing histograms: 16.151s\n",
      "Time spent finding best splits:  0.802s\n",
      "Time spent applying splits:      13.611s\n",
      "Time spent predicting:           0.968s\n",
      "Fit 800 trees in 50.487 s, (24363 total leaves)\n",
      "Time spent computing histograms: 15.349s\n",
      "Time spent finding best splits:  0.738s\n",
      "Time spent applying splits:      12.978s\n",
      "Time spent predicting:           0.918s\n",
      "Fit 800 trees in 53.591 s, (24430 total leaves)\n",
      "Time spent computing histograms: 16.555s\n",
      "Time spent finding best splits:  0.809s\n",
      "Time spent applying splits:      13.822s\n",
      "Time spent predicting:           1.003s\n",
      "Fit 800 trees in 49.327 s, (24496 total leaves)\n",
      "Time spent computing histograms: 15.072s\n",
      "Time spent finding best splits:  0.712s\n",
      "Time spent applying splits:      12.734s\n",
      "Time spent predicting:           0.883s\n",
      "Binning 0.016 GB of training data: 0.184 s\n",
      "Binning 0.002 GB of validation data: 0.016 s\n",
      "Fitting gradient boosted rounds:\n",
      "Binning 0.016 GB of training data: 0.183 s\n",
      "Binning 0.002 GB of validation data: 0.015 s\n",
      "Fitting gradient boosted rounds:\n",
      "Binning 0.016 GB of training data: Fit 800 trees in 52.770 s, (24665 total leaves)\n",
      "Time spent computing histograms: 16.921s\n",
      "Time spent finding best splits:  0.821s\n",
      "Time spent applying splits:      13.516s\n",
      "Time spent predicting:           0.987s\n",
      "0.324 s\n",
      "Binning 0.002 GB of validation data: 0.016 s\n",
      "Fitting gradient boosted rounds:\n",
      "Binning 0.016 GB of training data: 0.181 s\n",
      "Binning 0.002 GB of validation data: 0.015 s\n",
      "Fitting gradient boosted rounds:\n",
      "Fit 800 trees in 50.174 s, (24656 total leaves)\n",
      "Time spent computing histograms: 16.089s\n",
      "Time spent finding best splits:  0.763s\n",
      "Time spent applying splits:      12.797s\n",
      "Time spent predicting:           0.913s\n",
      "Binning 0.016 GB of training data: 0.216 s\n",
      "Binning 0.002 GB of validation data: 0.017 s\n",
      "Fitting gradient boosted rounds:\n",
      "Binning 0.016 GB of training data: Fit 800 trees in 54.342 s, (24643 total leaves)\n",
      "Time spent computing histograms: 17.338s\n",
      "Time spent finding best splits:  0.832s\n",
      "Time spent applying splits:      13.959s\n",
      "Time spent predicting:           1.045s\n",
      "0.187 s\n",
      "Binning 0.002 GB of validation data: 0.017 s\n",
      "Fitting gradient boosted rounds:\n",
      "Binning 0.016 GB of training data: 0.210 s\n",
      "Binning 0.002 GB of validation data: 0.021 s\n",
      "Fitting gradient boosted rounds:\n",
      "Fit 800 trees in 37.361 s, (6400 total leaves)\n",
      "Time spent computing histograms: 10.504s\n",
      "Time spent finding best splits:  0.240s\n",
      "Time spent applying splits:      7.272s\n",
      "Time spent predicting:           0.795s\n",
      "Fit 800 trees in 38.492 s, (6400 total leaves)\n",
      "Time spent computing histograms: 10.649s\n",
      "Time spent finding best splits:  0.240s\n",
      "Time spent applying splits:      7.491s\n",
      "Time spent predicting:           0.854s\n",
      "Fit 800 trees in 47.380 s, (24666 total leaves)\n",
      "Time spent computing histograms: 15.064s\n",
      "Time spent finding best splits:  0.720s\n",
      "Time spent applying splits:      11.987s\n",
      "Time spent predicting:           0.872s\n",
      "Fit 800 trees in 51.095 s, (24619 total leaves)\n",
      "Time spent computing histograms: 16.172s\n",
      "Time spent finding best splits:  0.757s\n",
      "Time spent applying splits:      12.919s\n",
      "Time spent predicting:           0.994s\n",
      "Fit 800 trees in 36.414 s, (6400 total leaves)\n",
      "Time spent computing histograms: 10.186s\n",
      "Time spent finding best splits:  0.219s\n",
      "Time spent applying splits:      7.112s\n",
      "Time spent predicting:           0.823s\n",
      "Fit 800 trees in 35.972 s, (6400 total leaves)\n",
      "Time spent computing histograms: 9.939s\n",
      "Time spent finding best splits:  0.222s\n",
      "Time spent applying splits:      6.822s\n",
      "Time spent predicting:           0.789s\n",
      "Fit 800 trees in 29.243 s, (6400 total leaves)\n",
      "Time spent computing histograms: 8.042s\n",
      "Time spent finding best splits:  0.205s\n",
      "Time spent applying splits:      5.545s\n",
      "Time spent predicting:           0.638s\n",
      "Binning 0.020 GB of training data: 0.053 s\n",
      "Binning 0.002 GB of validation data: 0.004 s\n",
      "Fitting gradient boosted rounds:\n",
      "Fit 800 trees in 16.008 s, (80000 total leaves)\n",
      "Time spent computing histograms: 4.514s\n",
      "Time spent finding best splits:  1.217s\n",
      "Time spent applying splits:      3.846s\n",
      "Time spent predicting:           0.659s\n"
     ]
    },
    {
     "data": {
      "text/html": [
       "<pre style=\"white-space:pre;overflow-x:auto;line-height:normal;font-family:Menlo,'DejaVu Sans Mono',consolas,'Courier New',monospace\"></pre>\n"
      ],
      "text/plain": []
     },
     "metadata": {},
     "output_type": "display_data"
    },
    {
     "data": {
      "text/plain": [
       "\n",
       "\u001b[1m{\u001b[0m\n",
       "    \u001b[32m'min_samples_leaf'\u001b[0m: \u001b[1;36m1\u001b[0m,\n",
       "    \u001b[32m'max_leaf_nodes'\u001b[0m: \u001b[1;36m100\u001b[0m,\n",
       "    \u001b[32m'max_depth'\u001b[0m: \u001b[3;35mNone\u001b[0m,\n",
       "    \u001b[32m'learning_rate'\u001b[0m: \u001b[1;36m0.1\u001b[0m,\n",
       "    \u001b[32m'l2_regularization'\u001b[0m: \u001b[1;36m0.01\u001b[0m\n",
       "\u001b[1m}\u001b[0m"
      ]
     },
     "execution_count": 349,
     "metadata": {},
     "output_type": "execute_result"
    }
   ],
   "source": [
    "cv = StratifiedKFold(n_splits=5, shuffle=True, random_state=42)\n",
    "clf = RandomizedSearchCV(\n",
    "    HistGradientBoostingClassifier(verbose=1, categorical_features=cat_features),\n",
    "    param_grid,\n",
    "    random_state=42,\n",
    "    verbose=1,\n",
    "    cv=cv,\n",
    "    scoring=\"f1_macro\",\n",
    "    n_jobs=-1,\n",
    ")\n",
    "search = clf.fit(features, labels.squeeze())\n",
    "search.best_params_"
   ]
  },
  {
   "cell_type": "code",
   "execution_count": 350,
   "id": "b65e0a52",
   "metadata": {},
   "outputs": [
    {
     "data": {
      "text/html": [
       "<style>#sk-container-id-2 {\n",
       "  /* Definition of color scheme common for light and dark mode */\n",
       "  --sklearn-color-text: #000;\n",
       "  --sklearn-color-text-muted: #666;\n",
       "  --sklearn-color-line: gray;\n",
       "  /* Definition of color scheme for unfitted estimators */\n",
       "  --sklearn-color-unfitted-level-0: #fff5e6;\n",
       "  --sklearn-color-unfitted-level-1: #f6e4d2;\n",
       "  --sklearn-color-unfitted-level-2: #ffe0b3;\n",
       "  --sklearn-color-unfitted-level-3: chocolate;\n",
       "  /* Definition of color scheme for fitted estimators */\n",
       "  --sklearn-color-fitted-level-0: #f0f8ff;\n",
       "  --sklearn-color-fitted-level-1: #d4ebff;\n",
       "  --sklearn-color-fitted-level-2: #b3dbfd;\n",
       "  --sklearn-color-fitted-level-3: cornflowerblue;\n",
       "\n",
       "  /* Specific color for light theme */\n",
       "  --sklearn-color-text-on-default-background: var(--sg-text-color, var(--theme-code-foreground, var(--jp-content-font-color1, black)));\n",
       "  --sklearn-color-background: var(--sg-background-color, var(--theme-background, var(--jp-layout-color0, white)));\n",
       "  --sklearn-color-border-box: var(--sg-text-color, var(--theme-code-foreground, var(--jp-content-font-color1, black)));\n",
       "  --sklearn-color-icon: #696969;\n",
       "\n",
       "  @media (prefers-color-scheme: dark) {\n",
       "    /* Redefinition of color scheme for dark theme */\n",
       "    --sklearn-color-text-on-default-background: var(--sg-text-color, var(--theme-code-foreground, var(--jp-content-font-color1, white)));\n",
       "    --sklearn-color-background: var(--sg-background-color, var(--theme-background, var(--jp-layout-color0, #111)));\n",
       "    --sklearn-color-border-box: var(--sg-text-color, var(--theme-code-foreground, var(--jp-content-font-color1, white)));\n",
       "    --sklearn-color-icon: #878787;\n",
       "  }\n",
       "}\n",
       "\n",
       "#sk-container-id-2 {\n",
       "  color: var(--sklearn-color-text);\n",
       "}\n",
       "\n",
       "#sk-container-id-2 pre {\n",
       "  padding: 0;\n",
       "}\n",
       "\n",
       "#sk-container-id-2 input.sk-hidden--visually {\n",
       "  border: 0;\n",
       "  clip: rect(1px 1px 1px 1px);\n",
       "  clip: rect(1px, 1px, 1px, 1px);\n",
       "  height: 1px;\n",
       "  margin: -1px;\n",
       "  overflow: hidden;\n",
       "  padding: 0;\n",
       "  position: absolute;\n",
       "  width: 1px;\n",
       "}\n",
       "\n",
       "#sk-container-id-2 div.sk-dashed-wrapped {\n",
       "  border: 1px dashed var(--sklearn-color-line);\n",
       "  margin: 0 0.4em 0.5em 0.4em;\n",
       "  box-sizing: border-box;\n",
       "  padding-bottom: 0.4em;\n",
       "  background-color: var(--sklearn-color-background);\n",
       "}\n",
       "\n",
       "#sk-container-id-2 div.sk-container {\n",
       "  /* jupyter's `normalize.less` sets `[hidden] { display: none; }`\n",
       "     but bootstrap.min.css set `[hidden] { display: none !important; }`\n",
       "     so we also need the `!important` here to be able to override the\n",
       "     default hidden behavior on the sphinx rendered scikit-learn.org.\n",
       "     See: https://github.com/scikit-learn/scikit-learn/issues/21755 */\n",
       "  display: inline-block !important;\n",
       "  position: relative;\n",
       "}\n",
       "\n",
       "#sk-container-id-2 div.sk-text-repr-fallback {\n",
       "  display: none;\n",
       "}\n",
       "\n",
       "div.sk-parallel-item,\n",
       "div.sk-serial,\n",
       "div.sk-item {\n",
       "  /* draw centered vertical line to link estimators */\n",
       "  background-image: linear-gradient(var(--sklearn-color-text-on-default-background), var(--sklearn-color-text-on-default-background));\n",
       "  background-size: 2px 100%;\n",
       "  background-repeat: no-repeat;\n",
       "  background-position: center center;\n",
       "}\n",
       "\n",
       "/* Parallel-specific style estimator block */\n",
       "\n",
       "#sk-container-id-2 div.sk-parallel-item::after {\n",
       "  content: \"\";\n",
       "  width: 100%;\n",
       "  border-bottom: 2px solid var(--sklearn-color-text-on-default-background);\n",
       "  flex-grow: 1;\n",
       "}\n",
       "\n",
       "#sk-container-id-2 div.sk-parallel {\n",
       "  display: flex;\n",
       "  align-items: stretch;\n",
       "  justify-content: center;\n",
       "  background-color: var(--sklearn-color-background);\n",
       "  position: relative;\n",
       "}\n",
       "\n",
       "#sk-container-id-2 div.sk-parallel-item {\n",
       "  display: flex;\n",
       "  flex-direction: column;\n",
       "}\n",
       "\n",
       "#sk-container-id-2 div.sk-parallel-item:first-child::after {\n",
       "  align-self: flex-end;\n",
       "  width: 50%;\n",
       "}\n",
       "\n",
       "#sk-container-id-2 div.sk-parallel-item:last-child::after {\n",
       "  align-self: flex-start;\n",
       "  width: 50%;\n",
       "}\n",
       "\n",
       "#sk-container-id-2 div.sk-parallel-item:only-child::after {\n",
       "  width: 0;\n",
       "}\n",
       "\n",
       "/* Serial-specific style estimator block */\n",
       "\n",
       "#sk-container-id-2 div.sk-serial {\n",
       "  display: flex;\n",
       "  flex-direction: column;\n",
       "  align-items: center;\n",
       "  background-color: var(--sklearn-color-background);\n",
       "  padding-right: 1em;\n",
       "  padding-left: 1em;\n",
       "}\n",
       "\n",
       "\n",
       "/* Toggleable style: style used for estimator/Pipeline/ColumnTransformer box that is\n",
       "clickable and can be expanded/collapsed.\n",
       "- Pipeline and ColumnTransformer use this feature and define the default style\n",
       "- Estimators will overwrite some part of the style using the `sk-estimator` class\n",
       "*/\n",
       "\n",
       "/* Pipeline and ColumnTransformer style (default) */\n",
       "\n",
       "#sk-container-id-2 div.sk-toggleable {\n",
       "  /* Default theme specific background. It is overwritten whether we have a\n",
       "  specific estimator or a Pipeline/ColumnTransformer */\n",
       "  background-color: var(--sklearn-color-background);\n",
       "}\n",
       "\n",
       "/* Toggleable label */\n",
       "#sk-container-id-2 label.sk-toggleable__label {\n",
       "  cursor: pointer;\n",
       "  display: flex;\n",
       "  width: 100%;\n",
       "  margin-bottom: 0;\n",
       "  padding: 0.5em;\n",
       "  box-sizing: border-box;\n",
       "  text-align: center;\n",
       "  align-items: start;\n",
       "  justify-content: space-between;\n",
       "  gap: 0.5em;\n",
       "}\n",
       "\n",
       "#sk-container-id-2 label.sk-toggleable__label .caption {\n",
       "  font-size: 0.6rem;\n",
       "  font-weight: lighter;\n",
       "  color: var(--sklearn-color-text-muted);\n",
       "}\n",
       "\n",
       "#sk-container-id-2 label.sk-toggleable__label-arrow:before {\n",
       "  /* Arrow on the left of the label */\n",
       "  content: \"▸\";\n",
       "  float: left;\n",
       "  margin-right: 0.25em;\n",
       "  color: var(--sklearn-color-icon);\n",
       "}\n",
       "\n",
       "#sk-container-id-2 label.sk-toggleable__label-arrow:hover:before {\n",
       "  color: var(--sklearn-color-text);\n",
       "}\n",
       "\n",
       "/* Toggleable content - dropdown */\n",
       "\n",
       "#sk-container-id-2 div.sk-toggleable__content {\n",
       "  max-height: 0;\n",
       "  max-width: 0;\n",
       "  overflow: hidden;\n",
       "  text-align: left;\n",
       "  /* unfitted */\n",
       "  background-color: var(--sklearn-color-unfitted-level-0);\n",
       "}\n",
       "\n",
       "#sk-container-id-2 div.sk-toggleable__content.fitted {\n",
       "  /* fitted */\n",
       "  background-color: var(--sklearn-color-fitted-level-0);\n",
       "}\n",
       "\n",
       "#sk-container-id-2 div.sk-toggleable__content pre {\n",
       "  margin: 0.2em;\n",
       "  border-radius: 0.25em;\n",
       "  color: var(--sklearn-color-text);\n",
       "  /* unfitted */\n",
       "  background-color: var(--sklearn-color-unfitted-level-0);\n",
       "}\n",
       "\n",
       "#sk-container-id-2 div.sk-toggleable__content.fitted pre {\n",
       "  /* unfitted */\n",
       "  background-color: var(--sklearn-color-fitted-level-0);\n",
       "}\n",
       "\n",
       "#sk-container-id-2 input.sk-toggleable__control:checked~div.sk-toggleable__content {\n",
       "  /* Expand drop-down */\n",
       "  max-height: 200px;\n",
       "  max-width: 100%;\n",
       "  overflow: auto;\n",
       "}\n",
       "\n",
       "#sk-container-id-2 input.sk-toggleable__control:checked~label.sk-toggleable__label-arrow:before {\n",
       "  content: \"▾\";\n",
       "}\n",
       "\n",
       "/* Pipeline/ColumnTransformer-specific style */\n",
       "\n",
       "#sk-container-id-2 div.sk-label input.sk-toggleable__control:checked~label.sk-toggleable__label {\n",
       "  color: var(--sklearn-color-text);\n",
       "  background-color: var(--sklearn-color-unfitted-level-2);\n",
       "}\n",
       "\n",
       "#sk-container-id-2 div.sk-label.fitted input.sk-toggleable__control:checked~label.sk-toggleable__label {\n",
       "  background-color: var(--sklearn-color-fitted-level-2);\n",
       "}\n",
       "\n",
       "/* Estimator-specific style */\n",
       "\n",
       "/* Colorize estimator box */\n",
       "#sk-container-id-2 div.sk-estimator input.sk-toggleable__control:checked~label.sk-toggleable__label {\n",
       "  /* unfitted */\n",
       "  background-color: var(--sklearn-color-unfitted-level-2);\n",
       "}\n",
       "\n",
       "#sk-container-id-2 div.sk-estimator.fitted input.sk-toggleable__control:checked~label.sk-toggleable__label {\n",
       "  /* fitted */\n",
       "  background-color: var(--sklearn-color-fitted-level-2);\n",
       "}\n",
       "\n",
       "#sk-container-id-2 div.sk-label label.sk-toggleable__label,\n",
       "#sk-container-id-2 div.sk-label label {\n",
       "  /* The background is the default theme color */\n",
       "  color: var(--sklearn-color-text-on-default-background);\n",
       "}\n",
       "\n",
       "/* On hover, darken the color of the background */\n",
       "#sk-container-id-2 div.sk-label:hover label.sk-toggleable__label {\n",
       "  color: var(--sklearn-color-text);\n",
       "  background-color: var(--sklearn-color-unfitted-level-2);\n",
       "}\n",
       "\n",
       "/* Label box, darken color on hover, fitted */\n",
       "#sk-container-id-2 div.sk-label.fitted:hover label.sk-toggleable__label.fitted {\n",
       "  color: var(--sklearn-color-text);\n",
       "  background-color: var(--sklearn-color-fitted-level-2);\n",
       "}\n",
       "\n",
       "/* Estimator label */\n",
       "\n",
       "#sk-container-id-2 div.sk-label label {\n",
       "  font-family: monospace;\n",
       "  font-weight: bold;\n",
       "  display: inline-block;\n",
       "  line-height: 1.2em;\n",
       "}\n",
       "\n",
       "#sk-container-id-2 div.sk-label-container {\n",
       "  text-align: center;\n",
       "}\n",
       "\n",
       "/* Estimator-specific */\n",
       "#sk-container-id-2 div.sk-estimator {\n",
       "  font-family: monospace;\n",
       "  border: 1px dotted var(--sklearn-color-border-box);\n",
       "  border-radius: 0.25em;\n",
       "  box-sizing: border-box;\n",
       "  margin-bottom: 0.5em;\n",
       "  /* unfitted */\n",
       "  background-color: var(--sklearn-color-unfitted-level-0);\n",
       "}\n",
       "\n",
       "#sk-container-id-2 div.sk-estimator.fitted {\n",
       "  /* fitted */\n",
       "  background-color: var(--sklearn-color-fitted-level-0);\n",
       "}\n",
       "\n",
       "/* on hover */\n",
       "#sk-container-id-2 div.sk-estimator:hover {\n",
       "  /* unfitted */\n",
       "  background-color: var(--sklearn-color-unfitted-level-2);\n",
       "}\n",
       "\n",
       "#sk-container-id-2 div.sk-estimator.fitted:hover {\n",
       "  /* fitted */\n",
       "  background-color: var(--sklearn-color-fitted-level-2);\n",
       "}\n",
       "\n",
       "/* Specification for estimator info (e.g. \"i\" and \"?\") */\n",
       "\n",
       "/* Common style for \"i\" and \"?\" */\n",
       "\n",
       ".sk-estimator-doc-link,\n",
       "a:link.sk-estimator-doc-link,\n",
       "a:visited.sk-estimator-doc-link {\n",
       "  float: right;\n",
       "  font-size: smaller;\n",
       "  line-height: 1em;\n",
       "  font-family: monospace;\n",
       "  background-color: var(--sklearn-color-background);\n",
       "  border-radius: 1em;\n",
       "  height: 1em;\n",
       "  width: 1em;\n",
       "  text-decoration: none !important;\n",
       "  margin-left: 0.5em;\n",
       "  text-align: center;\n",
       "  /* unfitted */\n",
       "  border: var(--sklearn-color-unfitted-level-1) 1pt solid;\n",
       "  color: var(--sklearn-color-unfitted-level-1);\n",
       "}\n",
       "\n",
       ".sk-estimator-doc-link.fitted,\n",
       "a:link.sk-estimator-doc-link.fitted,\n",
       "a:visited.sk-estimator-doc-link.fitted {\n",
       "  /* fitted */\n",
       "  border: var(--sklearn-color-fitted-level-1) 1pt solid;\n",
       "  color: var(--sklearn-color-fitted-level-1);\n",
       "}\n",
       "\n",
       "/* On hover */\n",
       "div.sk-estimator:hover .sk-estimator-doc-link:hover,\n",
       ".sk-estimator-doc-link:hover,\n",
       "div.sk-label-container:hover .sk-estimator-doc-link:hover,\n",
       ".sk-estimator-doc-link:hover {\n",
       "  /* unfitted */\n",
       "  background-color: var(--sklearn-color-unfitted-level-3);\n",
       "  color: var(--sklearn-color-background);\n",
       "  text-decoration: none;\n",
       "}\n",
       "\n",
       "div.sk-estimator.fitted:hover .sk-estimator-doc-link.fitted:hover,\n",
       ".sk-estimator-doc-link.fitted:hover,\n",
       "div.sk-label-container:hover .sk-estimator-doc-link.fitted:hover,\n",
       ".sk-estimator-doc-link.fitted:hover {\n",
       "  /* fitted */\n",
       "  background-color: var(--sklearn-color-fitted-level-3);\n",
       "  color: var(--sklearn-color-background);\n",
       "  text-decoration: none;\n",
       "}\n",
       "\n",
       "/* Span, style for the box shown on hovering the info icon */\n",
       ".sk-estimator-doc-link span {\n",
       "  display: none;\n",
       "  z-index: 9999;\n",
       "  position: relative;\n",
       "  font-weight: normal;\n",
       "  right: .2ex;\n",
       "  padding: .5ex;\n",
       "  margin: .5ex;\n",
       "  width: min-content;\n",
       "  min-width: 20ex;\n",
       "  max-width: 50ex;\n",
       "  color: var(--sklearn-color-text);\n",
       "  box-shadow: 2pt 2pt 4pt #999;\n",
       "  /* unfitted */\n",
       "  background: var(--sklearn-color-unfitted-level-0);\n",
       "  border: .5pt solid var(--sklearn-color-unfitted-level-3);\n",
       "}\n",
       "\n",
       ".sk-estimator-doc-link.fitted span {\n",
       "  /* fitted */\n",
       "  background: var(--sklearn-color-fitted-level-0);\n",
       "  border: var(--sklearn-color-fitted-level-3);\n",
       "}\n",
       "\n",
       ".sk-estimator-doc-link:hover span {\n",
       "  display: block;\n",
       "}\n",
       "\n",
       "/* \"?\"-specific style due to the `<a>` HTML tag */\n",
       "\n",
       "#sk-container-id-2 a.estimator_doc_link {\n",
       "  float: right;\n",
       "  font-size: 1rem;\n",
       "  line-height: 1em;\n",
       "  font-family: monospace;\n",
       "  background-color: var(--sklearn-color-background);\n",
       "  border-radius: 1rem;\n",
       "  height: 1rem;\n",
       "  width: 1rem;\n",
       "  text-decoration: none;\n",
       "  /* unfitted */\n",
       "  color: var(--sklearn-color-unfitted-level-1);\n",
       "  border: var(--sklearn-color-unfitted-level-1) 1pt solid;\n",
       "}\n",
       "\n",
       "#sk-container-id-2 a.estimator_doc_link.fitted {\n",
       "  /* fitted */\n",
       "  border: var(--sklearn-color-fitted-level-1) 1pt solid;\n",
       "  color: var(--sklearn-color-fitted-level-1);\n",
       "}\n",
       "\n",
       "/* On hover */\n",
       "#sk-container-id-2 a.estimator_doc_link:hover {\n",
       "  /* unfitted */\n",
       "  background-color: var(--sklearn-color-unfitted-level-3);\n",
       "  color: var(--sklearn-color-background);\n",
       "  text-decoration: none;\n",
       "}\n",
       "\n",
       "#sk-container-id-2 a.estimator_doc_link.fitted:hover {\n",
       "  /* fitted */\n",
       "  background-color: var(--sklearn-color-fitted-level-3);\n",
       "}\n",
       "</style><div id=\"sk-container-id-2\" class=\"sk-top-container\"><div class=\"sk-text-repr-fallback\"><pre>HistGradientBoostingClassifier(categorical_features=[&#x27;sex&#x27;, &#x27;income_bracket&#x27;,\n",
       "                                                     &#x27;region_name&#x27;,\n",
       "                                                     &#x27;level_of_education&#x27;],\n",
       "                               l2_regularization=0.01, max_leaf_nodes=100,\n",
       "                               min_samples_leaf=1, verbose=1)</pre><b>In a Jupyter environment, please rerun this cell to show the HTML representation or trust the notebook. <br />On GitHub, the HTML representation is unable to render, please try loading this page with nbviewer.org.</b></div><div class=\"sk-container\" hidden><div class=\"sk-item\"><div class=\"sk-estimator fitted sk-toggleable\"><input class=\"sk-toggleable__control sk-hidden--visually\" id=\"sk-estimator-id-2\" type=\"checkbox\" checked><label for=\"sk-estimator-id-2\" class=\"sk-toggleable__label fitted sk-toggleable__label-arrow\"><div><div>HistGradientBoostingClassifier</div></div><div><a class=\"sk-estimator-doc-link fitted\" rel=\"noreferrer\" target=\"_blank\" href=\"https://scikit-learn.org/1.6/modules/generated/sklearn.ensemble.HistGradientBoostingClassifier.html\">?<span>Documentation for HistGradientBoostingClassifier</span></a><span class=\"sk-estimator-doc-link fitted\">i<span>Fitted</span></span></div></label><div class=\"sk-toggleable__content fitted\"><pre>HistGradientBoostingClassifier(categorical_features=[&#x27;sex&#x27;, &#x27;income_bracket&#x27;,\n",
       "                                                     &#x27;region_name&#x27;,\n",
       "                                                     &#x27;level_of_education&#x27;],\n",
       "                               l2_regularization=0.01, max_leaf_nodes=100,\n",
       "                               min_samples_leaf=1, verbose=1)</pre></div> </div></div></div></div>"
      ],
      "text/plain": [
       "HistGradientBoostingClassifier(categorical_features=['sex', 'income_bracket',\n",
       "                                                     'region_name',\n",
       "                                                     'level_of_education'],\n",
       "                               l2_regularization=0.01, max_leaf_nodes=100,\n",
       "                               min_samples_leaf=1, verbose=1)"
      ]
     },
     "execution_count": 350,
     "metadata": {},
     "output_type": "execute_result"
    }
   ],
   "source": [
    "search.best_estimator_"
   ]
  },
  {
   "cell_type": "code",
   "execution_count": 386,
   "id": "c9c3a002",
   "metadata": {},
   "outputs": [
    {
     "name": "stdout",
     "output_type": "stream",
     "text": [
      "Binning 0.014 GB of training data: 0.041 s\n",
      "Binning 0.002 GB of validation data: "
     ]
    },
    {
     "name": "stderr",
     "output_type": "stream",
     "text": [
      "/home/joel/.local/lib/python3.12/site-packages/sklearn/utils/validation.py:1408: DataConversionWarning: A column-vector y was passed when a 1d array was expected. Please change the shape of y to (n_samples, ), for example using ravel().\n",
      "  y = column_or_1d(y, warn=True)\n"
     ]
    },
    {
     "name": "stdout",
     "output_type": "stream",
     "text": [
      "0.003 s\n",
      "Fitting gradient boosted rounds:\n",
      "Fit 800 trees in 13.061 s, (80000 total leaves)\n",
      "Time spent computing histograms: 3.439s\n",
      "Time spent finding best splits:  1.177s\n",
      "Time spent applying splits:      3.132s\n",
      "Time spent predicting:           0.460s\n"
     ]
    }
   ],
   "source": [
    "model = search.best_estimator_\n",
    "model.fit(X_train, y_train)\n",
    "y_pred_better = model.predict(X_test)"
   ]
  },
  {
   "cell_type": "code",
   "execution_count": 387,
   "id": "13a07e2a",
   "metadata": {},
   "outputs": [
    {
     "name": "stdout",
     "output_type": "stream",
     "text": [
      "              precision    recall  f1-score   support\n",
      "\n",
      "           0       0.82      0.77      0.79      6899\n",
      "           1       0.61      0.54      0.57     18640\n",
      "           2       0.43      0.46      0.45     15730\n",
      "           3       0.30      0.39      0.34     12689\n",
      "           4       0.38      0.46      0.41     13147\n",
      "           5       0.57      0.49      0.53     17650\n",
      "           6       0.48      0.41      0.44     17842\n",
      "           7       0.55      0.55      0.55     14357\n",
      "\n",
      "    accuracy                           0.49    116954\n",
      "   macro avg       0.52      0.51      0.51    116954\n",
      "weighted avg       0.50      0.49      0.50    116954\n",
      "\n"
     ]
    }
   ],
   "source": [
    "print(classification_report(y_pred_better, y_test))"
   ]
  },
  {
   "cell_type": "code",
   "execution_count": 361,
   "id": "6e271d0d",
   "metadata": {},
   "outputs": [
    {
     "name": "stdout",
     "output_type": "stream",
     "text": [
      "Binning 0.016 GB of training data: 0.046 s\n",
      "Binning 0.002 GB of validation data: "
     ]
    },
    {
     "name": "stderr",
     "output_type": "stream",
     "text": [
      "/home/joel/.local/lib/python3.12/site-packages/sklearn/utils/validation.py:1408: DataConversionWarning: A column-vector y was passed when a 1d array was expected. Please change the shape of y to (n_samples, ), for example using ravel().\n",
      "  y = column_or_1d(y, warn=True)\n"
     ]
    },
    {
     "name": "stdout",
     "output_type": "stream",
     "text": [
      "0.003 s\n",
      "Fitting gradient boosted rounds:\n",
      "Fit 800 trees in 13.088 s, (80000 total leaves)\n",
      "Time spent computing histograms: 3.082s\n",
      "Time spent finding best splits:  0.935s\n",
      "Time spent applying splits:      2.439s\n",
      "Time spent predicting:           0.440s\n",
      "Binning 0.016 GB of training data: 0.043 s\n",
      "Binning 0.002 GB of validation data: "
     ]
    },
    {
     "name": "stderr",
     "output_type": "stream",
     "text": [
      "/home/joel/.local/lib/python3.12/site-packages/sklearn/utils/validation.py:1408: DataConversionWarning: A column-vector y was passed when a 1d array was expected. Please change the shape of y to (n_samples, ), for example using ravel().\n",
      "  y = column_or_1d(y, warn=True)\n"
     ]
    },
    {
     "name": "stdout",
     "output_type": "stream",
     "text": [
      "0.003 s\n",
      "Fitting gradient boosted rounds:\n",
      "Fit 800 trees in 14.575 s, (80000 total leaves)\n",
      "Time spent computing histograms: 4.118s\n",
      "Time spent finding best splits:  1.291s\n",
      "Time spent applying splits:      3.332s\n",
      "Time spent predicting:           0.527s\n",
      "Binning 0.016 GB of training data: 0.040 s\n",
      "Binning 0.002 GB of validation data: "
     ]
    },
    {
     "name": "stderr",
     "output_type": "stream",
     "text": [
      "/home/joel/.local/lib/python3.12/site-packages/sklearn/utils/validation.py:1408: DataConversionWarning: A column-vector y was passed when a 1d array was expected. Please change the shape of y to (n_samples, ), for example using ravel().\n",
      "  y = column_or_1d(y, warn=True)\n"
     ]
    },
    {
     "name": "stdout",
     "output_type": "stream",
     "text": [
      "0.003 s\n",
      "Fitting gradient boosted rounds:\n",
      "Fit 800 trees in 15.158 s, (80000 total leaves)\n",
      "Time spent computing histograms: 4.180s\n",
      "Time spent finding best splits:  1.314s\n",
      "Time spent applying splits:      3.633s\n",
      "Time spent predicting:           0.559s\n",
      "Binning 0.016 GB of training data: 0.039 s\n",
      "Binning 0.002 GB of validation data: "
     ]
    },
    {
     "name": "stderr",
     "output_type": "stream",
     "text": [
      "/home/joel/.local/lib/python3.12/site-packages/sklearn/utils/validation.py:1408: DataConversionWarning: A column-vector y was passed when a 1d array was expected. Please change the shape of y to (n_samples, ), for example using ravel().\n",
      "  y = column_or_1d(y, warn=True)\n"
     ]
    },
    {
     "name": "stdout",
     "output_type": "stream",
     "text": [
      "0.003 s\n",
      "Fitting gradient boosted rounds:\n",
      "Fit 800 trees in 14.032 s, (80000 total leaves)\n",
      "Time spent computing histograms: 3.928s\n",
      "Time spent finding best splits:  1.229s\n",
      "Time spent applying splits:      3.213s\n",
      "Time spent predicting:           0.550s\n",
      "Binning 0.016 GB of training data: 0.045 s\n",
      "Binning 0.002 GB of validation data: "
     ]
    },
    {
     "name": "stderr",
     "output_type": "stream",
     "text": [
      "/home/joel/.local/lib/python3.12/site-packages/sklearn/utils/validation.py:1408: DataConversionWarning: A column-vector y was passed when a 1d array was expected. Please change the shape of y to (n_samples, ), for example using ravel().\n",
      "  y = column_or_1d(y, warn=True)\n"
     ]
    },
    {
     "name": "stdout",
     "output_type": "stream",
     "text": [
      "0.003 s\n",
      "Fitting gradient boosted rounds:\n",
      "Fit 800 trees in 16.042 s, (80000 total leaves)\n",
      "Time spent computing histograms: 4.529s\n",
      "Time spent finding best splits:  1.439s\n",
      "Time spent applying splits:      3.650s\n",
      "Time spent predicting:           0.593s\n"
     ]
    },
    {
     "data": {
      "text/html": [
       "<pre style=\"white-space:pre;overflow-x:auto;line-height:normal;font-family:Menlo,'DejaVu Sans Mono',consolas,'Courier New',monospace\"></pre>\n"
      ],
      "text/plain": []
     },
     "metadata": {},
     "output_type": "display_data"
    },
    {
     "data": {
      "text/plain": [
       "\u001b[1;36m0.48243406361176805\u001b[0m"
      ]
     },
     "execution_count": 361,
     "metadata": {},
     "output_type": "execute_result"
    }
   ],
   "source": [
    "scores = cross_val_score(model, features, labels, cv=5)\n",
    "scores.mean()"
   ]
  },
  {
   "cell_type": "code",
   "execution_count": null,
   "id": "ec422174",
   "metadata": {},
   "outputs": [],
   "source": [
    "cm = confusion_matrix(y_true=y_test, y_pred=y_pred_better)\n",
    "\n",
    "labels_names = [\"16-19\", \"20-29\", \"30-39\", \"40-49\", \"50-59\", \"60-64\", \"65-69\", \"70-75\"]\n",
    "\n",
    "plt.figure(figsize=(8, 6))\n",
    "sns.heatmap(cm, annot=True, fmt=\"d\", cmap=\"Blues\", xticklabels=labels_names, yticklabels=labels_names)\n",
    "plt.xlabel(\"Predicted\")\n",
    "plt.ylabel(\"Actual\")\n",
    "plt.title(\"Confusion Matrix\")\n",
    "plt.tight_layout()\n",
    "plt.show()"
   ]
  },
  {
   "cell_type": "markdown",
   "id": "5738132d",
   "metadata": {},
   "source": [
    "Making some feature importance searching and all features seem to be useful for the model."
   ]
  },
  {
   "cell_type": "code",
   "execution_count": 362,
   "id": "a94d3522",
   "metadata": {},
   "outputs": [
    {
     "data": {
      "text/html": [
       "<pre style=\"white-space:pre;overflow-x:auto;line-height:normal;font-family:Menlo,'DejaVu Sans Mono',consolas,'Courier New',monospace\"></pre>\n"
      ],
      "text/plain": []
     },
     "metadata": {},
     "output_type": "display_data"
    },
    {
     "data": {
      "text/plain": [
       "\n",
       "\u001b[1;35marray\u001b[0m\u001b[1m(\u001b[0m\u001b[1m[\u001b[0m\u001b[1;36m0.08294201\u001b[0m, \u001b[1;36m0.2459685\u001b[0m , \u001b[1;36m0.06584811\u001b[0m, \u001b[1;36m0.20329018\u001b[0m, \u001b[1;36m0.2685449\u001b[0m ,\n",
       "       \u001b[1;36m0.21230142\u001b[0m, \u001b[1;36m0.21641757\u001b[0m\u001b[1m]\u001b[0m\u001b[1m)\u001b[0m"
      ]
     },
     "execution_count": 362,
     "metadata": {},
     "output_type": "execute_result"
    }
   ],
   "source": [
    "pi = permutation_importance(model, X_test, y_test, n_repeats=10, random_state=42)\n",
    "pi[\"importances_mean\"]"
   ]
  },
  {
   "cell_type": "code",
   "execution_count": 363,
   "id": "e9fee328",
   "metadata": {},
   "outputs": [
    {
     "data": {
      "text/html": [
       "<pre style=\"white-space:pre;overflow-x:auto;line-height:normal;font-family:Menlo,'DejaVu Sans Mono',consolas,'Courier New',monospace\"></pre>\n"
      ],
      "text/plain": []
     },
     "metadata": {},
     "output_type": "display_data"
    },
    {
     "data": {
      "text/html": [
       "<div>\n",
       "<style scoped>\n",
       "    .dataframe tbody tr th:only-of-type {\n",
       "        vertical-align: middle;\n",
       "    }\n",
       "\n",
       "    .dataframe tbody tr th {\n",
       "        vertical-align: top;\n",
       "    }\n",
       "\n",
       "    .dataframe thead th {\n",
       "        text-align: right;\n",
       "    }\n",
       "</style>\n",
       "<table border=\"1\" class=\"dataframe\">\n",
       "  <thead>\n",
       "    <tr style=\"text-align: right;\">\n",
       "      <th></th>\n",
       "      <th>1</th>\n",
       "    </tr>\n",
       "    <tr>\n",
       "      <th>0</th>\n",
       "      <th></th>\n",
       "    </tr>\n",
       "  </thead>\n",
       "  <tbody>\n",
       "    <tr>\n",
       "      <th>sex</th>\n",
       "      <td>0.082942</td>\n",
       "    </tr>\n",
       "    <tr>\n",
       "      <th>income_bracket</th>\n",
       "      <td>0.245969</td>\n",
       "    </tr>\n",
       "    <tr>\n",
       "      <th>year</th>\n",
       "      <td>0.065848</td>\n",
       "    </tr>\n",
       "    <tr>\n",
       "      <th>total_sum_sek_millions</th>\n",
       "      <td>0.20329</td>\n",
       "    </tr>\n",
       "    <tr>\n",
       "      <th>number_of_persons</th>\n",
       "      <td>0.268545</td>\n",
       "    </tr>\n",
       "    <tr>\n",
       "      <th>region_name</th>\n",
       "      <td>0.212301</td>\n",
       "    </tr>\n",
       "    <tr>\n",
       "      <th>level_of_education</th>\n",
       "      <td>0.216418</td>\n",
       "    </tr>\n",
       "  </tbody>\n",
       "</table>\n",
       "</div>"
      ],
      "text/plain": [
       "\n",
       "                               \u001b[1;36m1\u001b[0m\n",
       "\u001b[1;36m0\u001b[0m                               \n",
       "sex                     \u001b[1;36m0.082942\u001b[0m\n",
       "income_bracket          \u001b[1;36m0.245969\u001b[0m\n",
       "year                    \u001b[1;36m0.065848\u001b[0m\n",
       "total_sum_sek_millions   \u001b[1;36m0.20329\u001b[0m\n",
       "number_of_persons       \u001b[1;36m0.268545\u001b[0m\n",
       "region_name             \u001b[1;36m0.212301\u001b[0m\n",
       "level_of_education      \u001b[1;36m0.216418\u001b[0m"
      ]
     },
     "execution_count": 363,
     "metadata": {},
     "output_type": "execute_result"
    }
   ],
   "source": [
    "pd.DataFrame([features.columns, pi[\"importances_mean\"]]).T.set_index(0)"
   ]
  },
  {
   "cell_type": "markdown",
   "id": "9dd3e9c4",
   "metadata": {},
   "source": [
    "Which class is of a majority? I will predict only the majority class and see which accuracy I can achieve. Probably to many classes for this to be useful but will do it anyway."
   ]
  },
  {
   "cell_type": "code",
   "execution_count": 371,
   "id": "363f628a",
   "metadata": {},
   "outputs": [
    {
     "data": {
      "text/html": [
       "<pre style=\"white-space:pre;overflow-x:auto;line-height:normal;font-family:Menlo,'DejaVu Sans Mono',consolas,'Courier New',monospace\"></pre>\n"
      ],
      "text/plain": []
     },
     "metadata": {},
     "output_type": "display_data"
    },
    {
     "data": {
      "text/plain": [
       "\n",
       "age\n",
       "\u001b[1;36m2\u001b[0m      \u001b[1;36m39532\u001b[0m\n",
       "\u001b[1;36m3\u001b[0m      \u001b[1;36m38452\u001b[0m\n",
       "\u001b[1;36m1\u001b[0m      \u001b[1;36m38408\u001b[0m\n",
       "\u001b[1;36m4\u001b[0m      \u001b[1;36m37224\u001b[0m\n",
       "\u001b[1;36m5\u001b[0m      \u001b[1;36m35410\u001b[0m\n",
       "\u001b[1;36m6\u001b[0m      \u001b[1;36m35075\u001b[0m\n",
       "\u001b[1;36m7\u001b[0m      \u001b[1;36m33698\u001b[0m\n",
       "\u001b[1;36m0\u001b[0m      \u001b[1;36m15091\u001b[0m\n",
       "Name: count, dtype: int64"
      ]
     },
     "execution_count": 371,
     "metadata": {},
     "output_type": "execute_result"
    }
   ],
   "source": [
    "y_train.value_counts()"
   ]
  },
  {
   "cell_type": "markdown",
   "id": "26159cfb",
   "metadata": {},
   "source": [
    "Class 2 is of majority but of course only predicting class two will yield approximately 1/8 accuracy."
   ]
  },
  {
   "cell_type": "code",
   "execution_count": 421,
   "id": "1e666591",
   "metadata": {},
   "outputs": [
    {
     "data": {
      "text/html": [
       "<pre style=\"white-space:pre;overflow-x:auto;line-height:normal;font-family:Menlo,'DejaVu Sans Mono',consolas,'Courier New',monospace\"></pre>\n"
      ],
      "text/plain": []
     },
     "metadata": {},
     "output_type": "display_data"
    },
    {
     "data": {
      "text/plain": [
       "\u001b[1;36m0.14486037245412725\u001b[0m"
      ]
     },
     "execution_count": 421,
     "metadata": {},
     "output_type": "execute_result"
    }
   ],
   "source": [
    "y_majority = [2] * len(y_test)\n",
    "accuracy_score(y_true=y_test, y_pred=y_majority)"
   ]
  },
  {
   "cell_type": "markdown",
   "id": "d046a182",
   "metadata": {},
   "source": [
    "**3. Change your train/test data** (e.g. `X_train`, `X_test`) **to only include the _two most important features_.** Then retrain the model with that & evaluate it again. Did the accuracy score change?"
   ]
  },
  {
   "cell_type": "markdown",
   "id": "75a2b778",
   "metadata": {},
   "source": [
    "**4. Do the same thing, but train the model on the _two least important features only_.** What accuracy score do you expect? See if the result matches your expectation."
   ]
  },
  {
   "cell_type": "markdown",
   "id": "16b225b1",
   "metadata": {},
   "source": [
    "**6. Which of our measurement variables are _normally distributed_?** Checking for a normal distribution is useful, because it is often a requirement for using other metrics that the data is normally distributed."
   ]
  },
  {
   "cell_type": "code",
   "execution_count": 364,
   "id": "614d050a",
   "metadata": {},
   "outputs": [
    {
     "name": "stderr",
     "output_type": "stream",
     "text": [
      "/home/joel/.local/lib/python3.12/site-packages/scipy/stats/_axis_nan_policy.py:586: UserWarning: scipy.stats.shapiro: For N > 5000, computed p-value may not be accurate. Current N is 389844.\n",
      "  res = hypotest_fun_out(*samples, **kwds)\n",
      "/home/joel/.local/lib/python3.12/site-packages/scipy/stats/_axis_nan_policy.py:586: UserWarning: scipy.stats.shapiro: For N > 5000, computed p-value may not be accurate. Current N is 389844.\n",
      "  res = hypotest_fun_out(*samples, **kwds)\n",
      "/home/joel/.local/lib/python3.12/site-packages/scipy/stats/_axis_nan_policy.py:586: UserWarning: scipy.stats.shapiro: For N > 5000, computed p-value may not be accurate. Current N is 389844.\n",
      "  res = hypotest_fun_out(*samples, **kwds)\n"
     ]
    },
    {
     "data": {
      "text/html": [
       "<pre style=\"white-space:pre;overflow-x:auto;line-height:normal;font-family:Menlo,'DejaVu Sans Mono',consolas,'Courier New',monospace\"></pre>\n"
      ],
      "text/plain": []
     },
     "metadata": {},
     "output_type": "display_data"
    },
    {
     "data": {
      "text/html": [
       "<div>\n",
       "<style scoped>\n",
       "    .dataframe tbody tr th:only-of-type {\n",
       "        vertical-align: middle;\n",
       "    }\n",
       "\n",
       "    .dataframe tbody tr th {\n",
       "        vertical-align: top;\n",
       "    }\n",
       "\n",
       "    .dataframe thead th {\n",
       "        text-align: right;\n",
       "    }\n",
       "</style>\n",
       "<table border=\"1\" class=\"dataframe\">\n",
       "  <thead>\n",
       "    <tr style=\"text-align: right;\">\n",
       "      <th></th>\n",
       "      <th>W</th>\n",
       "      <th>pval</th>\n",
       "      <th>normal</th>\n",
       "    </tr>\n",
       "  </thead>\n",
       "  <tbody>\n",
       "    <tr>\n",
       "      <th>age</th>\n",
       "      <td>0.935780</td>\n",
       "      <td>2.566071e-126</td>\n",
       "      <td>False</td>\n",
       "    </tr>\n",
       "    <tr>\n",
       "      <th>year</th>\n",
       "      <td>0.943760</td>\n",
       "      <td>1.941717e-122</td>\n",
       "      <td>False</td>\n",
       "    </tr>\n",
       "    <tr>\n",
       "      <th>total_sum_sek_millions</th>\n",
       "      <td>0.118112</td>\n",
       "      <td>1.793411e-215</td>\n",
       "      <td>False</td>\n",
       "    </tr>\n",
       "    <tr>\n",
       "      <th>number_of_persons</th>\n",
       "      <td>0.184068</td>\n",
       "      <td>1.753375e-212</td>\n",
       "      <td>False</td>\n",
       "    </tr>\n",
       "  </tbody>\n",
       "</table>\n",
       "</div>"
      ],
      "text/plain": [
       "\n",
       "                               W           pval  normal\n",
       "age                     \u001b[1;36m0.935780\u001b[0m  \u001b[1;36m2.566071e-126\u001b[0m   \u001b[3;91mFalse\u001b[0m\n",
       "year                    \u001b[1;36m0.943760\u001b[0m  \u001b[1;36m1.941717e-122\u001b[0m   \u001b[3;91mFalse\u001b[0m\n",
       "total_sum_sek_millions  \u001b[1;36m0.118112\u001b[0m  \u001b[1;36m1.793411e-215\u001b[0m   \u001b[3;91mFalse\u001b[0m\n",
       "number_of_persons       \u001b[1;36m0.184068\u001b[0m  \u001b[1;36m1.753375e-212\u001b[0m   \u001b[3;91mFalse\u001b[0m"
      ]
     },
     "execution_count": 364,
     "metadata": {},
     "output_type": "execute_result"
    }
   ],
   "source": [
    "pg.normality(data)"
   ]
  },
  {
   "cell_type": "markdown",
   "id": "8f584ba7",
   "metadata": {},
   "source": [
    "**7. Which of the measurement variables are _correlated_?** Perform a pairwise correlation analysis with all the columns of our dataframe. Use Pearson correlation if the variables are normally distributed, and Spearman correlation if not."
   ]
  },
  {
   "cell_type": "code",
   "execution_count": 365,
   "id": "dc5b5444",
   "metadata": {},
   "outputs": [
    {
     "data": {
      "text/html": [
       "<pre style=\"white-space:pre;overflow-x:auto;line-height:normal;font-family:Menlo,'DejaVu Sans Mono',consolas,'Courier New',monospace\"></pre>\n"
      ],
      "text/plain": []
     },
     "metadata": {},
     "output_type": "display_data"
    },
    {
     "data": {
      "text/html": [
       "<div>\n",
       "<style scoped>\n",
       "    .dataframe tbody tr th:only-of-type {\n",
       "        vertical-align: middle;\n",
       "    }\n",
       "\n",
       "    .dataframe tbody tr th {\n",
       "        vertical-align: top;\n",
       "    }\n",
       "\n",
       "    .dataframe thead th {\n",
       "        text-align: right;\n",
       "    }\n",
       "</style>\n",
       "<table border=\"1\" class=\"dataframe\">\n",
       "  <thead>\n",
       "    <tr style=\"text-align: right;\">\n",
       "      <th></th>\n",
       "      <th>X</th>\n",
       "      <th>Y</th>\n",
       "      <th>method</th>\n",
       "      <th>alternative</th>\n",
       "      <th>n</th>\n",
       "      <th>r</th>\n",
       "      <th>CI95%</th>\n",
       "      <th>p-unc</th>\n",
       "      <th>BF10</th>\n",
       "      <th>power</th>\n",
       "    </tr>\n",
       "  </thead>\n",
       "  <tbody>\n",
       "    <tr>\n",
       "      <th>0</th>\n",
       "      <td>age</td>\n",
       "      <td>year</td>\n",
       "      <td>pearson</td>\n",
       "      <td>two-sided</td>\n",
       "      <td>389844</td>\n",
       "      <td>-0.015268</td>\n",
       "      <td>[-0.02, -0.01]</td>\n",
       "      <td>1.522331e-21</td>\n",
       "      <td>1.092e+17</td>\n",
       "      <td>1.000</td>\n",
       "    </tr>\n",
       "    <tr>\n",
       "      <th>1</th>\n",
       "      <td>age</td>\n",
       "      <td>total_sum_sek_millions</td>\n",
       "      <td>pearson</td>\n",
       "      <td>two-sided</td>\n",
       "      <td>389844</td>\n",
       "      <td>-0.014889</td>\n",
       "      <td>[-0.02, -0.01]</td>\n",
       "      <td>1.450319e-20</td>\n",
       "      <td>1.174e+16</td>\n",
       "      <td>1.000</td>\n",
       "    </tr>\n",
       "    <tr>\n",
       "      <th>2</th>\n",
       "      <td>age</td>\n",
       "      <td>number_of_persons</td>\n",
       "      <td>pearson</td>\n",
       "      <td>two-sided</td>\n",
       "      <td>389844</td>\n",
       "      <td>-0.054089</td>\n",
       "      <td>[-0.06, -0.05]</td>\n",
       "      <td>2.233934e-250</td>\n",
       "      <td>2.115e+245</td>\n",
       "      <td>1.000</td>\n",
       "    </tr>\n",
       "    <tr>\n",
       "      <th>3</th>\n",
       "      <td>year</td>\n",
       "      <td>total_sum_sek_millions</td>\n",
       "      <td>pearson</td>\n",
       "      <td>two-sided</td>\n",
       "      <td>389844</td>\n",
       "      <td>0.018018</td>\n",
       "      <td>[0.01, 0.02]</td>\n",
       "      <td>2.285650e-29</td>\n",
       "      <td>6.178e+24</td>\n",
       "      <td>1.000</td>\n",
       "    </tr>\n",
       "    <tr>\n",
       "      <th>4</th>\n",
       "      <td>year</td>\n",
       "      <td>number_of_persons</td>\n",
       "      <td>pearson</td>\n",
       "      <td>two-sided</td>\n",
       "      <td>389844</td>\n",
       "      <td>-0.003002</td>\n",
       "      <td>[-0.01, 0.0]</td>\n",
       "      <td>6.086493e-02</td>\n",
       "      <td>0.012</td>\n",
       "      <td>0.466</td>\n",
       "    </tr>\n",
       "    <tr>\n",
       "      <th>5</th>\n",
       "      <td>total_sum_sek_millions</td>\n",
       "      <td>number_of_persons</td>\n",
       "      <td>pearson</td>\n",
       "      <td>two-sided</td>\n",
       "      <td>389844</td>\n",
       "      <td>0.810655</td>\n",
       "      <td>[0.81, 0.81]</td>\n",
       "      <td>0.000000e+00</td>\n",
       "      <td>inf</td>\n",
       "      <td>1.000</td>\n",
       "    </tr>\n",
       "  </tbody>\n",
       "</table>\n",
       "</div>"
      ],
      "text/plain": [
       "\n",
       "                        X                       Y   method alternative  \\\n",
       "\u001b[1;36m0\u001b[0m                     age                    year  pearson   two-sided   \n",
       "\u001b[1;36m1\u001b[0m                     age  total_sum_sek_millions  pearson   two-sided   \n",
       "\u001b[1;36m2\u001b[0m                     age       number_of_persons  pearson   two-sided   \n",
       "\u001b[1;36m3\u001b[0m                    year  total_sum_sek_millions  pearson   two-sided   \n",
       "\u001b[1;36m4\u001b[0m                    year       number_of_persons  pearson   two-sided   \n",
       "\u001b[1;36m5\u001b[0m  total_sum_sek_millions       number_of_persons  pearson   two-sided   \n",
       "\n",
       "        n         r           CI95%          p-unc        BF10  power  \n",
       "\u001b[1;36m0\u001b[0m  \u001b[1;36m389844\u001b[0m \u001b[1;36m-0.015268\u001b[0m  \u001b[1m[\u001b[0m\u001b[1;36m-0.02\u001b[0m, \u001b[1;36m-0.01\u001b[0m\u001b[1m]\u001b[0m   \u001b[1;36m1.522331e-21\u001b[0m   \u001b[1;36m1.092e+17\u001b[0m  \u001b[1;36m1.000\u001b[0m  \n",
       "\u001b[1;36m1\u001b[0m  \u001b[1;36m389844\u001b[0m \u001b[1;36m-0.014889\u001b[0m  \u001b[1m[\u001b[0m\u001b[1;36m-0.02\u001b[0m, \u001b[1;36m-0.01\u001b[0m\u001b[1m]\u001b[0m   \u001b[1;36m1.450319e-20\u001b[0m   \u001b[1;36m1.174e+16\u001b[0m  \u001b[1;36m1.000\u001b[0m  \n",
       "\u001b[1;36m2\u001b[0m  \u001b[1;36m389844\u001b[0m \u001b[1;36m-0.054089\u001b[0m  \u001b[1m[\u001b[0m\u001b[1;36m-0.06\u001b[0m, \u001b[1;36m-0.05\u001b[0m\u001b[1m]\u001b[0m  \u001b[1;36m2.233934e-250\u001b[0m  \u001b[1;36m2.115e+245\u001b[0m  \u001b[1;36m1.000\u001b[0m  \n",
       "\u001b[1;36m3\u001b[0m  \u001b[1;36m389844\u001b[0m  \u001b[1;36m0.018018\u001b[0m    \u001b[1m[\u001b[0m\u001b[1;36m0.01\u001b[0m, \u001b[1;36m0.02\u001b[0m\u001b[1m]\u001b[0m   \u001b[1;36m2.285650e-29\u001b[0m   \u001b[1;36m6.178e+24\u001b[0m  \u001b[1;36m1.000\u001b[0m  \n",
       "\u001b[1;36m4\u001b[0m  \u001b[1;36m389844\u001b[0m \u001b[1;36m-0.003002\u001b[0m    \u001b[1m[\u001b[0m\u001b[1;36m-0.01\u001b[0m, \u001b[1;36m0.0\u001b[0m\u001b[1m]\u001b[0m   \u001b[1;36m6.086493e-02\u001b[0m       \u001b[1;36m0.012\u001b[0m  \u001b[1;36m0.466\u001b[0m  \n",
       "\u001b[1;36m5\u001b[0m  \u001b[1;36m389844\u001b[0m  \u001b[1;36m0.810655\u001b[0m    \u001b[1m[\u001b[0m\u001b[1;36m0.81\u001b[0m, \u001b[1;36m0.81\u001b[0m\u001b[1m]\u001b[0m   \u001b[1;36m0.000000e+00\u001b[0m         inf  \u001b[1;36m1.000\u001b[0m  "
      ]
     },
     "execution_count": 365,
     "metadata": {},
     "output_type": "execute_result"
    }
   ],
   "source": [
    "pg.pairwise_corr(data, method=\"pearson\")"
   ]
  },
  {
   "cell_type": "markdown",
   "id": "426b98cd",
   "metadata": {},
   "source": [
    "**Make a new Pandas DataFrame with \"classifier correctness\" labels.** This DataFrame should have:\n",
    "\n",
    "- One **column per classifier**, e.g. the \"bad\" classifier before hyperparameter tuning, the \"better\" classifier from after tuning, and the \"majority\" classifier.\n",
    "- One **row per instance in your test set**.\n",
    "- A value of **`True` or `False` in each cell**, depending on whether the classifier _(column)_ correctly classified the instance _(row)_ or not.\n",
    "\n",
    "Your resulting DataFrame could look something like this:\n",
    "\n",
    "|       | **better** | **bad**  | **majority** |\n",
    "|-------|----------|----------|--------------|\n",
    "| **0** | True     | False    | False        |\n",
    "| **1** | True     | False    | False        |\n",
    "| **2** | True     | True     | True         |\n",
    "| ...   | ...      | ...      | ...          |"
   ]
  },
  {
   "cell_type": "code",
   "execution_count": 422,
   "id": "b23f741b",
   "metadata": {},
   "outputs": [
    {
     "data": {
      "text/html": [
       "<pre style=\"white-space:pre;overflow-x:auto;line-height:normal;font-family:Menlo,'DejaVu Sans Mono',consolas,'Courier New',monospace\"></pre>\n"
      ],
      "text/plain": []
     },
     "metadata": {},
     "output_type": "display_data"
    },
    {
     "data": {
      "text/html": [
       "<div>\n",
       "<style scoped>\n",
       "    .dataframe tbody tr th:only-of-type {\n",
       "        vertical-align: middle;\n",
       "    }\n",
       "\n",
       "    .dataframe tbody tr th {\n",
       "        vertical-align: top;\n",
       "    }\n",
       "\n",
       "    .dataframe thead th {\n",
       "        text-align: right;\n",
       "    }\n",
       "</style>\n",
       "<table border=\"1\" class=\"dataframe\">\n",
       "  <thead>\n",
       "    <tr style=\"text-align: right;\">\n",
       "      <th></th>\n",
       "      <th>age</th>\n",
       "    </tr>\n",
       "  </thead>\n",
       "  <tbody>\n",
       "    <tr>\n",
       "      <th>180857</th>\n",
       "      <td>2</td>\n",
       "    </tr>\n",
       "    <tr>\n",
       "      <th>234529</th>\n",
       "      <td>2</td>\n",
       "    </tr>\n",
       "    <tr>\n",
       "      <th>16578</th>\n",
       "      <td>2</td>\n",
       "    </tr>\n",
       "    <tr>\n",
       "      <th>252931</th>\n",
       "      <td>2</td>\n",
       "    </tr>\n",
       "    <tr>\n",
       "      <th>293568</th>\n",
       "      <td>2</td>\n",
       "    </tr>\n",
       "    <tr>\n",
       "      <th>...</th>\n",
       "      <td>...</td>\n",
       "    </tr>\n",
       "    <tr>\n",
       "      <th>234736</th>\n",
       "      <td>2</td>\n",
       "    </tr>\n",
       "    <tr>\n",
       "      <th>3371</th>\n",
       "      <td>2</td>\n",
       "    </tr>\n",
       "    <tr>\n",
       "      <th>407777</th>\n",
       "      <td>2</td>\n",
       "    </tr>\n",
       "    <tr>\n",
       "      <th>78508</th>\n",
       "      <td>2</td>\n",
       "    </tr>\n",
       "    <tr>\n",
       "      <th>221549</th>\n",
       "      <td>2</td>\n",
       "    </tr>\n",
       "  </tbody>\n",
       "</table>\n",
       "<p>116954 rows × 1 columns</p>\n",
       "</div>"
      ],
      "text/plain": [
       "\n",
       "        age\n",
       "\u001b[1;36m180857\u001b[0m    \u001b[1;36m2\u001b[0m\n",
       "\u001b[1;36m234529\u001b[0m    \u001b[1;36m2\u001b[0m\n",
       "\u001b[1;36m16578\u001b[0m     \u001b[1;36m2\u001b[0m\n",
       "\u001b[1;36m252931\u001b[0m    \u001b[1;36m2\u001b[0m\n",
       "\u001b[1;36m293568\u001b[0m    \u001b[1;36m2\u001b[0m\n",
       "\u001b[33m...\u001b[0m     \u001b[33m...\u001b[0m\n",
       "\u001b[1;36m234736\u001b[0m    \u001b[1;36m2\u001b[0m\n",
       "\u001b[1;36m3371\u001b[0m      \u001b[1;36m2\u001b[0m\n",
       "\u001b[1;36m407777\u001b[0m    \u001b[1;36m2\u001b[0m\n",
       "\u001b[1;36m78508\u001b[0m     \u001b[1;36m2\u001b[0m\n",
       "\u001b[1;36m221549\u001b[0m    \u001b[1;36m2\u001b[0m\n",
       "\n",
       "\u001b[1m[\u001b[0m\u001b[1;36m116954\u001b[0m rows x \u001b[1;36m1\u001b[0m columns\u001b[1m]\u001b[0m"
      ]
     },
     "execution_count": 422,
     "metadata": {},
     "output_type": "execute_result"
    }
   ],
   "source": [
    "y_majority_df = pd.DataFrame(\n",
    "    y_majority,\n",
    "    index=X_test.index,\n",
    "    columns=[\"age\"],\n",
    ")\n",
    "y_majority_df"
   ]
  },
  {
   "cell_type": "code",
   "execution_count": 423,
   "id": "7089b351",
   "metadata": {},
   "outputs": [
    {
     "data": {
      "text/html": [
       "<pre style=\"white-space:pre;overflow-x:auto;line-height:normal;font-family:Menlo,'DejaVu Sans Mono',consolas,'Courier New',monospace\"></pre>\n"
      ],
      "text/plain": []
     },
     "metadata": {},
     "output_type": "display_data"
    },
    {
     "data": {
      "text/html": [
       "<div>\n",
       "<style scoped>\n",
       "    .dataframe tbody tr th:only-of-type {\n",
       "        vertical-align: middle;\n",
       "    }\n",
       "\n",
       "    .dataframe tbody tr th {\n",
       "        vertical-align: top;\n",
       "    }\n",
       "\n",
       "    .dataframe thead th {\n",
       "        text-align: right;\n",
       "    }\n",
       "</style>\n",
       "<table border=\"1\" class=\"dataframe\">\n",
       "  <thead>\n",
       "    <tr style=\"text-align: right;\">\n",
       "      <th></th>\n",
       "      <th>age</th>\n",
       "    </tr>\n",
       "  </thead>\n",
       "  <tbody>\n",
       "    <tr>\n",
       "      <th>180857</th>\n",
       "      <td>7</td>\n",
       "    </tr>\n",
       "    <tr>\n",
       "      <th>234529</th>\n",
       "      <td>5</td>\n",
       "    </tr>\n",
       "    <tr>\n",
       "      <th>16578</th>\n",
       "      <td>1</td>\n",
       "    </tr>\n",
       "    <tr>\n",
       "      <th>252931</th>\n",
       "      <td>5</td>\n",
       "    </tr>\n",
       "    <tr>\n",
       "      <th>293568</th>\n",
       "      <td>7</td>\n",
       "    </tr>\n",
       "    <tr>\n",
       "      <th>...</th>\n",
       "      <td>...</td>\n",
       "    </tr>\n",
       "    <tr>\n",
       "      <th>234736</th>\n",
       "      <td>7</td>\n",
       "    </tr>\n",
       "    <tr>\n",
       "      <th>3371</th>\n",
       "      <td>0</td>\n",
       "    </tr>\n",
       "    <tr>\n",
       "      <th>407777</th>\n",
       "      <td>6</td>\n",
       "    </tr>\n",
       "    <tr>\n",
       "      <th>78508</th>\n",
       "      <td>3</td>\n",
       "    </tr>\n",
       "    <tr>\n",
       "      <th>221549</th>\n",
       "      <td>6</td>\n",
       "    </tr>\n",
       "  </tbody>\n",
       "</table>\n",
       "<p>116954 rows × 1 columns</p>\n",
       "</div>"
      ],
      "text/plain": [
       "\n",
       "        age\n",
       "\u001b[1;36m180857\u001b[0m    \u001b[1;36m7\u001b[0m\n",
       "\u001b[1;36m234529\u001b[0m    \u001b[1;36m5\u001b[0m\n",
       "\u001b[1;36m16578\u001b[0m     \u001b[1;36m1\u001b[0m\n",
       "\u001b[1;36m252931\u001b[0m    \u001b[1;36m5\u001b[0m\n",
       "\u001b[1;36m293568\u001b[0m    \u001b[1;36m7\u001b[0m\n",
       "\u001b[33m...\u001b[0m     \u001b[33m...\u001b[0m\n",
       "\u001b[1;36m234736\u001b[0m    \u001b[1;36m7\u001b[0m\n",
       "\u001b[1;36m3371\u001b[0m      \u001b[1;36m0\u001b[0m\n",
       "\u001b[1;36m407777\u001b[0m    \u001b[1;36m6\u001b[0m\n",
       "\u001b[1;36m78508\u001b[0m     \u001b[1;36m3\u001b[0m\n",
       "\u001b[1;36m221549\u001b[0m    \u001b[1;36m6\u001b[0m\n",
       "\n",
       "\u001b[1m[\u001b[0m\u001b[1;36m116954\u001b[0m rows x \u001b[1;36m1\u001b[0m columns\u001b[1m]\u001b[0m"
      ]
     },
     "execution_count": 423,
     "metadata": {},
     "output_type": "execute_result"
    }
   ],
   "source": [
    "y_pred_better_df = pd.DataFrame(\n",
    "    y_pred_better,\n",
    "    index=X_test.index,\n",
    "    columns=[\"age\"],\n",
    ")\n",
    "y_pred_better_df"
   ]
  },
  {
   "cell_type": "code",
   "execution_count": 424,
   "id": "1a970db3",
   "metadata": {},
   "outputs": [
    {
     "data": {
      "text/html": [
       "<pre style=\"white-space:pre;overflow-x:auto;line-height:normal;font-family:Menlo,'DejaVu Sans Mono',consolas,'Courier New',monospace\"></pre>\n"
      ],
      "text/plain": []
     },
     "metadata": {},
     "output_type": "display_data"
    },
    {
     "data": {
      "text/html": [
       "<div>\n",
       "<style scoped>\n",
       "    .dataframe tbody tr th:only-of-type {\n",
       "        vertical-align: middle;\n",
       "    }\n",
       "\n",
       "    .dataframe tbody tr th {\n",
       "        vertical-align: top;\n",
       "    }\n",
       "\n",
       "    .dataframe thead th {\n",
       "        text-align: right;\n",
       "    }\n",
       "</style>\n",
       "<table border=\"1\" class=\"dataframe\">\n",
       "  <thead>\n",
       "    <tr style=\"text-align: right;\">\n",
       "      <th></th>\n",
       "      <th>age</th>\n",
       "    </tr>\n",
       "  </thead>\n",
       "  <tbody>\n",
       "    <tr>\n",
       "      <th>180857</th>\n",
       "      <td>7</td>\n",
       "    </tr>\n",
       "    <tr>\n",
       "      <th>234529</th>\n",
       "      <td>5</td>\n",
       "    </tr>\n",
       "    <tr>\n",
       "      <th>16578</th>\n",
       "      <td>1</td>\n",
       "    </tr>\n",
       "    <tr>\n",
       "      <th>252931</th>\n",
       "      <td>5</td>\n",
       "    </tr>\n",
       "    <tr>\n",
       "      <th>293568</th>\n",
       "      <td>7</td>\n",
       "    </tr>\n",
       "    <tr>\n",
       "      <th>...</th>\n",
       "      <td>...</td>\n",
       "    </tr>\n",
       "    <tr>\n",
       "      <th>234736</th>\n",
       "      <td>7</td>\n",
       "    </tr>\n",
       "    <tr>\n",
       "      <th>3371</th>\n",
       "      <td>0</td>\n",
       "    </tr>\n",
       "    <tr>\n",
       "      <th>407777</th>\n",
       "      <td>5</td>\n",
       "    </tr>\n",
       "    <tr>\n",
       "      <th>78508</th>\n",
       "      <td>3</td>\n",
       "    </tr>\n",
       "    <tr>\n",
       "      <th>221549</th>\n",
       "      <td>6</td>\n",
       "    </tr>\n",
       "  </tbody>\n",
       "</table>\n",
       "<p>116954 rows × 1 columns</p>\n",
       "</div>"
      ],
      "text/plain": [
       "\n",
       "        age\n",
       "\u001b[1;36m180857\u001b[0m    \u001b[1;36m7\u001b[0m\n",
       "\u001b[1;36m234529\u001b[0m    \u001b[1;36m5\u001b[0m\n",
       "\u001b[1;36m16578\u001b[0m     \u001b[1;36m1\u001b[0m\n",
       "\u001b[1;36m252931\u001b[0m    \u001b[1;36m5\u001b[0m\n",
       "\u001b[1;36m293568\u001b[0m    \u001b[1;36m7\u001b[0m\n",
       "\u001b[33m...\u001b[0m     \u001b[33m...\u001b[0m\n",
       "\u001b[1;36m234736\u001b[0m    \u001b[1;36m7\u001b[0m\n",
       "\u001b[1;36m3371\u001b[0m      \u001b[1;36m0\u001b[0m\n",
       "\u001b[1;36m407777\u001b[0m    \u001b[1;36m5\u001b[0m\n",
       "\u001b[1;36m78508\u001b[0m     \u001b[1;36m3\u001b[0m\n",
       "\u001b[1;36m221549\u001b[0m    \u001b[1;36m6\u001b[0m\n",
       "\n",
       "\u001b[1m[\u001b[0m\u001b[1;36m116954\u001b[0m rows x \u001b[1;36m1\u001b[0m columns\u001b[1m]\u001b[0m"
      ]
     },
     "execution_count": 424,
     "metadata": {},
     "output_type": "execute_result"
    }
   ],
   "source": [
    "y_pred_bad_df = pd.DataFrame(\n",
    "    y_pred_bad,\n",
    "    index=X_test.index,\n",
    "    columns=[\"age\"],\n",
    ")\n",
    "y_pred_bad_df"
   ]
  },
  {
   "cell_type": "code",
   "execution_count": 429,
   "id": "e802790f",
   "metadata": {},
   "outputs": [
    {
     "data": {
      "text/html": [
       "<pre style=\"white-space:pre;overflow-x:auto;line-height:normal;font-family:Menlo,'DejaVu Sans Mono',consolas,'Courier New',monospace\"></pre>\n"
      ],
      "text/plain": []
     },
     "metadata": {},
     "output_type": "display_data"
    },
    {
     "data": {
      "text/html": [
       "<div>\n",
       "<style scoped>\n",
       "    .dataframe tbody tr th:only-of-type {\n",
       "        vertical-align: middle;\n",
       "    }\n",
       "\n",
       "    .dataframe tbody tr th {\n",
       "        vertical-align: top;\n",
       "    }\n",
       "\n",
       "    .dataframe thead th {\n",
       "        text-align: right;\n",
       "    }\n",
       "</style>\n",
       "<table border=\"1\" class=\"dataframe\">\n",
       "  <thead>\n",
       "    <tr style=\"text-align: right;\">\n",
       "      <th></th>\n",
       "      <th>better</th>\n",
       "      <th>bad</th>\n",
       "      <th>majority</th>\n",
       "    </tr>\n",
       "  </thead>\n",
       "  <tbody>\n",
       "    <tr>\n",
       "      <th>180857</th>\n",
       "      <td>True</td>\n",
       "      <td>True</td>\n",
       "      <td>False</td>\n",
       "    </tr>\n",
       "    <tr>\n",
       "      <th>234529</th>\n",
       "      <td>False</td>\n",
       "      <td>False</td>\n",
       "      <td>False</td>\n",
       "    </tr>\n",
       "    <tr>\n",
       "      <th>16578</th>\n",
       "      <td>False</td>\n",
       "      <td>False</td>\n",
       "      <td>False</td>\n",
       "    </tr>\n",
       "    <tr>\n",
       "      <th>252931</th>\n",
       "      <td>False</td>\n",
       "      <td>False</td>\n",
       "      <td>False</td>\n",
       "    </tr>\n",
       "    <tr>\n",
       "      <th>293568</th>\n",
       "      <td>False</td>\n",
       "      <td>False</td>\n",
       "      <td>False</td>\n",
       "    </tr>\n",
       "    <tr>\n",
       "      <th>...</th>\n",
       "      <td>...</td>\n",
       "      <td>...</td>\n",
       "      <td>...</td>\n",
       "    </tr>\n",
       "    <tr>\n",
       "      <th>234736</th>\n",
       "      <td>True</td>\n",
       "      <td>True</td>\n",
       "      <td>False</td>\n",
       "    </tr>\n",
       "    <tr>\n",
       "      <th>3371</th>\n",
       "      <td>True</td>\n",
       "      <td>True</td>\n",
       "      <td>False</td>\n",
       "    </tr>\n",
       "    <tr>\n",
       "      <th>407777</th>\n",
       "      <td>True</td>\n",
       "      <td>False</td>\n",
       "      <td>False</td>\n",
       "    </tr>\n",
       "    <tr>\n",
       "      <th>78508</th>\n",
       "      <td>True</td>\n",
       "      <td>True</td>\n",
       "      <td>False</td>\n",
       "    </tr>\n",
       "    <tr>\n",
       "      <th>221549</th>\n",
       "      <td>False</td>\n",
       "      <td>False</td>\n",
       "      <td>False</td>\n",
       "    </tr>\n",
       "  </tbody>\n",
       "</table>\n",
       "<p>116954 rows × 3 columns</p>\n",
       "</div>"
      ],
      "text/plain": [
       "\n",
       "        better    bad  majority\n",
       "\u001b[1;36m180857\u001b[0m    \u001b[3;92mTrue\u001b[0m   \u001b[3;92mTrue\u001b[0m     \u001b[3;91mFalse\u001b[0m\n",
       "\u001b[1;36m234529\u001b[0m   \u001b[3;91mFalse\u001b[0m  \u001b[3;91mFalse\u001b[0m     \u001b[3;91mFalse\u001b[0m\n",
       "\u001b[1;36m16578\u001b[0m    \u001b[3;91mFalse\u001b[0m  \u001b[3;91mFalse\u001b[0m     \u001b[3;91mFalse\u001b[0m\n",
       "\u001b[1;36m252931\u001b[0m   \u001b[3;91mFalse\u001b[0m  \u001b[3;91mFalse\u001b[0m     \u001b[3;91mFalse\u001b[0m\n",
       "\u001b[1;36m293568\u001b[0m   \u001b[3;91mFalse\u001b[0m  \u001b[3;91mFalse\u001b[0m     \u001b[3;91mFalse\u001b[0m\n",
       "\u001b[33m...\u001b[0m        \u001b[33m...\u001b[0m    \u001b[33m...\u001b[0m       \u001b[33m...\u001b[0m\n",
       "\u001b[1;36m234736\u001b[0m    \u001b[3;92mTrue\u001b[0m   \u001b[3;92mTrue\u001b[0m     \u001b[3;91mFalse\u001b[0m\n",
       "\u001b[1;36m3371\u001b[0m      \u001b[3;92mTrue\u001b[0m   \u001b[3;92mTrue\u001b[0m     \u001b[3;91mFalse\u001b[0m\n",
       "\u001b[1;36m407777\u001b[0m    \u001b[3;92mTrue\u001b[0m  \u001b[3;91mFalse\u001b[0m     \u001b[3;91mFalse\u001b[0m\n",
       "\u001b[1;36m78508\u001b[0m     \u001b[3;92mTrue\u001b[0m   \u001b[3;92mTrue\u001b[0m     \u001b[3;91mFalse\u001b[0m\n",
       "\u001b[1;36m221549\u001b[0m   \u001b[3;91mFalse\u001b[0m  \u001b[3;91mFalse\u001b[0m     \u001b[3;91mFalse\u001b[0m\n",
       "\n",
       "\u001b[1m[\u001b[0m\u001b[1;36m116954\u001b[0m rows x \u001b[1;36m3\u001b[0m columns\u001b[1m]\u001b[0m"
      ]
     },
     "execution_count": 429,
     "metadata": {},
     "output_type": "execute_result"
    }
   ],
   "source": [
    "df_eval = pd.DataFrame(\n",
    "    {\n",
    "        \"better\": y_pred_better_df[\"age\"] == y_test[\"age\"],\n",
    "        \"bad\": y_pred_bad_df[\"age\"] == y_test[\"age\"],\n",
    "        \"majority\": y_majority_df[\"age\"] == y_test[\"age\"],\n",
    "    }\n",
    ")\n",
    "df_eval"
   ]
  },
  {
   "cell_type": "markdown",
   "id": "5bdf7043",
   "metadata": {},
   "source": [
    "**Is the \"bad\" model (no hyperparameter tuning) still significantly better than the \"majority\" class model?**\n",
    "\n",
    "We answer this question by using **McNemar's test,** using a significance level of $0.05$.  This means that if McNemar's test gives us a $p$-value $< 0.05$, we accept that there is a significant difference between our two classifiers."
   ]
  },
  {
   "cell_type": "code",
   "execution_count": 430,
   "id": "3b78019c",
   "metadata": {},
   "outputs": [
    {
     "data": {
      "text/html": [
       "<pre style=\"white-space:pre;overflow-x:auto;line-height:normal;font-family:Menlo,'DejaVu Sans Mono',consolas,'Courier New',monospace\"></pre>\n"
      ],
      "text/plain": []
     },
     "metadata": {},
     "output_type": "display_data"
    },
    {
     "data": {
      "text/html": [
       "<div>\n",
       "<style scoped>\n",
       "    .dataframe tbody tr th:only-of-type {\n",
       "        vertical-align: middle;\n",
       "    }\n",
       "\n",
       "    .dataframe tbody tr th {\n",
       "        vertical-align: top;\n",
       "    }\n",
       "\n",
       "    .dataframe thead th {\n",
       "        text-align: right;\n",
       "    }\n",
       "</style>\n",
       "<table border=\"1\" class=\"dataframe\">\n",
       "  <thead>\n",
       "    <tr style=\"text-align: right;\">\n",
       "      <th></th>\n",
       "      <th>chi2</th>\n",
       "      <th>dof</th>\n",
       "      <th>p-approx</th>\n",
       "      <th>p-exact</th>\n",
       "    </tr>\n",
       "  </thead>\n",
       "  <tbody>\n",
       "    <tr>\n",
       "      <th>mcnemar</th>\n",
       "      <td>21831.25069</td>\n",
       "      <td>1</td>\n",
       "      <td>0.0</td>\n",
       "      <td>0.0</td>\n",
       "    </tr>\n",
       "  </tbody>\n",
       "</table>\n",
       "</div>"
      ],
      "text/plain": [
       "\n",
       "                chi2  dof  p-approx  p-exact\n",
       "mcnemar  \u001b[1;36m21831.25069\u001b[0m    \u001b[1;36m1\u001b[0m       \u001b[1;36m0.0\u001b[0m      \u001b[1;36m0.0\u001b[0m"
      ]
     },
     "execution_count": 430,
     "metadata": {},
     "output_type": "execute_result"
    }
   ],
   "source": [
    "observed, stats = pg.chi2_mcnemar(df_eval, \"bad\", \"majority\")\n",
    "stats"
   ]
  },
  {
   "cell_type": "markdown",
   "id": "123af50e",
   "metadata": {},
   "source": [
    "**Is the \"better\" model (from after tuning) significantly better than the \"bad\" model (from before tuning)?**  Same as above, just comparing different columns."
   ]
  },
  {
   "cell_type": "code",
   "execution_count": 431,
   "id": "11d16016",
   "metadata": {},
   "outputs": [
    {
     "data": {
      "text/html": [
       "<pre style=\"white-space:pre;overflow-x:auto;line-height:normal;font-family:Menlo,'DejaVu Sans Mono',consolas,'Courier New',monospace\"></pre>\n"
      ],
      "text/plain": []
     },
     "metadata": {},
     "output_type": "display_data"
    },
    {
     "data": {
      "text/html": [
       "<div>\n",
       "<style scoped>\n",
       "    .dataframe tbody tr th:only-of-type {\n",
       "        vertical-align: middle;\n",
       "    }\n",
       "\n",
       "    .dataframe tbody tr th {\n",
       "        vertical-align: top;\n",
       "    }\n",
       "\n",
       "    .dataframe thead th {\n",
       "        text-align: right;\n",
       "    }\n",
       "</style>\n",
       "<table border=\"1\" class=\"dataframe\">\n",
       "  <thead>\n",
       "    <tr style=\"text-align: right;\">\n",
       "      <th></th>\n",
       "      <th>chi2</th>\n",
       "      <th>dof</th>\n",
       "      <th>p-approx</th>\n",
       "      <th>p-exact</th>\n",
       "    </tr>\n",
       "  </thead>\n",
       "  <tbody>\n",
       "    <tr>\n",
       "      <th>mcnemar</th>\n",
       "      <td>1255.704719</td>\n",
       "      <td>1</td>\n",
       "      <td>4.778989e-275</td>\n",
       "      <td>1.148580e-277</td>\n",
       "    </tr>\n",
       "  </tbody>\n",
       "</table>\n",
       "</div>"
      ],
      "text/plain": [
       "\n",
       "                chi2  dof       p-approx        p-exact\n",
       "mcnemar  \u001b[1;36m1255.704719\u001b[0m    \u001b[1;36m1\u001b[0m  \u001b[1;36m4.778989e-275\u001b[0m  \u001b[1;36m1.148580e-277\u001b[0m"
      ]
     },
     "execution_count": 431,
     "metadata": {},
     "output_type": "execute_result"
    }
   ],
   "source": [
    "observed, stats = pg.chi2_mcnemar(df_eval, \"better\", \"bad\")\n",
    "stats"
   ]
  },
  {
   "cell_type": "markdown",
   "id": "3ce072f6",
   "metadata": {},
   "source": [
    "**Perform a principal component analysis (PCA).** Two dimensions are a common choice to make them suitable for visualization.\n",
    "\n",
    "Plot the result\n"
   ]
  },
  {
   "cell_type": "code",
   "execution_count": 25,
   "id": "c39eb6c9",
   "metadata": {},
   "outputs": [
    {
     "data": {
      "text/html": [
       "<pre style=\"white-space:pre;overflow-x:auto;line-height:normal;font-family:Menlo,'DejaVu Sans Mono',consolas,'Courier New',monospace\"></pre>\n"
      ],
      "text/plain": []
     },
     "metadata": {},
     "output_type": "display_data"
    },
    {
     "data": {
      "image/png": "[encoded data removed]",
      "text/plain": [
       "\u001b[1m<\u001b[0m\u001b[1;95mFigure\u001b[0m\u001b[39m size 80\u001b[0m\u001b[1;36m0x600\u001b[0m\u001b[39m with \u001b[0m\u001b[1;36m1\u001b[0m\u001b[39m Axes\u001b[0m\u001b[1m>\u001b[0m"
      ]
     },
     "metadata": {},
     "output_type": "display_data"
    }
   ],
   "source": [
    "from sklearn.decomposition import PCA\n",
    "from sklearn.preprocessing import StandardScaler\n",
    "\n",
    "# Select numeric columns\n",
    "numeric_cols = [\"year\", \"total_sum_sek_millions\", \"number_of_persons\"]\n",
    "X_numeric = data[numeric_cols].dropna()\n",
    "\n",
    "# Standardize features\n",
    "scaler = StandardScaler()\n",
    "X_scaled = scaler.fit_transform(X_numeric)\n",
    "\n",
    "# Fit PCA\n",
    "pca = PCA(n_components=2)\n",
    "X_pca = pca.fit_transform(X_scaled)\n",
    "\n",
    "# Make a DataFrame for plotting\n",
    "pca_df = pd.DataFrame(X_pca, columns=[\"PC1\", \"PC2\"])\n",
    "# Optionally add a label for coloring, e.g., age\n",
    "pca_df[\"age\"] = data.loc[X_numeric.index, \"age\"].astype(str)\n",
    "\n",
    "# Plot\n",
    "plt.figure(figsize=(8, 6))\n",
    "sns.scatterplot(x=\"PC1\", y=\"PC2\", hue=\"age\", data=pca_df, palette=\"tab10\", alpha=0.5)\n",
    "plt.title(\"PCA of Numeric Features (colored by age)\")\n",
    "plt.legend(bbox_to_anchor=(1.05, 1), loc=\"upper left\")\n",
    "plt.tight_layout()\n",
    "plt.show()"
   ]
  }
 ],
 "metadata": {
  "kernelspec": {
   "display_name": "Python 3",
   "language": "python",
   "name": "python3"
  },
  "language_info": {
   "codemirror_mode": {
    "name": "ipython",
    "version": 3
   },
   "file_extension": ".py",
   "mimetype": "text/x-python",
   "name": "python",
   "nbconvert_exporter": "python",
   "pygments_lexer": "ipython3",
   "version": "3.12.7"
  }
 },
 "nbformat": 4,
 "nbformat_minor": 5
}
