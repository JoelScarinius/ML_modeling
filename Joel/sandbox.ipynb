{
 "cells": [
  {
   "cell_type": "code",
   "execution_count": 1,
   "id": "cd3575e9",
   "metadata": {},
   "outputs": [],
   "source": [
    "try:\n",
    "    from rich import load_ipython_extension\n",
    "    %load_ext rich\n",
    "except ImportError:\n",
    "    try:\n",
    "        from rich import pretty\n",
    "        pretty.install()\n",
    "    except ImportError:\n",
    "        pass"
   ]
  },
  {
   "cell_type": "code",
   "execution_count": 43,
   "id": "e8aa1d8e",
   "metadata": {},
   "outputs": [],
   "source": [
    "import pandas as pd\n",
    "import seaborn as sns\n",
    "import matplotlib.pyplot as plt\n",
    "import pingouin as pg\n",
    "import numpy as np\n",
    "from sklearn.cluster import KMeans\n",
    "from sklearn.mixture import GaussianMixture as GMM\n",
    "from sklearn.model_selection import train_test_split, cross_val_score, GridSearchCV, RandomizedSearchCV\n",
    "from sklearn.ensemble import HistGradientBoostingClassifier\n",
    "from sklearn.metrics import accuracy_score, f1_score, confusion_matrix\n",
    "from sklearn.inspection import permutation_importance"
   ]
  },
  {
   "cell_type": "markdown",
   "id": "34a2de24",
   "metadata": {},
   "source": [
    "Using the cleaned dataset created in assignment 1"
   ]
  },
  {
   "cell_type": "code",
   "execution_count": 3,
   "id": "542a2000",
   "metadata": {},
   "outputs": [
    {
     "data": {
      "text/html": [
       "<pre style=\"white-space:pre;overflow-x:auto;line-height:normal;font-family:Menlo,'DejaVu Sans Mono',consolas,'Courier New',monospace\"></pre>\n"
      ],
      "text/plain": []
     },
     "metadata": {},
     "output_type": "display_data"
    },
    {
     "data": {
      "text/html": [
       "<div>\n",
       "<style scoped>\n",
       "    .dataframe tbody tr th:only-of-type {\n",
       "        vertical-align: middle;\n",
       "    }\n",
       "\n",
       "    .dataframe tbody tr th {\n",
       "        vertical-align: top;\n",
       "    }\n",
       "\n",
       "    .dataframe thead th {\n",
       "        text-align: right;\n",
       "    }\n",
       "</style>\n",
       "<table border=\"1\" class=\"dataframe\">\n",
       "  <thead>\n",
       "    <tr style=\"text-align: right;\">\n",
       "      <th></th>\n",
       "      <th>sex</th>\n",
       "      <th>age</th>\n",
       "      <th>income_bracket</th>\n",
       "      <th>year</th>\n",
       "      <th>total_sum_sek_millions</th>\n",
       "      <th>number_of_persons</th>\n",
       "      <th>region_name</th>\n",
       "      <th>level_of_education</th>\n",
       "    </tr>\n",
       "  </thead>\n",
       "  <tbody>\n",
       "    <tr>\n",
       "      <th>0</th>\n",
       "      <td>Man</td>\n",
       "      <td>16-19</td>\n",
       "      <td>TOT</td>\n",
       "      <td>2018</td>\n",
       "      <td>547.9</td>\n",
       "      <td>38091</td>\n",
       "      <td>Stockholm</td>\n",
       "      <td>primary/lower secondary</td>\n",
       "    </tr>\n",
       "    <tr>\n",
       "      <th>1</th>\n",
       "      <td>Man</td>\n",
       "      <td>16-19</td>\n",
       "      <td>0</td>\n",
       "      <td>2018</td>\n",
       "      <td>0.0</td>\n",
       "      <td>13357</td>\n",
       "      <td>Stockholm</td>\n",
       "      <td>primary/lower secondary</td>\n",
       "    </tr>\n",
       "    <tr>\n",
       "      <th>2</th>\n",
       "      <td>Man</td>\n",
       "      <td>16-19</td>\n",
       "      <td>1-19</td>\n",
       "      <td>2018</td>\n",
       "      <td>137.9</td>\n",
       "      <td>17417</td>\n",
       "      <td>Stockholm</td>\n",
       "      <td>primary/lower secondary</td>\n",
       "    </tr>\n",
       "    <tr>\n",
       "      <th>3</th>\n",
       "      <td>Man</td>\n",
       "      <td>16-19</td>\n",
       "      <td>20-39</td>\n",
       "      <td>2018</td>\n",
       "      <td>106.1</td>\n",
       "      <td>3763</td>\n",
       "      <td>Stockholm</td>\n",
       "      <td>primary/lower secondary</td>\n",
       "    </tr>\n",
       "    <tr>\n",
       "      <th>4</th>\n",
       "      <td>Man</td>\n",
       "      <td>16-19</td>\n",
       "      <td>40-59</td>\n",
       "      <td>2018</td>\n",
       "      <td>77.2</td>\n",
       "      <td>1574</td>\n",
       "      <td>Stockholm</td>\n",
       "      <td>primary/lower secondary</td>\n",
       "    </tr>\n",
       "    <tr>\n",
       "      <th>...</th>\n",
       "      <td>...</td>\n",
       "      <td>...</td>\n",
       "      <td>...</td>\n",
       "      <td>...</td>\n",
       "      <td>...</td>\n",
       "      <td>...</td>\n",
       "      <td>...</td>\n",
       "      <td>...</td>\n",
       "    </tr>\n",
       "    <tr>\n",
       "      <th>409255</th>\n",
       "      <td>Woman</td>\n",
       "      <td>65-69</td>\n",
       "      <td>80-99</td>\n",
       "      <td>2012</td>\n",
       "      <td>0.9</td>\n",
       "      <td>10</td>\n",
       "      <td>Norrbotten</td>\n",
       "      <td>unknown</td>\n",
       "    </tr>\n",
       "    <tr>\n",
       "      <th>409256</th>\n",
       "      <td>Woman</td>\n",
       "      <td>70-75</td>\n",
       "      <td>TOT</td>\n",
       "      <td>2012</td>\n",
       "      <td>2.4</td>\n",
       "      <td>36</td>\n",
       "      <td>Norrbotten</td>\n",
       "      <td>unknown</td>\n",
       "    </tr>\n",
       "    <tr>\n",
       "      <th>409257</th>\n",
       "      <td>Woman</td>\n",
       "      <td>70-75</td>\n",
       "      <td>0</td>\n",
       "      <td>2012</td>\n",
       "      <td>0.0</td>\n",
       "      <td>11</td>\n",
       "      <td>Norrbotten</td>\n",
       "      <td>unknown</td>\n",
       "    </tr>\n",
       "    <tr>\n",
       "      <th>409258</th>\n",
       "      <td>Woman</td>\n",
       "      <td>70-75</td>\n",
       "      <td>1-19</td>\n",
       "      <td>2012</td>\n",
       "      <td>0.1</td>\n",
       "      <td>6</td>\n",
       "      <td>Norrbotten</td>\n",
       "      <td>unknown</td>\n",
       "    </tr>\n",
       "    <tr>\n",
       "      <th>409259</th>\n",
       "      <td>Woman</td>\n",
       "      <td>70-75</td>\n",
       "      <td>80-99</td>\n",
       "      <td>2012</td>\n",
       "      <td>0.6</td>\n",
       "      <td>6</td>\n",
       "      <td>Norrbotten</td>\n",
       "      <td>unknown</td>\n",
       "    </tr>\n",
       "  </tbody>\n",
       "</table>\n",
       "<p>409260 rows × 8 columns</p>\n",
       "</div>"
      ],
      "text/plain": [
       "\n",
       "          sex    age income_bracket  year  total_sum_sek_millions  \\\n",
       "\u001b[1;36m0\u001b[0m         Man  \u001b[1;36m16\u001b[0m-\u001b[1;36m19\u001b[0m            TOT  \u001b[1;36m2018\u001b[0m                   \u001b[1;36m547.9\u001b[0m   \n",
       "\u001b[1;36m1\u001b[0m         Man  \u001b[1;36m16\u001b[0m-\u001b[1;36m19\u001b[0m              \u001b[1;36m0\u001b[0m  \u001b[1;36m2018\u001b[0m                     \u001b[1;36m0.0\u001b[0m   \n",
       "\u001b[1;36m2\u001b[0m         Man  \u001b[1;36m16\u001b[0m-\u001b[1;36m19\u001b[0m           \u001b[1;36m1\u001b[0m-\u001b[1;36m19\u001b[0m  \u001b[1;36m2018\u001b[0m                   \u001b[1;36m137.9\u001b[0m   \n",
       "\u001b[1;36m3\u001b[0m         Man  \u001b[1;36m16\u001b[0m-\u001b[1;36m19\u001b[0m          \u001b[1;36m20\u001b[0m-\u001b[1;36m39\u001b[0m  \u001b[1;36m2018\u001b[0m                   \u001b[1;36m106.1\u001b[0m   \n",
       "\u001b[1;36m4\u001b[0m         Man  \u001b[1;36m16\u001b[0m-\u001b[1;36m19\u001b[0m          \u001b[1;36m40\u001b[0m-\u001b[1;36m59\u001b[0m  \u001b[1;36m2018\u001b[0m                    \u001b[1;36m77.2\u001b[0m   \n",
       "\u001b[33m...\u001b[0m       \u001b[33m...\u001b[0m    \u001b[33m...\u001b[0m            \u001b[33m...\u001b[0m   \u001b[33m...\u001b[0m                     \u001b[33m...\u001b[0m   \n",
       "\u001b[1;36m409255\u001b[0m  Woman  \u001b[1;36m65\u001b[0m-\u001b[1;36m69\u001b[0m          \u001b[1;36m80\u001b[0m-\u001b[1;36m99\u001b[0m  \u001b[1;36m2012\u001b[0m                     \u001b[1;36m0.9\u001b[0m   \n",
       "\u001b[1;36m409256\u001b[0m  Woman  \u001b[1;36m70\u001b[0m-\u001b[1;36m75\u001b[0m            TOT  \u001b[1;36m2012\u001b[0m                     \u001b[1;36m2.4\u001b[0m   \n",
       "\u001b[1;36m409257\u001b[0m  Woman  \u001b[1;36m70\u001b[0m-\u001b[1;36m75\u001b[0m              \u001b[1;36m0\u001b[0m  \u001b[1;36m2012\u001b[0m                     \u001b[1;36m0.0\u001b[0m   \n",
       "\u001b[1;36m409258\u001b[0m  Woman  \u001b[1;36m70\u001b[0m-\u001b[1;36m75\u001b[0m           \u001b[1;36m1\u001b[0m-\u001b[1;36m19\u001b[0m  \u001b[1;36m2012\u001b[0m                     \u001b[1;36m0.1\u001b[0m   \n",
       "\u001b[1;36m409259\u001b[0m  Woman  \u001b[1;36m70\u001b[0m-\u001b[1;36m75\u001b[0m          \u001b[1;36m80\u001b[0m-\u001b[1;36m99\u001b[0m  \u001b[1;36m2012\u001b[0m                     \u001b[1;36m0.6\u001b[0m   \n",
       "\n",
       "        number_of_persons region_name       level_of_education  \n",
       "\u001b[1;36m0\u001b[0m                   \u001b[1;36m38091\u001b[0m   Stockholm  primary/lower secondary  \n",
       "\u001b[1;36m1\u001b[0m                   \u001b[1;36m13357\u001b[0m   Stockholm  primary/lower secondary  \n",
       "\u001b[1;36m2\u001b[0m                   \u001b[1;36m17417\u001b[0m   Stockholm  primary/lower secondary  \n",
       "\u001b[1;36m3\u001b[0m                    \u001b[1;36m3763\u001b[0m   Stockholm  primary/lower secondary  \n",
       "\u001b[1;36m4\u001b[0m                    \u001b[1;36m1574\u001b[0m   Stockholm  primary/lower secondary  \n",
       "\u001b[33m...\u001b[0m                   \u001b[33m...\u001b[0m         \u001b[33m...\u001b[0m                      \u001b[33m...\u001b[0m  \n",
       "\u001b[1;36m409255\u001b[0m                 \u001b[1;36m10\u001b[0m  Norrbotten                  unknown  \n",
       "\u001b[1;36m409256\u001b[0m                 \u001b[1;36m36\u001b[0m  Norrbotten                  unknown  \n",
       "\u001b[1;36m409257\u001b[0m                 \u001b[1;36m11\u001b[0m  Norrbotten                  unknown  \n",
       "\u001b[1;36m409258\u001b[0m                  \u001b[1;36m6\u001b[0m  Norrbotten                  unknown  \n",
       "\u001b[1;36m409259\u001b[0m                  \u001b[1;36m6\u001b[0m  Norrbotten                  unknown  \n",
       "\n",
       "\u001b[1m[\u001b[0m\u001b[1;36m409260\u001b[0m rows x \u001b[1;36m8\u001b[0m columns\u001b[1m]\u001b[0m"
      ]
     },
     "execution_count": 3,
     "metadata": {},
     "output_type": "execute_result"
    }
   ],
   "source": [
    "data = pd.read_csv(\"../data/manipulated_data.csv\")\n",
    "data"
   ]
  },
  {
   "cell_type": "markdown",
   "id": "f2a7186a",
   "metadata": {},
   "source": [
    "I will try to classify which age the test instances has based on their features."
   ]
  },
  {
   "cell_type": "code",
   "execution_count": 4,
   "id": "a3ab7b38",
   "metadata": {},
   "outputs": [
    {
     "data": {
      "text/html": [
       "<pre style=\"white-space:pre;overflow-x:auto;line-height:normal;font-family:Menlo,'DejaVu Sans Mono',consolas,'Courier New',monospace\"></pre>\n"
      ],
      "text/plain": []
     },
     "metadata": {},
     "output_type": "display_data"
    },
    {
     "data": {
      "text/plain": [
       "\u001b[1m[\u001b[0m\u001b[32m'16-19'\u001b[0m, \u001b[32m'20-29'\u001b[0m, \u001b[32m'30-39'\u001b[0m, \u001b[32m'40-49'\u001b[0m, \u001b[32m'50-59'\u001b[0m, \u001b[32m'60-64'\u001b[0m, \u001b[32m'65-69'\u001b[0m, \u001b[32m'70-75'\u001b[0m\u001b[1m]\u001b[0m"
      ]
     },
     "execution_count": 4,
     "metadata": {},
     "output_type": "execute_result"
    }
   ],
   "source": [
    "data[\"age\"].unique().tolist()"
   ]
  },
  {
   "cell_type": "markdown",
   "id": "68eb6d24",
   "metadata": {},
   "source": [
    "Number of instances for each age bin"
   ]
  },
  {
   "cell_type": "code",
   "execution_count": 46,
   "id": "7c0073c4",
   "metadata": {},
   "outputs": [
    {
     "data": {
      "text/html": [
       "<pre style=\"white-space:pre;overflow-x:auto;line-height:normal;font-family:Menlo,'DejaVu Sans Mono',consolas,'Courier New',monospace\"></pre>\n"
      ],
      "text/plain": []
     },
     "metadata": {},
     "output_type": "display_data"
    },
    {
     "data": {
      "text/plain": [
       "\n",
       "age\n",
       "\u001b[1;36m30\u001b[0m-\u001b[1;36m39\u001b[0m    \u001b[1;36m58938\u001b[0m\n",
       "\u001b[1;36m40\u001b[0m-\u001b[1;36m49\u001b[0m    \u001b[1;36m57395\u001b[0m\n",
       "\u001b[1;36m20\u001b[0m-\u001b[1;36m29\u001b[0m    \u001b[1;36m57333\u001b[0m\n",
       "\u001b[1;36m50\u001b[0m-\u001b[1;36m59\u001b[0m    \u001b[1;36m55641\u001b[0m\n",
       "\u001b[1;36m60\u001b[0m-\u001b[1;36m64\u001b[0m    \u001b[1;36m53044\u001b[0m\n",
       "\u001b[1;36m65\u001b[0m-\u001b[1;36m69\u001b[0m    \u001b[1;36m52566\u001b[0m\n",
       "\u001b[1;36m70\u001b[0m-\u001b[1;36m75\u001b[0m    \u001b[1;36m50595\u001b[0m\n",
       "\u001b[1;36m16\u001b[0m-\u001b[1;36m19\u001b[0m    \u001b[1;36m23748\u001b[0m\n",
       "Name: count, dtype: int64"
      ]
     },
     "execution_count": 46,
     "metadata": {},
     "output_type": "execute_result"
    }
   ],
   "source": [
    "data[\"age\"].value_counts()"
   ]
  },
  {
   "cell_type": "code",
   "execution_count": 5,
   "id": "80de6dfb",
   "metadata": {},
   "outputs": [
    {
     "data": {
      "text/html": [
       "<pre style=\"white-space:pre;overflow-x:auto;line-height:normal;font-family:Menlo,'DejaVu Sans Mono',consolas,'Courier New',monospace\"></pre>\n"
      ],
      "text/plain": []
     },
     "metadata": {},
     "output_type": "display_data"
    },
    {
     "data": {
      "text/html": [
       "<div>\n",
       "<style scoped>\n",
       "    .dataframe tbody tr th:only-of-type {\n",
       "        vertical-align: middle;\n",
       "    }\n",
       "\n",
       "    .dataframe tbody tr th {\n",
       "        vertical-align: top;\n",
       "    }\n",
       "\n",
       "    .dataframe thead th {\n",
       "        text-align: right;\n",
       "    }\n",
       "</style>\n",
       "<table border=\"1\" class=\"dataframe\">\n",
       "  <thead>\n",
       "    <tr style=\"text-align: right;\">\n",
       "      <th></th>\n",
       "      <th>age</th>\n",
       "    </tr>\n",
       "  </thead>\n",
       "  <tbody>\n",
       "    <tr>\n",
       "      <th>0</th>\n",
       "      <td>16-19</td>\n",
       "    </tr>\n",
       "    <tr>\n",
       "      <th>1</th>\n",
       "      <td>16-19</td>\n",
       "    </tr>\n",
       "    <tr>\n",
       "      <th>2</th>\n",
       "      <td>16-19</td>\n",
       "    </tr>\n",
       "    <tr>\n",
       "      <th>3</th>\n",
       "      <td>16-19</td>\n",
       "    </tr>\n",
       "    <tr>\n",
       "      <th>4</th>\n",
       "      <td>16-19</td>\n",
       "    </tr>\n",
       "    <tr>\n",
       "      <th>...</th>\n",
       "      <td>...</td>\n",
       "    </tr>\n",
       "    <tr>\n",
       "      <th>409255</th>\n",
       "      <td>65-69</td>\n",
       "    </tr>\n",
       "    <tr>\n",
       "      <th>409256</th>\n",
       "      <td>70-75</td>\n",
       "    </tr>\n",
       "    <tr>\n",
       "      <th>409257</th>\n",
       "      <td>70-75</td>\n",
       "    </tr>\n",
       "    <tr>\n",
       "      <th>409258</th>\n",
       "      <td>70-75</td>\n",
       "    </tr>\n",
       "    <tr>\n",
       "      <th>409259</th>\n",
       "      <td>70-75</td>\n",
       "    </tr>\n",
       "  </tbody>\n",
       "</table>\n",
       "<p>409260 rows × 1 columns</p>\n",
       "</div>"
      ],
      "text/plain": [
       "\n",
       "          age\n",
       "\u001b[1;36m0\u001b[0m       \u001b[1;36m16\u001b[0m-\u001b[1;36m19\u001b[0m\n",
       "\u001b[1;36m1\u001b[0m       \u001b[1;36m16\u001b[0m-\u001b[1;36m19\u001b[0m\n",
       "\u001b[1;36m2\u001b[0m       \u001b[1;36m16\u001b[0m-\u001b[1;36m19\u001b[0m\n",
       "\u001b[1;36m3\u001b[0m       \u001b[1;36m16\u001b[0m-\u001b[1;36m19\u001b[0m\n",
       "\u001b[1;36m4\u001b[0m       \u001b[1;36m16\u001b[0m-\u001b[1;36m19\u001b[0m\n",
       "\u001b[33m...\u001b[0m       \u001b[33m...\u001b[0m\n",
       "\u001b[1;36m409255\u001b[0m  \u001b[1;36m65\u001b[0m-\u001b[1;36m69\u001b[0m\n",
       "\u001b[1;36m409256\u001b[0m  \u001b[1;36m70\u001b[0m-\u001b[1;36m75\u001b[0m\n",
       "\u001b[1;36m409257\u001b[0m  \u001b[1;36m70\u001b[0m-\u001b[1;36m75\u001b[0m\n",
       "\u001b[1;36m409258\u001b[0m  \u001b[1;36m70\u001b[0m-\u001b[1;36m75\u001b[0m\n",
       "\u001b[1;36m409259\u001b[0m  \u001b[1;36m70\u001b[0m-\u001b[1;36m75\u001b[0m\n",
       "\n",
       "\u001b[1m[\u001b[0m\u001b[1;36m409260\u001b[0m rows x \u001b[1;36m1\u001b[0m columns\u001b[1m]\u001b[0m"
      ]
     },
     "execution_count": 5,
     "metadata": {},
     "output_type": "execute_result"
    }
   ],
   "source": [
    "labels = data[[\"age\"]]\n",
    "labels"
   ]
  },
  {
   "cell_type": "markdown",
   "id": "24eecd50",
   "metadata": {},
   "source": [
    "I will use all features in the first experiment."
   ]
  },
  {
   "cell_type": "code",
   "execution_count": 6,
   "id": "b870a328",
   "metadata": {},
   "outputs": [
    {
     "data": {
      "text/html": [
       "<pre style=\"white-space:pre;overflow-x:auto;line-height:normal;font-family:Menlo,'DejaVu Sans Mono',consolas,'Courier New',monospace\"></pre>\n"
      ],
      "text/plain": []
     },
     "metadata": {},
     "output_type": "display_data"
    },
    {
     "data": {
      "text/html": [
       "<div>\n",
       "<style scoped>\n",
       "    .dataframe tbody tr th:only-of-type {\n",
       "        vertical-align: middle;\n",
       "    }\n",
       "\n",
       "    .dataframe tbody tr th {\n",
       "        vertical-align: top;\n",
       "    }\n",
       "\n",
       "    .dataframe thead th {\n",
       "        text-align: right;\n",
       "    }\n",
       "</style>\n",
       "<table border=\"1\" class=\"dataframe\">\n",
       "  <thead>\n",
       "    <tr style=\"text-align: right;\">\n",
       "      <th></th>\n",
       "      <th>sex</th>\n",
       "      <th>income_bracket</th>\n",
       "      <th>year</th>\n",
       "      <th>total_sum_sek_millions</th>\n",
       "      <th>number_of_persons</th>\n",
       "      <th>region_name</th>\n",
       "      <th>level_of_education</th>\n",
       "    </tr>\n",
       "  </thead>\n",
       "  <tbody>\n",
       "    <tr>\n",
       "      <th>0</th>\n",
       "      <td>Man</td>\n",
       "      <td>TOT</td>\n",
       "      <td>2018</td>\n",
       "      <td>547.9</td>\n",
       "      <td>38091</td>\n",
       "      <td>Stockholm</td>\n",
       "      <td>primary/lower secondary</td>\n",
       "    </tr>\n",
       "    <tr>\n",
       "      <th>1</th>\n",
       "      <td>Man</td>\n",
       "      <td>0</td>\n",
       "      <td>2018</td>\n",
       "      <td>0.0</td>\n",
       "      <td>13357</td>\n",
       "      <td>Stockholm</td>\n",
       "      <td>primary/lower secondary</td>\n",
       "    </tr>\n",
       "    <tr>\n",
       "      <th>2</th>\n",
       "      <td>Man</td>\n",
       "      <td>1-19</td>\n",
       "      <td>2018</td>\n",
       "      <td>137.9</td>\n",
       "      <td>17417</td>\n",
       "      <td>Stockholm</td>\n",
       "      <td>primary/lower secondary</td>\n",
       "    </tr>\n",
       "    <tr>\n",
       "      <th>3</th>\n",
       "      <td>Man</td>\n",
       "      <td>20-39</td>\n",
       "      <td>2018</td>\n",
       "      <td>106.1</td>\n",
       "      <td>3763</td>\n",
       "      <td>Stockholm</td>\n",
       "      <td>primary/lower secondary</td>\n",
       "    </tr>\n",
       "    <tr>\n",
       "      <th>4</th>\n",
       "      <td>Man</td>\n",
       "      <td>40-59</td>\n",
       "      <td>2018</td>\n",
       "      <td>77.2</td>\n",
       "      <td>1574</td>\n",
       "      <td>Stockholm</td>\n",
       "      <td>primary/lower secondary</td>\n",
       "    </tr>\n",
       "    <tr>\n",
       "      <th>...</th>\n",
       "      <td>...</td>\n",
       "      <td>...</td>\n",
       "      <td>...</td>\n",
       "      <td>...</td>\n",
       "      <td>...</td>\n",
       "      <td>...</td>\n",
       "      <td>...</td>\n",
       "    </tr>\n",
       "    <tr>\n",
       "      <th>409255</th>\n",
       "      <td>Woman</td>\n",
       "      <td>80-99</td>\n",
       "      <td>2012</td>\n",
       "      <td>0.9</td>\n",
       "      <td>10</td>\n",
       "      <td>Norrbotten</td>\n",
       "      <td>unknown</td>\n",
       "    </tr>\n",
       "    <tr>\n",
       "      <th>409256</th>\n",
       "      <td>Woman</td>\n",
       "      <td>TOT</td>\n",
       "      <td>2012</td>\n",
       "      <td>2.4</td>\n",
       "      <td>36</td>\n",
       "      <td>Norrbotten</td>\n",
       "      <td>unknown</td>\n",
       "    </tr>\n",
       "    <tr>\n",
       "      <th>409257</th>\n",
       "      <td>Woman</td>\n",
       "      <td>0</td>\n",
       "      <td>2012</td>\n",
       "      <td>0.0</td>\n",
       "      <td>11</td>\n",
       "      <td>Norrbotten</td>\n",
       "      <td>unknown</td>\n",
       "    </tr>\n",
       "    <tr>\n",
       "      <th>409258</th>\n",
       "      <td>Woman</td>\n",
       "      <td>1-19</td>\n",
       "      <td>2012</td>\n",
       "      <td>0.1</td>\n",
       "      <td>6</td>\n",
       "      <td>Norrbotten</td>\n",
       "      <td>unknown</td>\n",
       "    </tr>\n",
       "    <tr>\n",
       "      <th>409259</th>\n",
       "      <td>Woman</td>\n",
       "      <td>80-99</td>\n",
       "      <td>2012</td>\n",
       "      <td>0.6</td>\n",
       "      <td>6</td>\n",
       "      <td>Norrbotten</td>\n",
       "      <td>unknown</td>\n",
       "    </tr>\n",
       "  </tbody>\n",
       "</table>\n",
       "<p>409260 rows × 7 columns</p>\n",
       "</div>"
      ],
      "text/plain": [
       "\n",
       "          sex income_bracket  year  total_sum_sek_millions  number_of_persons  \\\n",
       "\u001b[1;36m0\u001b[0m         Man            TOT  \u001b[1;36m2018\u001b[0m                   \u001b[1;36m547.9\u001b[0m              \u001b[1;36m38091\u001b[0m   \n",
       "\u001b[1;36m1\u001b[0m         Man              \u001b[1;36m0\u001b[0m  \u001b[1;36m2018\u001b[0m                     \u001b[1;36m0.0\u001b[0m              \u001b[1;36m13357\u001b[0m   \n",
       "\u001b[1;36m2\u001b[0m         Man           \u001b[1;36m1\u001b[0m-\u001b[1;36m19\u001b[0m  \u001b[1;36m2018\u001b[0m                   \u001b[1;36m137.9\u001b[0m              \u001b[1;36m17417\u001b[0m   \n",
       "\u001b[1;36m3\u001b[0m         Man          \u001b[1;36m20\u001b[0m-\u001b[1;36m39\u001b[0m  \u001b[1;36m2018\u001b[0m                   \u001b[1;36m106.1\u001b[0m               \u001b[1;36m3763\u001b[0m   \n",
       "\u001b[1;36m4\u001b[0m         Man          \u001b[1;36m40\u001b[0m-\u001b[1;36m59\u001b[0m  \u001b[1;36m2018\u001b[0m                    \u001b[1;36m77.2\u001b[0m               \u001b[1;36m1574\u001b[0m   \n",
       "\u001b[33m...\u001b[0m       \u001b[33m...\u001b[0m            \u001b[33m...\u001b[0m   \u001b[33m...\u001b[0m                     \u001b[33m...\u001b[0m                \u001b[33m...\u001b[0m   \n",
       "\u001b[1;36m409255\u001b[0m  Woman          \u001b[1;36m80\u001b[0m-\u001b[1;36m99\u001b[0m  \u001b[1;36m2012\u001b[0m                     \u001b[1;36m0.9\u001b[0m                 \u001b[1;36m10\u001b[0m   \n",
       "\u001b[1;36m409256\u001b[0m  Woman            TOT  \u001b[1;36m2012\u001b[0m                     \u001b[1;36m2.4\u001b[0m                 \u001b[1;36m36\u001b[0m   \n",
       "\u001b[1;36m409257\u001b[0m  Woman              \u001b[1;36m0\u001b[0m  \u001b[1;36m2012\u001b[0m                     \u001b[1;36m0.0\u001b[0m                 \u001b[1;36m11\u001b[0m   \n",
       "\u001b[1;36m409258\u001b[0m  Woman           \u001b[1;36m1\u001b[0m-\u001b[1;36m19\u001b[0m  \u001b[1;36m2012\u001b[0m                     \u001b[1;36m0.1\u001b[0m                  \u001b[1;36m6\u001b[0m   \n",
       "\u001b[1;36m409259\u001b[0m  Woman          \u001b[1;36m80\u001b[0m-\u001b[1;36m99\u001b[0m  \u001b[1;36m2012\u001b[0m                     \u001b[1;36m0.6\u001b[0m                  \u001b[1;36m6\u001b[0m   \n",
       "\n",
       "       region_name       level_of_education  \n",
       "\u001b[1;36m0\u001b[0m        Stockholm  primary/lower secondary  \n",
       "\u001b[1;36m1\u001b[0m        Stockholm  primary/lower secondary  \n",
       "\u001b[1;36m2\u001b[0m        Stockholm  primary/lower secondary  \n",
       "\u001b[1;36m3\u001b[0m        Stockholm  primary/lower secondary  \n",
       "\u001b[1;36m4\u001b[0m        Stockholm  primary/lower secondary  \n",
       "\u001b[33m...\u001b[0m            \u001b[33m...\u001b[0m                      \u001b[33m...\u001b[0m  \n",
       "\u001b[1;36m409255\u001b[0m  Norrbotten                  unknown  \n",
       "\u001b[1;36m409256\u001b[0m  Norrbotten                  unknown  \n",
       "\u001b[1;36m409257\u001b[0m  Norrbotten                  unknown  \n",
       "\u001b[1;36m409258\u001b[0m  Norrbotten                  unknown  \n",
       "\u001b[1;36m409259\u001b[0m  Norrbotten                  unknown  \n",
       "\n",
       "\u001b[1m[\u001b[0m\u001b[1;36m409260\u001b[0m rows x \u001b[1;36m7\u001b[0m columns\u001b[1m]\u001b[0m"
      ]
     },
     "execution_count": 6,
     "metadata": {},
     "output_type": "execute_result"
    }
   ],
   "source": [
    "features = data.drop(columns=\"age\")\n",
    "features"
   ]
  },
  {
   "cell_type": "code",
   "execution_count": 47,
   "id": "60ac425a",
   "metadata": {},
   "outputs": [
    {
     "data": {
      "text/html": [
       "<pre style=\"white-space:pre;overflow-x:auto;line-height:normal;font-family:Menlo,'DejaVu Sans Mono',consolas,'Courier New',monospace\"></pre>\n"
      ],
      "text/plain": []
     },
     "metadata": {},
     "output_type": "display_data"
    },
    {
     "data": {
      "image/png": "[encoded data removed]",
      "text/plain": [
       "\u001b[1m<\u001b[0m\u001b[1;95mFigure\u001b[0m\u001b[39m size 64\u001b[0m\u001b[1;36m0x480\u001b[0m\u001b[39m with \u001b[0m\u001b[1;36m1\u001b[0m\u001b[39m Axes\u001b[0m\u001b[1m>\u001b[0m"
      ]
     },
     "metadata": {},
     "output_type": "display_data"
    }
   ],
   "source": [
    "orange = sns.color_palette()[1]\n",
    "sns.regplot(\n",
    "    data=data,\n",
    "    x=\"year\",\n",
    "    y=\"total_sum_sek_millions\",\n",
    "    ci=False,\n",
    "    line_kws={\"color\": orange},\n",
    ");"
   ]
  },
  {
   "cell_type": "code",
   "execution_count": 10,
   "id": "f22ecf67",
   "metadata": {},
   "outputs": [
    {
     "data": {
      "text/html": [
       "<pre style=\"white-space:pre;overflow-x:auto;line-height:normal;font-family:Menlo,'DejaVu Sans Mono',consolas,'Courier New',monospace\"></pre>\n"
      ],
      "text/plain": []
     },
     "metadata": {},
     "output_type": "display_data"
    },
    {
     "data": {
      "image/png": "[encoded data removed]",
      "text/plain": [
       "\u001b[1m<\u001b[0m\u001b[1;95mFigure\u001b[0m\u001b[39m size 64\u001b[0m\u001b[1;36m0x480\u001b[0m\u001b[39m with \u001b[0m\u001b[1;36m1\u001b[0m\u001b[39m Axes\u001b[0m\u001b[1m>\u001b[0m"
      ]
     },
     "metadata": {},
     "output_type": "display_data"
    }
   ],
   "source": [
    "model = KMeans(n_clusters=3, random_state=42, n_init=10)\n",
    "X = data[[\"level_of_education\", \"age\"]]\n",
    "X = data[[\"total_sum_sek_millions\", \"number_of_persons\"]]\n",
    "y = model.fit_predict(X)\n",
    "\n",
    "sns.scatterplot(x=data[\"total_sum_sek_millions\"], y=data[\"number_of_persons\"], hue=y);"
   ]
  },
  {
   "cell_type": "code",
   "execution_count": null,
   "id": "cb1d88b2",
   "metadata": {},
   "outputs": [
    {
     "data": {
      "text/html": [
       "<pre style=\"white-space:pre;overflow-x:auto;line-height:normal;font-family:Menlo,'DejaVu Sans Mono',consolas,'Courier New',monospace\"></pre>\n"
      ],
      "text/plain": []
     },
     "metadata": {},
     "output_type": "display_data"
    },
    {
     "data": {
      "text/plain": [
       "\u001b[1m<\u001b[0m\u001b[1;95mAxes:\u001b[0m\u001b[39m \u001b[0m\u001b[33mxlabel\u001b[0m\u001b[39m=\u001b[0m\u001b[32m'total_sum_sek_millions'\u001b[0m\u001b[39m, \u001b[0m\u001b[33mylabel\u001b[0m\u001b[39m=\u001b[0m\u001b[32m'number_of_persons'\u001b[0m\u001b[1m>\u001b[0m"
      ]
     },
     "execution_count": 11,
     "metadata": {},
     "output_type": "execute_result"
    },
    {
     "data": {
      "text/html": [
       "<pre style=\"white-space:pre;overflow-x:auto;line-height:normal;font-family:Menlo,'DejaVu Sans Mono',consolas,'Courier New',monospace\"></pre>\n"
      ],
      "text/plain": []
     },
     "metadata": {},
     "output_type": "display_data"
    },
    {
     "data": {
      "image/png": "[encoded data removed]",
      "text/plain": [
       "\u001b[1m<\u001b[0m\u001b[1;95mFigure\u001b[0m\u001b[39m size 64\u001b[0m\u001b[1;36m0x480\u001b[0m\u001b[39m with \u001b[0m\u001b[1;36m1\u001b[0m\u001b[39m Axes\u001b[0m\u001b[1m>\u001b[0m"
      ]
     },
     "metadata": {},
     "output_type": "display_data"
    }
   ],
   "source": [
    "model = GMM(n_components=3, random_state=0)\n",
    "y = model.fit_predict(X)\n",
    "sns.scatterplot(x=data[\"total_sum_sek_millions\"], y=data[\"number_of_persons\"], hue=y);"
   ]
  },
  {
   "cell_type": "code",
   "execution_count": 12,
   "id": "af586961",
   "metadata": {},
   "outputs": [
    {
     "data": {
      "text/html": [
       "<pre style=\"white-space:pre;overflow-x:auto;line-height:normal;font-family:Menlo,'DejaVu Sans Mono',consolas,'Courier New',monospace\"></pre>\n"
      ],
      "text/plain": []
     },
     "metadata": {},
     "output_type": "display_data"
    },
    {
     "data": {
      "text/html": [
       "<div>\n",
       "<style scoped>\n",
       "    .dataframe tbody tr th:only-of-type {\n",
       "        vertical-align: middle;\n",
       "    }\n",
       "\n",
       "    .dataframe tbody tr th {\n",
       "        vertical-align: top;\n",
       "    }\n",
       "\n",
       "    .dataframe thead th {\n",
       "        text-align: right;\n",
       "    }\n",
       "</style>\n",
       "<table border=\"1\" class=\"dataframe\">\n",
       "  <thead>\n",
       "    <tr style=\"text-align: right;\">\n",
       "      <th></th>\n",
       "      <th>sex</th>\n",
       "      <th>income_bracket</th>\n",
       "      <th>year</th>\n",
       "      <th>total_sum_sek_millions</th>\n",
       "      <th>number_of_persons</th>\n",
       "      <th>region_name</th>\n",
       "      <th>level_of_education</th>\n",
       "    </tr>\n",
       "  </thead>\n",
       "  <tbody>\n",
       "    <tr>\n",
       "      <th>252845</th>\n",
       "      <td>Man</td>\n",
       "      <td>60-79</td>\n",
       "      <td>2015</td>\n",
       "      <td>16.0</td>\n",
       "      <td>231</td>\n",
       "      <td>Kronoberg</td>\n",
       "      <td>post-secondary</td>\n",
       "    </tr>\n",
       "    <tr>\n",
       "      <th>285224</th>\n",
       "      <td>Woman</td>\n",
       "      <td>1000+</td>\n",
       "      <td>2021</td>\n",
       "      <td>286.7</td>\n",
       "      <td>219</td>\n",
       "      <td>Skåne</td>\n",
       "      <td>upper secondary</td>\n",
       "    </tr>\n",
       "    <tr>\n",
       "      <th>326532</th>\n",
       "      <td>Woman</td>\n",
       "      <td>160-179</td>\n",
       "      <td>2010</td>\n",
       "      <td>28.7</td>\n",
       "      <td>170</td>\n",
       "      <td>Norrbotten</td>\n",
       "      <td>post-secondary</td>\n",
       "    </tr>\n",
       "    <tr>\n",
       "      <th>74032</th>\n",
       "      <td>Man</td>\n",
       "      <td>1-19</td>\n",
       "      <td>2023</td>\n",
       "      <td>0.2</td>\n",
       "      <td>21</td>\n",
       "      <td>Örebro</td>\n",
       "      <td>unknown</td>\n",
       "    </tr>\n",
       "    <tr>\n",
       "      <th>171175</th>\n",
       "      <td>Man</td>\n",
       "      <td>80-99</td>\n",
       "      <td>2014</td>\n",
       "      <td>10.3</td>\n",
       "      <td>107</td>\n",
       "      <td>Södermanland</td>\n",
       "      <td>unknown</td>\n",
       "    </tr>\n",
       "    <tr>\n",
       "      <th>...</th>\n",
       "      <td>...</td>\n",
       "      <td>...</td>\n",
       "      <td>...</td>\n",
       "      <td>...</td>\n",
       "      <td>...</td>\n",
       "      <td>...</td>\n",
       "      <td>...</td>\n",
       "    </tr>\n",
       "    <tr>\n",
       "      <th>259178</th>\n",
       "      <td>Man</td>\n",
       "      <td>240-259</td>\n",
       "      <td>2015</td>\n",
       "      <td>34.1</td>\n",
       "      <td>136</td>\n",
       "      <td>Halland</td>\n",
       "      <td>post-secondary</td>\n",
       "    </tr>\n",
       "    <tr>\n",
       "      <th>365838</th>\n",
       "      <td>Man</td>\n",
       "      <td>340-359</td>\n",
       "      <td>2022</td>\n",
       "      <td>1.1</td>\n",
       "      <td>3</td>\n",
       "      <td>Blekinge</td>\n",
       "      <td>unknown</td>\n",
       "    </tr>\n",
       "    <tr>\n",
       "      <th>131932</th>\n",
       "      <td>Man</td>\n",
       "      <td>800-999</td>\n",
       "      <td>2020</td>\n",
       "      <td>3.4</td>\n",
       "      <td>4</td>\n",
       "      <td>Dalarna</td>\n",
       "      <td>primary/lower secondary</td>\n",
       "    </tr>\n",
       "    <tr>\n",
       "      <th>146867</th>\n",
       "      <td>Man</td>\n",
       "      <td>360-379</td>\n",
       "      <td>2017</td>\n",
       "      <td>166.5</td>\n",
       "      <td>450</td>\n",
       "      <td>Kronoberg</td>\n",
       "      <td>upper secondary</td>\n",
       "    </tr>\n",
       "    <tr>\n",
       "      <th>121958</th>\n",
       "      <td>Man</td>\n",
       "      <td>TOT</td>\n",
       "      <td>2020</td>\n",
       "      <td>1.5</td>\n",
       "      <td>10</td>\n",
       "      <td>Gotland</td>\n",
       "      <td>unknown</td>\n",
       "    </tr>\n",
       "  </tbody>\n",
       "</table>\n",
       "<p>286482 rows × 7 columns</p>\n",
       "</div>"
      ],
      "text/plain": [
       "\n",
       "          sex income_bracket  year  total_sum_sek_millions  number_of_persons  \\\n",
       "\u001b[1;36m252845\u001b[0m    Man          \u001b[1;36m60\u001b[0m-\u001b[1;36m79\u001b[0m  \u001b[1;36m2015\u001b[0m                    \u001b[1;36m16.0\u001b[0m                \u001b[1;36m231\u001b[0m   \n",
       "\u001b[1;36m285224\u001b[0m  Woman          \u001b[1;36m1000\u001b[0m+  \u001b[1;36m2021\u001b[0m                   \u001b[1;36m286.7\u001b[0m                \u001b[1;36m219\u001b[0m   \n",
       "\u001b[1;36m326532\u001b[0m  Woman        \u001b[1;36m160\u001b[0m-\u001b[1;36m179\u001b[0m  \u001b[1;36m2010\u001b[0m                    \u001b[1;36m28.7\u001b[0m                \u001b[1;36m170\u001b[0m   \n",
       "\u001b[1;36m74032\u001b[0m     Man           \u001b[1;36m1\u001b[0m-\u001b[1;36m19\u001b[0m  \u001b[1;36m2023\u001b[0m                     \u001b[1;36m0.2\u001b[0m                 \u001b[1;36m21\u001b[0m   \n",
       "\u001b[1;36m171175\u001b[0m    Man          \u001b[1;36m80\u001b[0m-\u001b[1;36m99\u001b[0m  \u001b[1;36m2014\u001b[0m                    \u001b[1;36m10.3\u001b[0m                \u001b[1;36m107\u001b[0m   \n",
       "\u001b[33m...\u001b[0m       \u001b[33m...\u001b[0m            \u001b[33m...\u001b[0m   \u001b[33m...\u001b[0m                     \u001b[33m...\u001b[0m                \u001b[33m...\u001b[0m   \n",
       "\u001b[1;36m259178\u001b[0m    Man        \u001b[1;36m240\u001b[0m-\u001b[1;36m259\u001b[0m  \u001b[1;36m2015\u001b[0m                    \u001b[1;36m34.1\u001b[0m                \u001b[1;36m136\u001b[0m   \n",
       "\u001b[1;36m365838\u001b[0m    Man        \u001b[1;36m340\u001b[0m-\u001b[1;36m359\u001b[0m  \u001b[1;36m2022\u001b[0m                     \u001b[1;36m1.1\u001b[0m                  \u001b[1;36m3\u001b[0m   \n",
       "\u001b[1;36m131932\u001b[0m    Man        \u001b[1;36m800\u001b[0m-\u001b[1;36m999\u001b[0m  \u001b[1;36m2020\u001b[0m                     \u001b[1;36m3.4\u001b[0m                  \u001b[1;36m4\u001b[0m   \n",
       "\u001b[1;36m146867\u001b[0m    Man        \u001b[1;36m360\u001b[0m-\u001b[1;36m379\u001b[0m  \u001b[1;36m2017\u001b[0m                   \u001b[1;36m166.5\u001b[0m                \u001b[1;36m450\u001b[0m   \n",
       "\u001b[1;36m121958\u001b[0m    Man            TOT  \u001b[1;36m2020\u001b[0m                     \u001b[1;36m1.5\u001b[0m                 \u001b[1;36m10\u001b[0m   \n",
       "\n",
       "         region_name       level_of_education  \n",
       "\u001b[1;36m252845\u001b[0m     Kronoberg           post-secondary  \n",
       "\u001b[1;36m285224\u001b[0m         Skåne          upper secondary  \n",
       "\u001b[1;36m326532\u001b[0m    Norrbotten           post-secondary  \n",
       "\u001b[1;36m74032\u001b[0m         Örebro                  unknown  \n",
       "\u001b[1;36m171175\u001b[0m  Södermanland                  unknown  \n",
       "\u001b[33m...\u001b[0m              \u001b[33m...\u001b[0m                      \u001b[33m...\u001b[0m  \n",
       "\u001b[1;36m259178\u001b[0m       Halland           post-secondary  \n",
       "\u001b[1;36m365838\u001b[0m      Blekinge                  unknown  \n",
       "\u001b[1;36m131932\u001b[0m       Dalarna  primary/lower secondary  \n",
       "\u001b[1;36m146867\u001b[0m     Kronoberg          upper secondary  \n",
       "\u001b[1;36m121958\u001b[0m       Gotland                  unknown  \n",
       "\n",
       "\u001b[1m[\u001b[0m\u001b[1;36m286482\u001b[0m rows x \u001b[1;36m7\u001b[0m columns\u001b[1m]\u001b[0m"
      ]
     },
     "execution_count": 12,
     "metadata": {},
     "output_type": "execute_result"
    }
   ],
   "source": [
    "X_train, X_test, y_train, y_test = train_test_split(features, labels, train_size=0.7, random_state=42, shuffle=True)\n",
    "\n",
    "X_train"
   ]
  },
  {
   "cell_type": "code",
   "execution_count": 13,
   "id": "8e9638d0",
   "metadata": {},
   "outputs": [
    {
     "data": {
      "text/html": [
       "<pre style=\"white-space:pre;overflow-x:auto;line-height:normal;font-family:Menlo,'DejaVu Sans Mono',consolas,'Courier New',monospace\"></pre>\n"
      ],
      "text/plain": []
     },
     "metadata": {},
     "output_type": "display_data"
    },
    {
     "data": {
      "text/html": [
       "<div>\n",
       "<style scoped>\n",
       "    .dataframe tbody tr th:only-of-type {\n",
       "        vertical-align: middle;\n",
       "    }\n",
       "\n",
       "    .dataframe tbody tr th {\n",
       "        vertical-align: top;\n",
       "    }\n",
       "\n",
       "    .dataframe thead th {\n",
       "        text-align: right;\n",
       "    }\n",
       "</style>\n",
       "<table border=\"1\" class=\"dataframe\">\n",
       "  <thead>\n",
       "    <tr style=\"text-align: right;\">\n",
       "      <th></th>\n",
       "      <th>age</th>\n",
       "    </tr>\n",
       "  </thead>\n",
       "  <tbody>\n",
       "    <tr>\n",
       "      <th>252845</th>\n",
       "      <td>20-29</td>\n",
       "    </tr>\n",
       "    <tr>\n",
       "      <th>285224</th>\n",
       "      <td>50-59</td>\n",
       "    </tr>\n",
       "    <tr>\n",
       "      <th>326532</th>\n",
       "      <td>20-29</td>\n",
       "    </tr>\n",
       "    <tr>\n",
       "      <th>74032</th>\n",
       "      <td>20-29</td>\n",
       "    </tr>\n",
       "    <tr>\n",
       "      <th>171175</th>\n",
       "      <td>20-29</td>\n",
       "    </tr>\n",
       "    <tr>\n",
       "      <th>...</th>\n",
       "      <td>...</td>\n",
       "    </tr>\n",
       "    <tr>\n",
       "      <th>259178</th>\n",
       "      <td>30-39</td>\n",
       "    </tr>\n",
       "    <tr>\n",
       "      <th>365838</th>\n",
       "      <td>20-29</td>\n",
       "    </tr>\n",
       "    <tr>\n",
       "      <th>131932</th>\n",
       "      <td>30-39</td>\n",
       "    </tr>\n",
       "    <tr>\n",
       "      <th>146867</th>\n",
       "      <td>20-29</td>\n",
       "    </tr>\n",
       "    <tr>\n",
       "      <th>121958</th>\n",
       "      <td>60-64</td>\n",
       "    </tr>\n",
       "  </tbody>\n",
       "</table>\n",
       "<p>286482 rows × 1 columns</p>\n",
       "</div>"
      ],
      "text/plain": [
       "\n",
       "          age\n",
       "\u001b[1;36m252845\u001b[0m  \u001b[1;36m20\u001b[0m-\u001b[1;36m29\u001b[0m\n",
       "\u001b[1;36m285224\u001b[0m  \u001b[1;36m50\u001b[0m-\u001b[1;36m59\u001b[0m\n",
       "\u001b[1;36m326532\u001b[0m  \u001b[1;36m20\u001b[0m-\u001b[1;36m29\u001b[0m\n",
       "\u001b[1;36m74032\u001b[0m   \u001b[1;36m20\u001b[0m-\u001b[1;36m29\u001b[0m\n",
       "\u001b[1;36m171175\u001b[0m  \u001b[1;36m20\u001b[0m-\u001b[1;36m29\u001b[0m\n",
       "\u001b[33m...\u001b[0m       \u001b[33m...\u001b[0m\n",
       "\u001b[1;36m259178\u001b[0m  \u001b[1;36m30\u001b[0m-\u001b[1;36m39\u001b[0m\n",
       "\u001b[1;36m365838\u001b[0m  \u001b[1;36m20\u001b[0m-\u001b[1;36m29\u001b[0m\n",
       "\u001b[1;36m131932\u001b[0m  \u001b[1;36m30\u001b[0m-\u001b[1;36m39\u001b[0m\n",
       "\u001b[1;36m146867\u001b[0m  \u001b[1;36m20\u001b[0m-\u001b[1;36m29\u001b[0m\n",
       "\u001b[1;36m121958\u001b[0m  \u001b[1;36m60\u001b[0m-\u001b[1;36m64\u001b[0m\n",
       "\n",
       "\u001b[1m[\u001b[0m\u001b[1;36m286482\u001b[0m rows x \u001b[1;36m1\u001b[0m columns\u001b[1m]\u001b[0m"
      ]
     },
     "execution_count": 13,
     "metadata": {},
     "output_type": "execute_result"
    }
   ],
   "source": [
    "y_train"
   ]
  },
  {
   "cell_type": "markdown",
   "id": "b536f6dd",
   "metadata": {},
   "source": [
    "Catagorical features"
   ]
  },
  {
   "cell_type": "code",
   "execution_count": 14,
   "id": "a59909d6",
   "metadata": {},
   "outputs": [
    {
     "data": {
      "text/html": [
       "<pre style=\"white-space:pre;overflow-x:auto;line-height:normal;font-family:Menlo,'DejaVu Sans Mono',consolas,'Courier New',monospace\"></pre>\n"
      ],
      "text/plain": []
     },
     "metadata": {},
     "output_type": "display_data"
    },
    {
     "data": {
      "text/plain": [
       "\u001b[1m[\u001b[0m\u001b[32m'sex'\u001b[0m, \u001b[32m'income_bracket'\u001b[0m, \u001b[32m'region_name'\u001b[0m, \u001b[32m'level_of_education'\u001b[0m\u001b[1m]\u001b[0m"
      ]
     },
     "execution_count": 14,
     "metadata": {},
     "output_type": "execute_result"
    }
   ],
   "source": [
    "cat_features = features.drop(columns=[\"year\", \"total_sum_sek_millions\", \"number_of_persons\"]).columns.to_list()\n",
    "\n",
    "cat_features"
   ]
  },
  {
   "cell_type": "code",
   "execution_count": 15,
   "id": "c70c79d7",
   "metadata": {},
   "outputs": [
    {
     "name": "stdout",
     "output_type": "stream",
     "text": [
      "Binning 0.014 GB of training data: "
     ]
    },
    {
     "name": "stderr",
     "output_type": "stream",
     "text": [
      "/home/joel/.local/lib/python3.12/site-packages/sklearn/utils/validation.py:1408: DataConversionWarning: A column-vector y was passed when a 1d array was expected. Please change the shape of y to (n_samples, ), for example using ravel().\n",
      "  y = column_or_1d(y, warn=True)\n"
     ]
    },
    {
     "name": "stdout",
     "output_type": "stream",
     "text": [
      "0.049 s\n",
      "Binning 0.002 GB of validation data: 0.003 s\n",
      "Fitting gradient boosted rounds:\n",
      "Fit 800 trees in 8.600 s, (24800 total leaves)\n",
      "Time spent computing histograms: 2.444s\n",
      "Time spent finding best splits:  0.402s\n",
      "Time spent applying splits:      1.692s\n",
      "Time spent predicting:           0.384s\n"
     ]
    }
   ],
   "source": [
    "HGB_clf = HistGradientBoostingClassifier(\n",
    "    loss=\"log_loss\", learning_rate=0.1, max_iter=100, categorical_features=cat_features, l2_regularization=0, validation_fraction=0.1, n_iter_no_change=10, verbose=1, random_state=42\n",
    ").fit(X=X_train, y=y_train)"
   ]
  },
  {
   "cell_type": "code",
   "execution_count": 16,
   "id": "6aec3989",
   "metadata": {},
   "outputs": [],
   "source": [
    "y_pred = HGB_clf.predict(X=X_test)"
   ]
  },
  {
   "cell_type": "code",
   "execution_count": 17,
   "id": "97da74f7",
   "metadata": {},
   "outputs": [
    {
     "data": {
      "text/html": [
       "<pre style=\"white-space:pre;overflow-x:auto;line-height:normal;font-family:Menlo,'DejaVu Sans Mono',consolas,'Courier New',monospace\"></pre>\n"
      ],
      "text/plain": []
     },
     "metadata": {},
     "output_type": "display_data"
    },
    {
     "data": {
      "text/plain": [
       "\u001b[1;36m0.44525892260828487\u001b[0m"
      ]
     },
     "execution_count": 17,
     "metadata": {},
     "output_type": "execute_result"
    }
   ],
   "source": [
    "accuracy_score(y_true=y_test, y_pred=y_pred)"
   ]
  },
  {
   "cell_type": "code",
   "execution_count": 18,
   "id": "103d5137",
   "metadata": {},
   "outputs": [
    {
     "data": {
      "text/html": [
       "<pre style=\"white-space:pre;overflow-x:auto;line-height:normal;font-family:Menlo,'DejaVu Sans Mono',consolas,'Courier New',monospace\"></pre>\n"
      ],
      "text/plain": []
     },
     "metadata": {},
     "output_type": "display_data"
    },
    {
     "data": {
      "text/plain": [
       "\u001b[1;36m0.44525892260828487\u001b[0m"
      ]
     },
     "execution_count": 18,
     "metadata": {},
     "output_type": "execute_result"
    }
   ],
   "source": [
    "HGB_clf.score(X=X_test, y=y_test)"
   ]
  },
  {
   "cell_type": "code",
   "execution_count": 19,
   "id": "19171783",
   "metadata": {},
   "outputs": [
    {
     "data": {
      "text/html": [
       "<pre style=\"white-space:pre;overflow-x:auto;line-height:normal;font-family:Menlo,'DejaVu Sans Mono',consolas,'Courier New',monospace\"></pre>\n"
      ],
      "text/plain": []
     },
     "metadata": {},
     "output_type": "display_data"
    },
    {
     "data": {
      "text/plain": [
       "\n",
       "\u001b[1;35marray\u001b[0m\u001b[1m(\u001b[0m\u001b[1m[\u001b[0m\u001b[1;36m0.76869111\u001b[0m, \u001b[1;36m0.52937755\u001b[0m, \u001b[1;36m0.38484177\u001b[0m, \u001b[1;36m0.30981566\u001b[0m, \u001b[1;36m0.35612181\u001b[0m,\n",
       "       \u001b[1;36m0.47356723\u001b[0m, \u001b[1;36m0.39830461\u001b[0m, \u001b[1;36m0.5042039\u001b[0m \u001b[1m]\u001b[0m\u001b[1m)\u001b[0m"
      ]
     },
     "execution_count": 19,
     "metadata": {},
     "output_type": "execute_result"
    }
   ],
   "source": [
    "f1_score(y_test, y_pred, labels=HGB_clf.classes_, average=None)"
   ]
  },
  {
   "cell_type": "code",
   "execution_count": null,
   "id": "f2c44940",
   "metadata": {},
   "outputs": [
    {
     "data": {
      "text/html": [
       "<pre style=\"white-space:pre;overflow-x:auto;line-height:normal;font-family:Menlo,'DejaVu Sans Mono',consolas,'Courier New',monospace\"></pre>\n"
      ],
      "text/plain": []
     },
     "metadata": {},
     "output_type": "display_data"
    },
    {
     "data": {
      "text/plain": [
       "\u001b[1m<\u001b[0m\u001b[1;95mAxes:\u001b[0m\u001b[39m \u001b[0m\u001b[1m>\u001b[0m"
      ]
     },
     "execution_count": 20,
     "metadata": {},
     "output_type": "execute_result"
    },
    {
     "data": {
      "text/html": [
       "<pre style=\"white-space:pre;overflow-x:auto;line-height:normal;font-family:Menlo,'DejaVu Sans Mono',consolas,'Courier New',monospace\"></pre>\n"
      ],
      "text/plain": []
     },
     "metadata": {},
     "output_type": "display_data"
    },
    {
     "data": {
      "image/png": "[encoded data removed]",
      "text/plain": [
       "\u001b[1m<\u001b[0m\u001b[1;95mFigure\u001b[0m\u001b[39m size 64\u001b[0m\u001b[1;36m0x480\u001b[0m\u001b[39m with \u001b[0m\u001b[1;36m1\u001b[0m\u001b[39m Axes\u001b[0m\u001b[1m>\u001b[0m"
      ]
     },
     "metadata": {},
     "output_type": "display_data"
    }
   ],
   "source": [
    "mat = confusion_matrix(y_test, y_pred)\n",
    "sns.heatmap(\n",
    "    mat.T,\n",
    "    square=True,\n",
    "    annot=True,\n",
    "    cbar=False,\n",
    "    xticklabels=HGB_clf.classes_,\n",
    "    yticklabels=HGB_clf.classes_,\n",
    "    cmap=\"Blues\",\n",
    ");"
   ]
  },
  {
   "cell_type": "code",
   "execution_count": 21,
   "id": "dc3a72a2",
   "metadata": {},
   "outputs": [
    {
     "name": "stderr",
     "output_type": "stream",
     "text": [
      "/home/joel/.local/lib/python3.12/site-packages/sklearn/utils/validation.py:1408: DataConversionWarning: A column-vector y was passed when a 1d array was expected. Please change the shape of y to (n_samples, ), for example using ravel().\n",
      "  y = column_or_1d(y, warn=True)\n"
     ]
    },
    {
     "name": "stdout",
     "output_type": "stream",
     "text": [
      "Binning 0.017 GB of training data: 0.042 s\n",
      "Binning 0.002 GB of validation data: 0.003 s\n",
      "Fitting gradient boosted rounds:\n",
      "Fit 800 trees in 10.856 s, (24800 total leaves)\n",
      "Time spent computing histograms: 3.153s\n",
      "Time spent finding best splits:  0.468s\n",
      "Time spent applying splits:      2.210s\n",
      "Time spent predicting:           0.518s\n"
     ]
    },
    {
     "name": "stderr",
     "output_type": "stream",
     "text": [
      "/home/joel/.local/lib/python3.12/site-packages/sklearn/utils/validation.py:1408: DataConversionWarning: A column-vector y was passed when a 1d array was expected. Please change the shape of y to (n_samples, ), for example using ravel().\n",
      "  y = column_or_1d(y, warn=True)\n"
     ]
    },
    {
     "name": "stdout",
     "output_type": "stream",
     "text": [
      "Binning 0.017 GB of training data: 0.047 s\n",
      "Binning 0.002 GB of validation data: 0.004 s\n",
      "Fitting gradient boosted rounds:\n",
      "Fit 800 trees in 10.810 s, (24800 total leaves)\n",
      "Time spent computing histograms: 3.145s\n",
      "Time spent finding best splits:  0.463s\n",
      "Time spent applying splits:      2.172s\n",
      "Time spent predicting:           0.509s\n",
      "Binning 0.017 GB of training data: 0.046 s\n",
      "Binning 0.002 GB of validation data: "
     ]
    },
    {
     "name": "stderr",
     "output_type": "stream",
     "text": [
      "/home/joel/.local/lib/python3.12/site-packages/sklearn/utils/validation.py:1408: DataConversionWarning: A column-vector y was passed when a 1d array was expected. Please change the shape of y to (n_samples, ), for example using ravel().\n",
      "  y = column_or_1d(y, warn=True)\n"
     ]
    },
    {
     "name": "stdout",
     "output_type": "stream",
     "text": [
      "0.004 s\n",
      "Fitting gradient boosted rounds:\n",
      "Fit 800 trees in 11.325 s, (24800 total leaves)\n",
      "Time spent computing histograms: 3.385s\n",
      "Time spent finding best splits:  0.520s\n",
      "Time spent applying splits:      2.278s\n",
      "Time spent predicting:           0.529s\n"
     ]
    },
    {
     "name": "stderr",
     "output_type": "stream",
     "text": [
      "/home/joel/.local/lib/python3.12/site-packages/sklearn/utils/validation.py:1408: DataConversionWarning: A column-vector y was passed when a 1d array was expected. Please change the shape of y to (n_samples, ), for example using ravel().\n",
      "  y = column_or_1d(y, warn=True)\n"
     ]
    },
    {
     "name": "stdout",
     "output_type": "stream",
     "text": [
      "Binning 0.017 GB of training data: 0.046 s\n",
      "Binning 0.002 GB of validation data: 0.004 s\n",
      "Fitting gradient boosted rounds:\n",
      "Fit 800 trees in 10.560 s, (24800 total leaves)\n",
      "Time spent computing histograms: 3.119s\n",
      "Time spent finding best splits:  0.460s\n",
      "Time spent applying splits:      2.134s\n",
      "Time spent predicting:           0.504s\n"
     ]
    },
    {
     "name": "stderr",
     "output_type": "stream",
     "text": [
      "/home/joel/.local/lib/python3.12/site-packages/sklearn/utils/validation.py:1408: DataConversionWarning: A column-vector y was passed when a 1d array was expected. Please change the shape of y to (n_samples, ), for example using ravel().\n",
      "  y = column_or_1d(y, warn=True)\n"
     ]
    },
    {
     "name": "stdout",
     "output_type": "stream",
     "text": [
      "Binning 0.017 GB of training data: 0.060 s\n",
      "Binning 0.002 GB of validation data: 0.004 s\n",
      "Fitting gradient boosted rounds:\n",
      "Fit 800 trees in 10.856 s, (24800 total leaves)\n",
      "Time spent computing histograms: 3.162s\n",
      "Time spent finding best splits:  0.474s\n",
      "Time spent applying splits:      2.219s\n",
      "Time spent predicting:           0.514s\n"
     ]
    },
    {
     "data": {
      "text/html": [
       "<pre style=\"white-space:pre;overflow-x:auto;line-height:normal;font-family:Menlo,'DejaVu Sans Mono',consolas,'Courier New',monospace\"></pre>\n"
      ],
      "text/plain": []
     },
     "metadata": {},
     "output_type": "display_data"
    },
    {
     "data": {
      "text/plain": [
       "\u001b[1;36m0.4342300737917217\u001b[0m"
      ]
     },
     "execution_count": 21,
     "metadata": {},
     "output_type": "execute_result"
    }
   ],
   "source": [
    "scores = cross_val_score(HGB_clf, features, labels, cv=5)\n",
    "scores.mean()"
   ]
  },
  {
   "cell_type": "markdown",
   "id": "bcc16aa3",
   "metadata": {},
   "source": [
    "Tuning"
   ]
  },
  {
   "cell_type": "code",
   "execution_count": 31,
   "id": "0da9c349",
   "metadata": {},
   "outputs": [],
   "source": [
    "# Parameter Suggested Range:\n",
    "\n",
    "learning_rate = [0.01, 0.05, 0.1, 0.2]\n",
    "max_iter = [100, 300, 500, 1000]\n",
    "max_leaf_nodes = [10, 20, 31, 50, 100] # default = 31\n",
    "max_depth = [3, 5, 8, None]\n",
    "min_samples_leaf = [1, 5, 10, 20, 50]\n",
    "l2_regularization = [0, 1e-3, 1e-2, 1e-1, 1]\n",
    "max_features = [0.3, 0.5, 0.7, 1.0]\n",
    "validation_fraction = [0.1, 0.2]\n",
    "n_iter_no_change = [5, 10, 20]"
   ]
  },
  {
   "cell_type": "code",
   "execution_count": null,
   "id": "40974e5c",
   "metadata": {},
   "outputs": [],
   "source": [
    "# param_grid = [\n",
    "#     {\"learning_rate\": learning_rate, \"max_iter\": max_iter, \"max_leaf_nodes\": max_leaf_nodes, \"max_depth\": max_depth, \"min_samples_leaf\": min_samples_leaf, \"l2_regularization\": l2_regularization, \"max_features\": max_features, \"validation_fraction\": validation_fraction, \"n_iter_no_change\": n_iter_no_change}\n",
    "# ]\n",
    "\n",
    "param_grid = [\n",
    "    {\n",
    "        \"learning_rate\": learning_rate,\n",
    "        # \"max_iter\": max_iter,\n",
    "        \"max_leaf_nodes\": max_leaf_nodes,\n",
    "        \"max_depth\": max_depth,\n",
    "        \"min_samples_leaf\": min_samples_leaf,\n",
    "        \"l2_regularization\": l2_regularization,\n",
    "        # \"max_features\": max_features,\n",
    "        # \"validation_fraction\": validation_fraction,\n",
    "        # \"n_iter_no_change\": n_iter_no_change,\n",
    "    }\n",
    "]\n",
    "\n",
    "grid = GridSearchCV(HistGradientBoostingClassifier(verbose=1), param_grid, scoring=\"accuracy\", verbose=1)\n",
    "grid.fit(X_train, y_train)\n",
    "grid.best_params_"
   ]
  },
  {
   "cell_type": "code",
   "execution_count": null,
   "id": "846e252e",
   "metadata": {},
   "outputs": [],
   "source": [
    "from sklearn.model_selection import StratifiedKFold, RandomizedSearchCV\n",
    "\n",
    "cv = StratifiedKFold(n_splits=5, shuffle=True, random_state=42)\n",
    "search = RandomizedSearchCV(\n",
    "    estimator=model,\n",
    "    param_distributions=param_dist,\n",
    "    scoring=\"f1_macro\",  # or 'balanced_accuracy'\n",
    "    cv=cv,\n",
    "    n_jobs=-1,\n",
    "    random_state=42,\n",
    ")\n",
    "search.fit(X, y)"
   ]
  },
  {
   "cell_type": "code",
   "execution_count": 34,
   "id": "eed45d33",
   "metadata": {},
   "outputs": [
    {
     "name": "stdout",
     "output_type": "stream",
     "text": [
      "Binning 0.017 GB of training data: "
     ]
    },
    {
     "name": "stderr",
     "output_type": "stream",
     "text": [
      "/home/joel/.local/lib/python3.12/site-packages/sklearn/utils/validation.py:1408: DataConversionWarning: A column-vector y was passed when a 1d array was expected. Please change the shape of y to (n_samples, ), for example using ravel().\n",
      "  y = column_or_1d(y, warn=True)\n"
     ]
    },
    {
     "name": "stdout",
     "output_type": "stream",
     "text": [
      "0.096 s\n",
      "Binning 0.002 GB of validation data: 0.018 s\n",
      "Fitting gradient boosted rounds:\n",
      "Fit 800 trees in 7.528 s, (16000 total leaves)\n",
      "Time spent computing histograms: 2.098s\n",
      "Time spent finding best splits:  0.235s\n",
      "Time spent applying splits:      1.369s\n",
      "Time spent predicting:           0.354s\n"
     ]
    },
    {
     "name": "stderr",
     "output_type": "stream",
     "text": [
      "/home/joel/.local/lib/python3.12/site-packages/sklearn/utils/validation.py:1408: DataConversionWarning: A column-vector y was passed when a 1d array was expected. Please change the shape of y to (n_samples, ), for example using ravel().\n",
      "  y = column_or_1d(y, warn=True)\n"
     ]
    },
    {
     "name": "stdout",
     "output_type": "stream",
     "text": [
      "Binning 0.017 GB of training data: 0.056 s\n",
      "Binning 0.002 GB of validation data: 0.003 s\n",
      "Fitting gradient boosted rounds:\n",
      "Fit 800 trees in 7.897 s, (16000 total leaves)\n",
      "Time spent computing histograms: 2.213s\n",
      "Time spent finding best splits:  0.247s\n",
      "Time spent applying splits:      1.437s\n",
      "Time spent predicting:           0.364s\n"
     ]
    },
    {
     "name": "stderr",
     "output_type": "stream",
     "text": [
      "/home/joel/.local/lib/python3.12/site-packages/sklearn/utils/validation.py:1408: DataConversionWarning: A column-vector y was passed when a 1d array was expected. Please change the shape of y to (n_samples, ), for example using ravel().\n",
      "  y = column_or_1d(y, warn=True)\n"
     ]
    },
    {
     "name": "stdout",
     "output_type": "stream",
     "text": [
      "Binning 0.017 GB of training data: 0.049 s\n",
      "Binning 0.002 GB of validation data: 0.004 s\n",
      "Fitting gradient boosted rounds:\n",
      "Fit 800 trees in 8.067 s, (16000 total leaves)\n",
      "Time spent computing histograms: 2.249s\n",
      "Time spent finding best splits:  0.274s\n",
      "Time spent applying splits:      1.490s\n",
      "Time spent predicting:           0.381s\n"
     ]
    },
    {
     "name": "stderr",
     "output_type": "stream",
     "text": [
      "/home/joel/.local/lib/python3.12/site-packages/sklearn/utils/validation.py:1408: DataConversionWarning: A column-vector y was passed when a 1d array was expected. Please change the shape of y to (n_samples, ), for example using ravel().\n",
      "  y = column_or_1d(y, warn=True)\n"
     ]
    },
    {
     "name": "stdout",
     "output_type": "stream",
     "text": [
      "Binning 0.017 GB of training data: 0.045 s\n",
      "Binning 0.002 GB of validation data: 0.004 s\n",
      "Fitting gradient boosted rounds:\n",
      "Fit 800 trees in 9.111 s, (16000 total leaves)\n",
      "Time spent computing histograms: 2.541s\n",
      "Time spent finding best splits:  0.287s\n",
      "Time spent applying splits:      1.743s\n",
      "Time spent predicting:           0.422s\n"
     ]
    },
    {
     "name": "stderr",
     "output_type": "stream",
     "text": [
      "/home/joel/.local/lib/python3.12/site-packages/sklearn/utils/validation.py:1408: DataConversionWarning: A column-vector y was passed when a 1d array was expected. Please change the shape of y to (n_samples, ), for example using ravel().\n",
      "  y = column_or_1d(y, warn=True)\n"
     ]
    },
    {
     "name": "stdout",
     "output_type": "stream",
     "text": [
      "Binning 0.017 GB of training data: 0.047 s\n",
      "Binning 0.002 GB of validation data: 0.004 s\n",
      "Fitting gradient boosted rounds:\n",
      "Fit 800 trees in 9.264 s, (16000 total leaves)\n",
      "Time spent computing histograms: 2.643s\n",
      "Time spent finding best splits:  0.303s\n",
      "Time spent applying splits:      1.682s\n",
      "Time spent predicting:           0.431s\n"
     ]
    },
    {
     "name": "stderr",
     "output_type": "stream",
     "text": [
      "/home/joel/.local/lib/python3.12/site-packages/sklearn/utils/validation.py:1408: DataConversionWarning: A column-vector y was passed when a 1d array was expected. Please change the shape of y to (n_samples, ), for example using ravel().\n",
      "  y = column_or_1d(y, warn=True)\n"
     ]
    },
    {
     "name": "stdout",
     "output_type": "stream",
     "text": [
      "Binning 0.017 GB of training data: 0.045 s\n",
      "Binning 0.002 GB of validation data: 0.004 s\n",
      "Fitting gradient boosted rounds:\n",
      "Fit 800 trees in 9.551 s, (16000 total leaves)\n",
      "Time spent computing histograms: 2.742s\n",
      "Time spent finding best splits:  0.294s\n",
      "Time spent applying splits:      1.843s\n",
      "Time spent predicting:           0.468s\n"
     ]
    },
    {
     "name": "stderr",
     "output_type": "stream",
     "text": [
      "/home/joel/.local/lib/python3.12/site-packages/sklearn/utils/validation.py:1408: DataConversionWarning: A column-vector y was passed when a 1d array was expected. Please change the shape of y to (n_samples, ), for example using ravel().\n",
      "  y = column_or_1d(y, warn=True)\n"
     ]
    },
    {
     "name": "stdout",
     "output_type": "stream",
     "text": [
      "Binning 0.017 GB of training data: 0.041 s\n",
      "Binning 0.002 GB of validation data: 0.003 s\n",
      "Fitting gradient boosted rounds:\n",
      "Fit 800 trees in 9.560 s, (16000 total leaves)\n",
      "Time spent computing histograms: 2.787s\n",
      "Time spent finding best splits:  0.293s\n",
      "Time spent applying splits:      1.880s\n",
      "Time spent predicting:           0.477s\n"
     ]
    },
    {
     "name": "stderr",
     "output_type": "stream",
     "text": [
      "/home/joel/.local/lib/python3.12/site-packages/sklearn/utils/validation.py:1408: DataConversionWarning: A column-vector y was passed when a 1d array was expected. Please change the shape of y to (n_samples, ), for example using ravel().\n",
      "  y = column_or_1d(y, warn=True)\n"
     ]
    },
    {
     "name": "stdout",
     "output_type": "stream",
     "text": [
      "Binning 0.017 GB of training data: 0.046 s\n",
      "Binning 0.002 GB of validation data: 0.004 s\n",
      "Fitting gradient boosted rounds:\n",
      "Fit 800 trees in 10.029 s, (16000 total leaves)\n",
      "Time spent computing histograms: 2.910s\n",
      "Time spent finding best splits:  0.303s\n",
      "Time spent applying splits:      1.969s\n",
      "Time spent predicting:           0.499s\n"
     ]
    },
    {
     "name": "stderr",
     "output_type": "stream",
     "text": [
      "/home/joel/.local/lib/python3.12/site-packages/sklearn/utils/validation.py:1408: DataConversionWarning: A column-vector y was passed when a 1d array was expected. Please change the shape of y to (n_samples, ), for example using ravel().\n",
      "  y = column_or_1d(y, warn=True)\n"
     ]
    },
    {
     "name": "stdout",
     "output_type": "stream",
     "text": [
      "Binning 0.017 GB of training data: 0.043 s\n",
      "Binning 0.002 GB of validation data: 0.003 s\n",
      "Fitting gradient boosted rounds:\n",
      "Fit 800 trees in 9.631 s, (16000 total leaves)\n",
      "Time spent computing histograms: 2.841s\n",
      "Time spent finding best splits:  0.290s\n",
      "Time spent applying splits:      1.909s\n",
      "Time spent predicting:           0.471s\n"
     ]
    },
    {
     "name": "stderr",
     "output_type": "stream",
     "text": [
      "/home/joel/.local/lib/python3.12/site-packages/sklearn/utils/validation.py:1408: DataConversionWarning: A column-vector y was passed when a 1d array was expected. Please change the shape of y to (n_samples, ), for example using ravel().\n",
      "  y = column_or_1d(y, warn=True)\n"
     ]
    },
    {
     "name": "stdout",
     "output_type": "stream",
     "text": [
      "Binning 0.017 GB of training data: 0.044 s\n",
      "Binning 0.002 GB of validation data: 0.003 s\n",
      "Fitting gradient boosted rounds:\n",
      "Fit 800 trees in 10.419 s, (16000 total leaves)\n",
      "Time spent computing histograms: 3.159s\n",
      "Time spent finding best splits:  0.313s\n",
      "Time spent applying splits:      2.020s\n",
      "Time spent predicting:           0.491s\n"
     ]
    },
    {
     "name": "stderr",
     "output_type": "stream",
     "text": [
      "/home/joel/.local/lib/python3.12/site-packages/sklearn/utils/validation.py:1408: DataConversionWarning: A column-vector y was passed when a 1d array was expected. Please change the shape of y to (n_samples, ), for example using ravel().\n",
      "  y = column_or_1d(y, warn=True)\n"
     ]
    },
    {
     "name": "stdout",
     "output_type": "stream",
     "text": [
      "Binning 0.017 GB of training data: 0.058 s\n",
      "Binning 0.002 GB of validation data: 0.004 s\n",
      "Fitting gradient boosted rounds:\n",
      "Fit 800 trees in 10.000 s, (8000 total leaves)\n",
      "Time spent computing histograms: 2.980s\n",
      "Time spent finding best splits:  0.212s\n",
      "Time spent applying splits:      1.692s\n",
      "Time spent predicting:           0.456s\n"
     ]
    },
    {
     "name": "stderr",
     "output_type": "stream",
     "text": [
      "/home/joel/.local/lib/python3.12/site-packages/sklearn/utils/validation.py:1408: DataConversionWarning: A column-vector y was passed when a 1d array was expected. Please change the shape of y to (n_samples, ), for example using ravel().\n",
      "  y = column_or_1d(y, warn=True)\n"
     ]
    },
    {
     "name": "stdout",
     "output_type": "stream",
     "text": [
      "Binning 0.017 GB of training data: 0.050 s\n",
      "Binning 0.002 GB of validation data: 0.004 s\n",
      "Fitting gradient boosted rounds:\n",
      "Fit 800 trees in 8.721 s, (8000 total leaves)\n",
      "Time spent computing histograms: 2.602s\n",
      "Time spent finding best splits:  0.175s\n",
      "Time spent applying splits:      1.511s\n",
      "Time spent predicting:           0.424s\n"
     ]
    },
    {
     "name": "stderr",
     "output_type": "stream",
     "text": [
      "/home/joel/.local/lib/python3.12/site-packages/sklearn/utils/validation.py:1408: DataConversionWarning: A column-vector y was passed when a 1d array was expected. Please change the shape of y to (n_samples, ), for example using ravel().\n",
      "  y = column_or_1d(y, warn=True)\n"
     ]
    },
    {
     "name": "stdout",
     "output_type": "stream",
     "text": [
      "Binning 0.017 GB of training data: 0.047 s\n",
      "Binning 0.002 GB of validation data: 0.003 s\n",
      "Fitting gradient boosted rounds:\n",
      "Fit 800 trees in 9.069 s, (8000 total leaves)\n",
      "Time spent computing histograms: 2.693s\n",
      "Time spent finding best splits:  0.182s\n",
      "Time spent applying splits:      1.592s\n",
      "Time spent predicting:           0.440s\n"
     ]
    },
    {
     "name": "stderr",
     "output_type": "stream",
     "text": [
      "/home/joel/.local/lib/python3.12/site-packages/sklearn/utils/validation.py:1408: DataConversionWarning: A column-vector y was passed when a 1d array was expected. Please change the shape of y to (n_samples, ), for example using ravel().\n",
      "  y = column_or_1d(y, warn=True)\n"
     ]
    },
    {
     "name": "stdout",
     "output_type": "stream",
     "text": [
      "Binning 0.017 GB of training data: 0.046 s\n",
      "Binning 0.002 GB of validation data: 0.003 s\n",
      "Fitting gradient boosted rounds:\n",
      "Fit 800 trees in 8.854 s, (8000 total leaves)\n",
      "Time spent computing histograms: 2.634s\n",
      "Time spent finding best splits:  0.174s\n",
      "Time spent applying splits:      1.527s\n",
      "Time spent predicting:           0.430s\n"
     ]
    },
    {
     "name": "stderr",
     "output_type": "stream",
     "text": [
      "/home/joel/.local/lib/python3.12/site-packages/sklearn/utils/validation.py:1408: DataConversionWarning: A column-vector y was passed when a 1d array was expected. Please change the shape of y to (n_samples, ), for example using ravel().\n",
      "  y = column_or_1d(y, warn=True)\n"
     ]
    },
    {
     "name": "stdout",
     "output_type": "stream",
     "text": [
      "Binning 0.017 GB of training data: 0.051 s\n",
      "Binning 0.002 GB of validation data: 0.004 s\n",
      "Fitting gradient boosted rounds:\n",
      "Fit 800 trees in 8.540 s, (8000 total leaves)\n",
      "Time spent computing histograms: 2.527s\n",
      "Time spent finding best splits:  0.170s\n",
      "Time spent applying splits:      1.475s\n",
      "Time spent predicting:           0.413s\n"
     ]
    },
    {
     "name": "stderr",
     "output_type": "stream",
     "text": [
      "/home/joel/.local/lib/python3.12/site-packages/sklearn/utils/validation.py:1408: DataConversionWarning: A column-vector y was passed when a 1d array was expected. Please change the shape of y to (n_samples, ), for example using ravel().\n",
      "  y = column_or_1d(y, warn=True)\n"
     ]
    },
    {
     "name": "stdout",
     "output_type": "stream",
     "text": [
      "Binning 0.017 GB of training data: 0.046 s\n",
      "Binning 0.002 GB of validation data: 0.004 s\n",
      "Fitting gradient boosted rounds:\n",
      "Fit 800 trees in 7.919 s, (6400 total leaves)\n",
      "Time spent computing histograms: 2.140s\n",
      "Time spent finding best splits:  0.089s\n",
      "Time spent applying splits:      1.385s\n",
      "Time spent predicting:           0.409s\n"
     ]
    },
    {
     "name": "stderr",
     "output_type": "stream",
     "text": [
      "/home/joel/.local/lib/python3.12/site-packages/sklearn/utils/validation.py:1408: DataConversionWarning: A column-vector y was passed when a 1d array was expected. Please change the shape of y to (n_samples, ), for example using ravel().\n",
      "  y = column_or_1d(y, warn=True)\n"
     ]
    },
    {
     "name": "stdout",
     "output_type": "stream",
     "text": [
      "Binning 0.017 GB of training data: 0.057 s\n",
      "Binning 0.002 GB of validation data: 0.003 s\n",
      "Fitting gradient boosted rounds:\n",
      "Fit 800 trees in 7.632 s, (6397 total leaves)\n",
      "Time spent computing histograms: 2.064s\n",
      "Time spent finding best splits:  0.084s\n",
      "Time spent applying splits:      1.347s\n",
      "Time spent predicting:           0.393s\n"
     ]
    },
    {
     "name": "stderr",
     "output_type": "stream",
     "text": [
      "/home/joel/.local/lib/python3.12/site-packages/sklearn/utils/validation.py:1408: DataConversionWarning: A column-vector y was passed when a 1d array was expected. Please change the shape of y to (n_samples, ), for example using ravel().\n",
      "  y = column_or_1d(y, warn=True)\n"
     ]
    },
    {
     "name": "stdout",
     "output_type": "stream",
     "text": [
      "Binning 0.017 GB of training data: 0.041 s\n",
      "Binning 0.002 GB of validation data: 0.003 s\n",
      "Fitting gradient boosted rounds:\n",
      "Fit 800 trees in 8.274 s, (6398 total leaves)\n",
      "Time spent computing histograms: 2.227s\n",
      "Time spent finding best splits:  0.094s\n",
      "Time spent applying splits:      1.392s\n",
      "Time spent predicting:           0.423s\n"
     ]
    },
    {
     "name": "stderr",
     "output_type": "stream",
     "text": [
      "/home/joel/.local/lib/python3.12/site-packages/sklearn/utils/validation.py:1408: DataConversionWarning: A column-vector y was passed when a 1d array was expected. Please change the shape of y to (n_samples, ), for example using ravel().\n",
      "  y = column_or_1d(y, warn=True)\n"
     ]
    },
    {
     "name": "stdout",
     "output_type": "stream",
     "text": [
      "Binning 0.017 GB of training data: 0.042 s\n",
      "Binning 0.002 GB of validation data: 0.003 s\n",
      "Fitting gradient boosted rounds:\n",
      "Fit 800 trees in 8.205 s, (6397 total leaves)\n",
      "Time spent computing histograms: 2.217s\n",
      "Time spent finding best splits:  0.094s\n",
      "Time spent applying splits:      1.422s\n",
      "Time spent predicting:           0.420s\n"
     ]
    },
    {
     "name": "stderr",
     "output_type": "stream",
     "text": [
      "/home/joel/.local/lib/python3.12/site-packages/sklearn/utils/validation.py:1408: DataConversionWarning: A column-vector y was passed when a 1d array was expected. Please change the shape of y to (n_samples, ), for example using ravel().\n",
      "  y = column_or_1d(y, warn=True)\n"
     ]
    },
    {
     "name": "stdout",
     "output_type": "stream",
     "text": [
      "Binning 0.017 GB of training data: 0.041 s\n",
      "Binning 0.002 GB of validation data: 0.003 s\n",
      "Fitting gradient boosted rounds:\n",
      "Fit 800 trees in 8.629 s, (6400 total leaves)\n",
      "Time spent computing histograms: 2.366s\n",
      "Time spent finding best splits:  0.107s\n",
      "Time spent applying splits:      1.568s\n",
      "Time spent predicting:           0.440s\n"
     ]
    },
    {
     "name": "stderr",
     "output_type": "stream",
     "text": [
      "/home/joel/.local/lib/python3.12/site-packages/sklearn/utils/validation.py:1408: DataConversionWarning: A column-vector y was passed when a 1d array was expected. Please change the shape of y to (n_samples, ), for example using ravel().\n",
      "  y = column_or_1d(y, warn=True)\n"
     ]
    },
    {
     "name": "stdout",
     "output_type": "stream",
     "text": [
      "Binning 0.017 GB of training data: 0.051 s\n",
      "Binning 0.002 GB of validation data: 0.004 s\n",
      "Fitting gradient boosted rounds:\n",
      "Fit 800 trees in 11.938 s, (24800 total leaves)\n",
      "Time spent computing histograms: 3.291s\n",
      "Time spent finding best splits:  0.318s\n",
      "Time spent applying splits:      2.839s\n",
      "Time spent predicting:           0.719s\n"
     ]
    },
    {
     "name": "stderr",
     "output_type": "stream",
     "text": [
      "/home/joel/.local/lib/python3.12/site-packages/sklearn/utils/validation.py:1408: DataConversionWarning: A column-vector y was passed when a 1d array was expected. Please change the shape of y to (n_samples, ), for example using ravel().\n",
      "  y = column_or_1d(y, warn=True)\n"
     ]
    },
    {
     "name": "stdout",
     "output_type": "stream",
     "text": [
      "Binning 0.017 GB of training data: 0.049 s\n",
      "Binning 0.002 GB of validation data: 0.004 s\n",
      "Fitting gradient boosted rounds:\n",
      "Fit 800 trees in 11.566 s, (24794 total leaves)\n",
      "Time spent computing histograms: 3.180s\n",
      "Time spent finding best splits:  0.296s\n",
      "Time spent applying splits:      2.728s\n",
      "Time spent predicting:           0.680s\n"
     ]
    },
    {
     "name": "stderr",
     "output_type": "stream",
     "text": [
      "/home/joel/.local/lib/python3.12/site-packages/sklearn/utils/validation.py:1408: DataConversionWarning: A column-vector y was passed when a 1d array was expected. Please change the shape of y to (n_samples, ), for example using ravel().\n",
      "  y = column_or_1d(y, warn=True)\n"
     ]
    },
    {
     "name": "stdout",
     "output_type": "stream",
     "text": [
      "Binning 0.017 GB of training data: 0.052 s\n",
      "Binning 0.002 GB of validation data: 0.004 s\n",
      "Fitting gradient boosted rounds:\n",
      "Fit 800 trees in 11.238 s, (24763 total leaves)\n",
      "Time spent computing histograms: 3.121s\n",
      "Time spent finding best splits:  0.290s\n",
      "Time spent applying splits:      2.622s\n",
      "Time spent predicting:           0.654s\n"
     ]
    },
    {
     "name": "stderr",
     "output_type": "stream",
     "text": [
      "/home/joel/.local/lib/python3.12/site-packages/sklearn/utils/validation.py:1408: DataConversionWarning: A column-vector y was passed when a 1d array was expected. Please change the shape of y to (n_samples, ), for example using ravel().\n",
      "  y = column_or_1d(y, warn=True)\n"
     ]
    },
    {
     "name": "stdout",
     "output_type": "stream",
     "text": [
      "Binning 0.017 GB of training data: 0.047 s\n",
      "Binning 0.002 GB of validation data: 0.004 s\n",
      "Fitting gradient boosted rounds:\n",
      "Fit 800 trees in 9.884 s, (24800 total leaves)\n",
      "Time spent computing histograms: 2.684s\n",
      "Time spent finding best splits:  0.247s\n",
      "Time spent applying splits:      2.351s\n",
      "Time spent predicting:           0.631s\n"
     ]
    },
    {
     "name": "stderr",
     "output_type": "stream",
     "text": [
      "/home/joel/.local/lib/python3.12/site-packages/sklearn/utils/validation.py:1408: DataConversionWarning: A column-vector y was passed when a 1d array was expected. Please change the shape of y to (n_samples, ), for example using ravel().\n",
      "  y = column_or_1d(y, warn=True)\n"
     ]
    },
    {
     "name": "stdout",
     "output_type": "stream",
     "text": [
      "Binning 0.017 GB of training data: 0.041 s\n",
      "Binning 0.002 GB of validation data: 0.003 s\n",
      "Fitting gradient boosted rounds:\n",
      "Fit 800 trees in 9.829 s, (24800 total leaves)\n",
      "Time spent computing histograms: 2.713s\n",
      "Time spent finding best splits:  0.246s\n",
      "Time spent applying splits:      2.364s\n",
      "Time spent predicting:           0.619s\n"
     ]
    },
    {
     "name": "stderr",
     "output_type": "stream",
     "text": [
      "/home/joel/.local/lib/python3.12/site-packages/sklearn/utils/validation.py:1408: DataConversionWarning: A column-vector y was passed when a 1d array was expected. Please change the shape of y to (n_samples, ), for example using ravel().\n",
      "  y = column_or_1d(y, warn=True)\n"
     ]
    },
    {
     "name": "stdout",
     "output_type": "stream",
     "text": [
      "Binning 0.017 GB of training data: 0.040 s\n",
      "Binning 0.002 GB of validation data: 0.003 s\n",
      "Fitting gradient boosted rounds:\n",
      "Fit 800 trees in 9.154 s, (24800 total leaves)\n",
      "Time spent computing histograms: 2.585s\n",
      "Time spent finding best splits:  0.349s\n",
      "Time spent applying splits:      1.808s\n",
      "Time spent predicting:           0.446s\n"
     ]
    },
    {
     "name": "stderr",
     "output_type": "stream",
     "text": [
      "/home/joel/.local/lib/python3.12/site-packages/sklearn/utils/validation.py:1408: DataConversionWarning: A column-vector y was passed when a 1d array was expected. Please change the shape of y to (n_samples, ), for example using ravel().\n",
      "  y = column_or_1d(y, warn=True)\n"
     ]
    },
    {
     "name": "stdout",
     "output_type": "stream",
     "text": [
      "Binning 0.017 GB of training data: 0.041 s\n",
      "Binning 0.002 GB of validation data: 0.003 s\n",
      "Fitting gradient boosted rounds:\n",
      "Fit 800 trees in 9.454 s, (24800 total leaves)\n",
      "Time spent computing histograms: 2.685s\n",
      "Time spent finding best splits:  0.369s\n",
      "Time spent applying splits:      1.881s\n",
      "Time spent predicting:           0.448s\n",
      "Binning 0.017 GB of training data: 0.040 s\n",
      "Binning 0.002 GB of validation data: "
     ]
    },
    {
     "name": "stderr",
     "output_type": "stream",
     "text": [
      "/home/joel/.local/lib/python3.12/site-packages/sklearn/utils/validation.py:1408: DataConversionWarning: A column-vector y was passed when a 1d array was expected. Please change the shape of y to (n_samples, ), for example using ravel().\n",
      "  y = column_or_1d(y, warn=True)\n"
     ]
    },
    {
     "name": "stdout",
     "output_type": "stream",
     "text": [
      "0.004 s\n",
      "Fitting gradient boosted rounds:\n",
      "Fit 800 trees in 8.980 s, (24800 total leaves)\n",
      "Time spent computing histograms: 2.538s\n",
      "Time spent finding best splits:  0.359s\n",
      "Time spent applying splits:      1.770s\n",
      "Time spent predicting:           0.438s\n"
     ]
    },
    {
     "name": "stderr",
     "output_type": "stream",
     "text": [
      "/home/joel/.local/lib/python3.12/site-packages/sklearn/utils/validation.py:1408: DataConversionWarning: A column-vector y was passed when a 1d array was expected. Please change the shape of y to (n_samples, ), for example using ravel().\n",
      "  y = column_or_1d(y, warn=True)\n"
     ]
    },
    {
     "name": "stdout",
     "output_type": "stream",
     "text": [
      "Binning 0.017 GB of training data: 0.042 s\n",
      "Binning 0.002 GB of validation data: 0.004 s\n",
      "Fitting gradient boosted rounds:\n",
      "Fit 800 trees in 9.299 s, (24788 total leaves)\n",
      "Time spent computing histograms: 2.624s\n",
      "Time spent finding best splits:  0.360s\n",
      "Time spent applying splits:      1.841s\n",
      "Time spent predicting:           0.446s\n"
     ]
    },
    {
     "name": "stderr",
     "output_type": "stream",
     "text": [
      "/home/joel/.local/lib/python3.12/site-packages/sklearn/utils/validation.py:1408: DataConversionWarning: A column-vector y was passed when a 1d array was expected. Please change the shape of y to (n_samples, ), for example using ravel().\n",
      "  y = column_or_1d(y, warn=True)\n"
     ]
    },
    {
     "name": "stdout",
     "output_type": "stream",
     "text": [
      "Binning 0.017 GB of training data: 0.066 s\n",
      "Binning 0.002 GB of validation data: 0.004 s\n",
      "Fitting gradient boosted rounds:\n",
      "Fit 800 trees in 10.765 s, (24798 total leaves)\n",
      "Time spent computing histograms: 3.016s\n",
      "Time spent finding best splits:  0.426s\n",
      "Time spent applying splits:      2.094s\n",
      "Time spent predicting:           0.506s\n"
     ]
    },
    {
     "name": "stderr",
     "output_type": "stream",
     "text": [
      "/home/joel/.local/lib/python3.12/site-packages/sklearn/utils/validation.py:1408: DataConversionWarning: A column-vector y was passed when a 1d array was expected. Please change the shape of y to (n_samples, ), for example using ravel().\n",
      "  y = column_or_1d(y, warn=True)\n"
     ]
    },
    {
     "name": "stdout",
     "output_type": "stream",
     "text": [
      "Binning 0.017 GB of training data: 0.041 s\n",
      "Binning 0.002 GB of validation data: 0.003 s\n",
      "Fitting gradient boosted rounds:\n",
      "Fit 800 trees in 9.556 s, (16000 total leaves)\n",
      "Time spent computing histograms: 2.672s\n",
      "Time spent finding best splits:  0.226s\n",
      "Time spent applying splits:      2.081s\n",
      "Time spent predicting:           0.510s\n"
     ]
    },
    {
     "name": "stderr",
     "output_type": "stream",
     "text": [
      "/home/joel/.local/lib/python3.12/site-packages/sklearn/utils/validation.py:1408: DataConversionWarning: A column-vector y was passed when a 1d array was expected. Please change the shape of y to (n_samples, ), for example using ravel().\n",
      "  y = column_or_1d(y, warn=True)\n"
     ]
    },
    {
     "name": "stdout",
     "output_type": "stream",
     "text": [
      "Binning 0.017 GB of training data: 0.041 s\n",
      "Binning 0.002 GB of validation data: 0.004 s\n",
      "Fitting gradient boosted rounds:\n",
      "Fit 800 trees in 8.899 s, (16000 total leaves)\n",
      "Time spent computing histograms: 2.488s\n",
      "Time spent finding best splits:  0.205s\n",
      "Time spent applying splits:      1.929s\n",
      "Time spent predicting:           0.507s\n",
      "Binning 0.017 GB of training data: 0.041 s\n",
      "Binning 0.002 GB of validation data: "
     ]
    },
    {
     "name": "stderr",
     "output_type": "stream",
     "text": [
      "/home/joel/.local/lib/python3.12/site-packages/sklearn/utils/validation.py:1408: DataConversionWarning: A column-vector y was passed when a 1d array was expected. Please change the shape of y to (n_samples, ), for example using ravel().\n",
      "  y = column_or_1d(y, warn=True)\n"
     ]
    },
    {
     "name": "stdout",
     "output_type": "stream",
     "text": [
      "0.003 s\n",
      "Fitting gradient boosted rounds:\n",
      "Fit 800 trees in 10.040 s, (15996 total leaves)\n",
      "Time spent computing histograms: 2.816s\n",
      "Time spent finding best splits:  0.232s\n",
      "Time spent applying splits:      2.173s\n",
      "Time spent predicting:           0.548s\n"
     ]
    },
    {
     "name": "stderr",
     "output_type": "stream",
     "text": [
      "/home/joel/.local/lib/python3.12/site-packages/sklearn/utils/validation.py:1408: DataConversionWarning: A column-vector y was passed when a 1d array was expected. Please change the shape of y to (n_samples, ), for example using ravel().\n",
      "  y = column_or_1d(y, warn=True)\n"
     ]
    },
    {
     "name": "stdout",
     "output_type": "stream",
     "text": [
      "Binning 0.017 GB of training data: 0.041 s\n",
      "Binning 0.002 GB of validation data: 0.003 s\n",
      "Fitting gradient boosted rounds:\n",
      "Fit 800 trees in 9.666 s, (16000 total leaves)\n",
      "Time spent computing histograms: 2.679s\n",
      "Time spent finding best splits:  0.219s\n",
      "Time spent applying splits:      2.124s\n",
      "Time spent predicting:           0.528s\n"
     ]
    },
    {
     "name": "stderr",
     "output_type": "stream",
     "text": [
      "/home/joel/.local/lib/python3.12/site-packages/sklearn/utils/validation.py:1408: DataConversionWarning: A column-vector y was passed when a 1d array was expected. Please change the shape of y to (n_samples, ), for example using ravel().\n",
      "  y = column_or_1d(y, warn=True)\n"
     ]
    },
    {
     "name": "stdout",
     "output_type": "stream",
     "text": [
      "Binning 0.017 GB of training data: 0.040 s\n",
      "Binning 0.002 GB of validation data: 0.003 s\n",
      "Fitting gradient boosted rounds:\n",
      "Fit 800 trees in 8.723 s, (16000 total leaves)\n",
      "Time spent computing histograms: 2.412s\n",
      "Time spent finding best splits:  0.201s\n",
      "Time spent applying splits:      1.909s\n",
      "Time spent predicting:           0.501s\n"
     ]
    },
    {
     "name": "stderr",
     "output_type": "stream",
     "text": [
      "/home/joel/.local/lib/python3.12/site-packages/sklearn/utils/validation.py:1408: DataConversionWarning: A column-vector y was passed when a 1d array was expected. Please change the shape of y to (n_samples, ), for example using ravel().\n",
      "  y = column_or_1d(y, warn=True)\n"
     ]
    },
    {
     "name": "stdout",
     "output_type": "stream",
     "text": [
      "Binning 0.017 GB of training data: 0.042 s\n",
      "Binning 0.002 GB of validation data: 0.003 s\n",
      "Fitting gradient boosted rounds:\n",
      "Fit 800 trees in 9.455 s, (16000 total leaves)\n",
      "Time spent computing histograms: 2.782s\n",
      "Time spent finding best splits:  0.312s\n",
      "Time spent applying splits:      1.838s\n",
      "Time spent predicting:           0.465s\n"
     ]
    },
    {
     "name": "stderr",
     "output_type": "stream",
     "text": [
      "/home/joel/.local/lib/python3.12/site-packages/sklearn/utils/validation.py:1408: DataConversionWarning: A column-vector y was passed when a 1d array was expected. Please change the shape of y to (n_samples, ), for example using ravel().\n",
      "  y = column_or_1d(y, warn=True)\n"
     ]
    },
    {
     "name": "stdout",
     "output_type": "stream",
     "text": [
      "Binning 0.017 GB of training data: 0.046 s\n",
      "Binning 0.002 GB of validation data: 0.004 s\n",
      "Fitting gradient boosted rounds:\n",
      "Fit 800 trees in 9.948 s, (16000 total leaves)\n",
      "Time spent computing histograms: 2.917s\n",
      "Time spent finding best splits:  0.325s\n",
      "Time spent applying splits:      1.921s\n",
      "Time spent predicting:           0.494s\n"
     ]
    },
    {
     "name": "stderr",
     "output_type": "stream",
     "text": [
      "/home/joel/.local/lib/python3.12/site-packages/sklearn/utils/validation.py:1408: DataConversionWarning: A column-vector y was passed when a 1d array was expected. Please change the shape of y to (n_samples, ), for example using ravel().\n",
      "  y = column_or_1d(y, warn=True)\n"
     ]
    },
    {
     "name": "stdout",
     "output_type": "stream",
     "text": [
      "Binning 0.017 GB of training data: 0.046 s\n",
      "Binning 0.002 GB of validation data: 0.003 s\n",
      "Fitting gradient boosted rounds:\n",
      "Fit 800 trees in 10.919 s, (16000 total leaves)\n",
      "Time spent computing histograms: 3.286s\n",
      "Time spent finding best splits:  0.374s\n",
      "Time spent applying splits:      2.149s\n",
      "Time spent predicting:           0.546s\n"
     ]
    },
    {
     "name": "stderr",
     "output_type": "stream",
     "text": [
      "/home/joel/.local/lib/python3.12/site-packages/sklearn/utils/validation.py:1408: DataConversionWarning: A column-vector y was passed when a 1d array was expected. Please change the shape of y to (n_samples, ), for example using ravel().\n",
      "  y = column_or_1d(y, warn=True)\n"
     ]
    },
    {
     "name": "stdout",
     "output_type": "stream",
     "text": [
      "Binning 0.017 GB of training data: 0.060 s\n",
      "Binning 0.002 GB of validation data: 0.003 s\n",
      "Fitting gradient boosted rounds:\n",
      "Fit 800 trees in 9.550 s, (16000 total leaves)\n",
      "Time spent computing histograms: 2.798s\n",
      "Time spent finding best splits:  0.314s\n",
      "Time spent applying splits:      1.893s\n",
      "Time spent predicting:           0.484s\n"
     ]
    },
    {
     "name": "stderr",
     "output_type": "stream",
     "text": [
      "/home/joel/.local/lib/python3.12/site-packages/sklearn/utils/validation.py:1408: DataConversionWarning: A column-vector y was passed when a 1d array was expected. Please change the shape of y to (n_samples, ), for example using ravel().\n",
      "  y = column_or_1d(y, warn=True)\n"
     ]
    },
    {
     "name": "stdout",
     "output_type": "stream",
     "text": [
      "Binning 0.017 GB of training data: 0.049 s\n",
      "Binning 0.002 GB of validation data: 0.004 s\n",
      "Fitting gradient boosted rounds:\n",
      "Fit 800 trees in 10.289 s, (16000 total leaves)\n",
      "Time spent computing histograms: 3.025s\n",
      "Time spent finding best splits:  0.336s\n",
      "Time spent applying splits:      2.014s\n",
      "Time spent predicting:           0.507s\n"
     ]
    },
    {
     "name": "stderr",
     "output_type": "stream",
     "text": [
      "/home/joel/.local/lib/python3.12/site-packages/sklearn/utils/validation.py:1408: DataConversionWarning: A column-vector y was passed when a 1d array was expected. Please change the shape of y to (n_samples, ), for example using ravel().\n",
      "  y = column_or_1d(y, warn=True)\n"
     ]
    },
    {
     "name": "stdout",
     "output_type": "stream",
     "text": [
      "Binning 0.017 GB of training data: 0.047 s\n",
      "Binning 0.002 GB of validation data: 0.004 s\n",
      "Fitting gradient boosted rounds:\n",
      "Fit 800 trees in 9.844 s, (15986 total leaves)\n",
      "Time spent computing histograms: 2.746s\n",
      "Time spent finding best splits:  0.231s\n",
      "Time spent applying splits:      2.116s\n",
      "Time spent predicting:           0.532s\n"
     ]
    },
    {
     "name": "stderr",
     "output_type": "stream",
     "text": [
      "/home/joel/.local/lib/python3.12/site-packages/sklearn/utils/validation.py:1408: DataConversionWarning: A column-vector y was passed when a 1d array was expected. Please change the shape of y to (n_samples, ), for example using ravel().\n",
      "  y = column_or_1d(y, warn=True)\n"
     ]
    },
    {
     "name": "stdout",
     "output_type": "stream",
     "text": [
      "Binning 0.017 GB of training data: 0.045 s\n",
      "Binning 0.002 GB of validation data: 0.004 s\n",
      "Fitting gradient boosted rounds:\n",
      "Fit 800 trees in 9.781 s, (15997 total leaves)\n",
      "Time spent computing histograms: 2.742s\n",
      "Time spent finding best splits:  0.225s\n",
      "Time spent applying splits:      2.094s\n",
      "Time spent predicting:           0.509s\n"
     ]
    },
    {
     "name": "stderr",
     "output_type": "stream",
     "text": [
      "/home/joel/.local/lib/python3.12/site-packages/sklearn/utils/validation.py:1408: DataConversionWarning: A column-vector y was passed when a 1d array was expected. Please change the shape of y to (n_samples, ), for example using ravel().\n",
      "  y = column_or_1d(y, warn=True)\n"
     ]
    },
    {
     "name": "stdout",
     "output_type": "stream",
     "text": [
      "Binning 0.017 GB of training data: 0.040 s\n",
      "Binning 0.002 GB of validation data: 0.003 s\n",
      "Fitting gradient boosted rounds:\n",
      "Fit 800 trees in 9.344 s, (15970 total leaves)\n",
      "Time spent computing histograms: 2.687s\n",
      "Time spent finding best splits:  0.209s\n",
      "Time spent applying splits:      1.993s\n",
      "Time spent predicting:           0.506s\n"
     ]
    },
    {
     "name": "stderr",
     "output_type": "stream",
     "text": [
      "/home/joel/.local/lib/python3.12/site-packages/sklearn/utils/validation.py:1408: DataConversionWarning: A column-vector y was passed when a 1d array was expected. Please change the shape of y to (n_samples, ), for example using ravel().\n",
      "  y = column_or_1d(y, warn=True)\n"
     ]
    },
    {
     "name": "stdout",
     "output_type": "stream",
     "text": [
      "Binning 0.017 GB of training data: 0.085 s\n",
      "Binning 0.002 GB of validation data: 0.004 s\n",
      "Fitting gradient boosted rounds:\n",
      "Fit 800 trees in 11.502 s, (15999 total leaves)\n",
      "Time spent computing histograms: 3.338s\n",
      "Time spent finding best splits:  0.287s\n",
      "Time spent applying splits:      2.462s\n",
      "Time spent predicting:           0.562s\n"
     ]
    },
    {
     "name": "stderr",
     "output_type": "stream",
     "text": [
      "/home/joel/.local/lib/python3.12/site-packages/sklearn/utils/validation.py:1408: DataConversionWarning: A column-vector y was passed when a 1d array was expected. Please change the shape of y to (n_samples, ), for example using ravel().\n",
      "  y = column_or_1d(y, warn=True)\n"
     ]
    },
    {
     "name": "stdout",
     "output_type": "stream",
     "text": [
      "Binning 0.017 GB of training data: 0.048 s\n",
      "Binning 0.002 GB of validation data: 0.005 s\n",
      "Fitting gradient boosted rounds:\n",
      "Fit 800 trees in 9.753 s, (15995 total leaves)\n",
      "Time spent computing histograms: 2.681s\n",
      "Time spent finding best splits:  0.218s\n",
      "Time spent applying splits:      2.069s\n",
      "Time spent predicting:           0.512s\n"
     ]
    },
    {
     "name": "stderr",
     "output_type": "stream",
     "text": [
      "/home/joel/.local/lib/python3.12/site-packages/sklearn/utils/validation.py:1408: DataConversionWarning: A column-vector y was passed when a 1d array was expected. Please change the shape of y to (n_samples, ), for example using ravel().\n",
      "  y = column_or_1d(y, warn=True)\n"
     ]
    },
    {
     "name": "stdout",
     "output_type": "stream",
     "text": [
      "Binning 0.017 GB of training data: 0.041 s\n",
      "Binning 0.002 GB of validation data: 0.003 s\n",
      "Fitting gradient boosted rounds:\n",
      "Fit 800 trees in 10.425 s, (24911 total leaves)\n",
      "Time spent computing histograms: 2.800s\n",
      "Time spent finding best splits:  0.264s\n",
      "Time spent applying splits:      2.472s\n",
      "Time spent predicting:           0.600s\n"
     ]
    },
    {
     "name": "stderr",
     "output_type": "stream",
     "text": [
      "/home/joel/.local/lib/python3.12/site-packages/sklearn/utils/validation.py:1408: DataConversionWarning: A column-vector y was passed when a 1d array was expected. Please change the shape of y to (n_samples, ), for example using ravel().\n",
      "  y = column_or_1d(y, warn=True)\n"
     ]
    },
    {
     "name": "stdout",
     "output_type": "stream",
     "text": [
      "Binning 0.017 GB of training data: 0.040 s\n",
      "Binning 0.002 GB of validation data: 0.003 s\n",
      "Fitting gradient boosted rounds:\n",
      "Fit 800 trees in 9.933 s, (24813 total leaves)\n",
      "Time spent computing histograms: 2.707s\n",
      "Time spent finding best splits:  0.253s\n",
      "Time spent applying splits:      2.357s\n",
      "Time spent predicting:           0.596s\n"
     ]
    },
    {
     "name": "stderr",
     "output_type": "stream",
     "text": [
      "/home/joel/.local/lib/python3.12/site-packages/sklearn/utils/validation.py:1408: DataConversionWarning: A column-vector y was passed when a 1d array was expected. Please change the shape of y to (n_samples, ), for example using ravel().\n",
      "  y = column_or_1d(y, warn=True)\n"
     ]
    },
    {
     "name": "stdout",
     "output_type": "stream",
     "text": [
      "Binning 0.017 GB of training data: 0.048 s\n",
      "Binning 0.002 GB of validation data: 0.004 s\n",
      "Fitting gradient boosted rounds:\n",
      "Fit 800 trees in 10.070 s, (24816 total leaves)\n",
      "Time spent computing histograms: 2.697s\n",
      "Time spent finding best splits:  0.251s\n",
      "Time spent applying splits:      2.347s\n",
      "Time spent predicting:           0.601s\n"
     ]
    },
    {
     "name": "stderr",
     "output_type": "stream",
     "text": [
      "/home/joel/.local/lib/python3.12/site-packages/sklearn/utils/validation.py:1408: DataConversionWarning: A column-vector y was passed when a 1d array was expected. Please change the shape of y to (n_samples, ), for example using ravel().\n",
      "  y = column_or_1d(y, warn=True)\n"
     ]
    },
    {
     "name": "stdout",
     "output_type": "stream",
     "text": [
      "Binning 0.017 GB of training data: 0.040 s\n",
      "Binning 0.002 GB of validation data: 0.003 s\n",
      "Fitting gradient boosted rounds:\n",
      "Fit 800 trees in 9.777 s, (24816 total leaves)\n",
      "Time spent computing histograms: 2.650s\n",
      "Time spent finding best splits:  0.250s\n",
      "Time spent applying splits:      2.333s\n",
      "Time spent predicting:           0.588s\n"
     ]
    },
    {
     "name": "stderr",
     "output_type": "stream",
     "text": [
      "/home/joel/.local/lib/python3.12/site-packages/sklearn/utils/validation.py:1408: DataConversionWarning: A column-vector y was passed when a 1d array was expected. Please change the shape of y to (n_samples, ), for example using ravel().\n",
      "  y = column_or_1d(y, warn=True)\n"
     ]
    },
    {
     "name": "stdout",
     "output_type": "stream",
     "text": [
      "Binning 0.017 GB of training data: 0.044 s\n",
      "Binning 0.002 GB of validation data: 0.003 s\n",
      "Fitting gradient boosted rounds:\n",
      "Fit 800 trees in 10.750 s, (24901 total leaves)\n",
      "Time spent computing histograms: 2.860s\n",
      "Time spent finding best splits:  0.278s\n",
      "Time spent applying splits:      2.519s\n",
      "Time spent predicting:           0.611s\n"
     ]
    },
    {
     "name": "stderr",
     "output_type": "stream",
     "text": [
      "/home/joel/.local/lib/python3.12/site-packages/sklearn/utils/validation.py:1408: DataConversionWarning: A column-vector y was passed when a 1d array was expected. Please change the shape of y to (n_samples, ), for example using ravel().\n",
      "  y = column_or_1d(y, warn=True)\n"
     ]
    },
    {
     "name": "stdout",
     "output_type": "stream",
     "text": [
      "Binning 0.021 GB of training data: 0.048 s\n",
      "Binning 0.002 GB of validation data: 0.004 s\n",
      "Fitting gradient boosted rounds:\n",
      "Fit 800 trees in 12.275 s, (24800 total leaves)\n",
      "Time spent computing histograms: 3.575s\n",
      "Time spent finding best splits:  0.408s\n",
      "Time spent applying splits:      2.387s\n",
      "Time spent predicting:           0.595s\n"
     ]
    },
    {
     "data": {
      "text/html": [
       "<pre style=\"white-space:pre;overflow-x:auto;line-height:normal;font-family:Menlo,'DejaVu Sans Mono',consolas,'Courier New',monospace\"></pre>\n"
      ],
      "text/plain": []
     },
     "metadata": {},
     "output_type": "display_data"
    },
    {
     "data": {
      "text/plain": [
       "\n",
       "\u001b[1m{\u001b[0m\n",
       "    \u001b[32m'min_samples_leaf'\u001b[0m: \u001b[1;36m20\u001b[0m,\n",
       "    \u001b[32m'max_leaf_nodes'\u001b[0m: \u001b[1;36m31\u001b[0m,\n",
       "    \u001b[32m'max_depth'\u001b[0m: \u001b[1;36m8\u001b[0m,\n",
       "    \u001b[32m'learning_rate'\u001b[0m: \u001b[1;36m0.2\u001b[0m,\n",
       "    \u001b[32m'l2_regularization'\u001b[0m: \u001b[1;36m0.001\u001b[0m\n",
       "\u001b[1m}\u001b[0m"
      ]
     },
     "execution_count": 34,
     "metadata": {},
     "output_type": "execute_result"
    }
   ],
   "source": [
    "\n",
    "\n",
    "HGB_clf = HistGradientBoostingClassifier(\n",
    "    loss=\"log_loss\", learning_rate=0.1, max_iter=100, categorical_features=cat_features, l2_regularization=0, validation_fraction=0.1, n_iter_no_change=10, verbose=1, random_state=42\n",
    ")\n",
    "clf = RandomizedSearchCV(HGB_clf, param_grid, random_state=0, verbose=1)\n",
    "search = clf.fit(features, labels)\n",
    "search.best_params_"
   ]
  },
  {
   "cell_type": "code",
   "execution_count": 36,
   "id": "b65e0a52",
   "metadata": {},
   "outputs": [
    {
     "data": {
      "text/html": [
       "<style>#sk-container-id-1 {\n",
       "  /* Definition of color scheme common for light and dark mode */\n",
       "  --sklearn-color-text: #000;\n",
       "  --sklearn-color-text-muted: #666;\n",
       "  --sklearn-color-line: gray;\n",
       "  /* Definition of color scheme for unfitted estimators */\n",
       "  --sklearn-color-unfitted-level-0: #fff5e6;\n",
       "  --sklearn-color-unfitted-level-1: #f6e4d2;\n",
       "  --sklearn-color-unfitted-level-2: #ffe0b3;\n",
       "  --sklearn-color-unfitted-level-3: chocolate;\n",
       "  /* Definition of color scheme for fitted estimators */\n",
       "  --sklearn-color-fitted-level-0: #f0f8ff;\n",
       "  --sklearn-color-fitted-level-1: #d4ebff;\n",
       "  --sklearn-color-fitted-level-2: #b3dbfd;\n",
       "  --sklearn-color-fitted-level-3: cornflowerblue;\n",
       "\n",
       "  /* Specific color for light theme */\n",
       "  --sklearn-color-text-on-default-background: var(--sg-text-color, var(--theme-code-foreground, var(--jp-content-font-color1, black)));\n",
       "  --sklearn-color-background: var(--sg-background-color, var(--theme-background, var(--jp-layout-color0, white)));\n",
       "  --sklearn-color-border-box: var(--sg-text-color, var(--theme-code-foreground, var(--jp-content-font-color1, black)));\n",
       "  --sklearn-color-icon: #696969;\n",
       "\n",
       "  @media (prefers-color-scheme: dark) {\n",
       "    /* Redefinition of color scheme for dark theme */\n",
       "    --sklearn-color-text-on-default-background: var(--sg-text-color, var(--theme-code-foreground, var(--jp-content-font-color1, white)));\n",
       "    --sklearn-color-background: var(--sg-background-color, var(--theme-background, var(--jp-layout-color0, #111)));\n",
       "    --sklearn-color-border-box: var(--sg-text-color, var(--theme-code-foreground, var(--jp-content-font-color1, white)));\n",
       "    --sklearn-color-icon: #878787;\n",
       "  }\n",
       "}\n",
       "\n",
       "#sk-container-id-1 {\n",
       "  color: var(--sklearn-color-text);\n",
       "}\n",
       "\n",
       "#sk-container-id-1 pre {\n",
       "  padding: 0;\n",
       "}\n",
       "\n",
       "#sk-container-id-1 input.sk-hidden--visually {\n",
       "  border: 0;\n",
       "  clip: rect(1px 1px 1px 1px);\n",
       "  clip: rect(1px, 1px, 1px, 1px);\n",
       "  height: 1px;\n",
       "  margin: -1px;\n",
       "  overflow: hidden;\n",
       "  padding: 0;\n",
       "  position: absolute;\n",
       "  width: 1px;\n",
       "}\n",
       "\n",
       "#sk-container-id-1 div.sk-dashed-wrapped {\n",
       "  border: 1px dashed var(--sklearn-color-line);\n",
       "  margin: 0 0.4em 0.5em 0.4em;\n",
       "  box-sizing: border-box;\n",
       "  padding-bottom: 0.4em;\n",
       "  background-color: var(--sklearn-color-background);\n",
       "}\n",
       "\n",
       "#sk-container-id-1 div.sk-container {\n",
       "  /* jupyter's `normalize.less` sets `[hidden] { display: none; }`\n",
       "     but bootstrap.min.css set `[hidden] { display: none !important; }`\n",
       "     so we also need the `!important` here to be able to override the\n",
       "     default hidden behavior on the sphinx rendered scikit-learn.org.\n",
       "     See: https://github.com/scikit-learn/scikit-learn/issues/21755 */\n",
       "  display: inline-block !important;\n",
       "  position: relative;\n",
       "}\n",
       "\n",
       "#sk-container-id-1 div.sk-text-repr-fallback {\n",
       "  display: none;\n",
       "}\n",
       "\n",
       "div.sk-parallel-item,\n",
       "div.sk-serial,\n",
       "div.sk-item {\n",
       "  /* draw centered vertical line to link estimators */\n",
       "  background-image: linear-gradient(var(--sklearn-color-text-on-default-background), var(--sklearn-color-text-on-default-background));\n",
       "  background-size: 2px 100%;\n",
       "  background-repeat: no-repeat;\n",
       "  background-position: center center;\n",
       "}\n",
       "\n",
       "/* Parallel-specific style estimator block */\n",
       "\n",
       "#sk-container-id-1 div.sk-parallel-item::after {\n",
       "  content: \"\";\n",
       "  width: 100%;\n",
       "  border-bottom: 2px solid var(--sklearn-color-text-on-default-background);\n",
       "  flex-grow: 1;\n",
       "}\n",
       "\n",
       "#sk-container-id-1 div.sk-parallel {\n",
       "  display: flex;\n",
       "  align-items: stretch;\n",
       "  justify-content: center;\n",
       "  background-color: var(--sklearn-color-background);\n",
       "  position: relative;\n",
       "}\n",
       "\n",
       "#sk-container-id-1 div.sk-parallel-item {\n",
       "  display: flex;\n",
       "  flex-direction: column;\n",
       "}\n",
       "\n",
       "#sk-container-id-1 div.sk-parallel-item:first-child::after {\n",
       "  align-self: flex-end;\n",
       "  width: 50%;\n",
       "}\n",
       "\n",
       "#sk-container-id-1 div.sk-parallel-item:last-child::after {\n",
       "  align-self: flex-start;\n",
       "  width: 50%;\n",
       "}\n",
       "\n",
       "#sk-container-id-1 div.sk-parallel-item:only-child::after {\n",
       "  width: 0;\n",
       "}\n",
       "\n",
       "/* Serial-specific style estimator block */\n",
       "\n",
       "#sk-container-id-1 div.sk-serial {\n",
       "  display: flex;\n",
       "  flex-direction: column;\n",
       "  align-items: center;\n",
       "  background-color: var(--sklearn-color-background);\n",
       "  padding-right: 1em;\n",
       "  padding-left: 1em;\n",
       "}\n",
       "\n",
       "\n",
       "/* Toggleable style: style used for estimator/Pipeline/ColumnTransformer box that is\n",
       "clickable and can be expanded/collapsed.\n",
       "- Pipeline and ColumnTransformer use this feature and define the default style\n",
       "- Estimators will overwrite some part of the style using the `sk-estimator` class\n",
       "*/\n",
       "\n",
       "/* Pipeline and ColumnTransformer style (default) */\n",
       "\n",
       "#sk-container-id-1 div.sk-toggleable {\n",
       "  /* Default theme specific background. It is overwritten whether we have a\n",
       "  specific estimator or a Pipeline/ColumnTransformer */\n",
       "  background-color: var(--sklearn-color-background);\n",
       "}\n",
       "\n",
       "/* Toggleable label */\n",
       "#sk-container-id-1 label.sk-toggleable__label {\n",
       "  cursor: pointer;\n",
       "  display: flex;\n",
       "  width: 100%;\n",
       "  margin-bottom: 0;\n",
       "  padding: 0.5em;\n",
       "  box-sizing: border-box;\n",
       "  text-align: center;\n",
       "  align-items: start;\n",
       "  justify-content: space-between;\n",
       "  gap: 0.5em;\n",
       "}\n",
       "\n",
       "#sk-container-id-1 label.sk-toggleable__label .caption {\n",
       "  font-size: 0.6rem;\n",
       "  font-weight: lighter;\n",
       "  color: var(--sklearn-color-text-muted);\n",
       "}\n",
       "\n",
       "#sk-container-id-1 label.sk-toggleable__label-arrow:before {\n",
       "  /* Arrow on the left of the label */\n",
       "  content: \"▸\";\n",
       "  float: left;\n",
       "  margin-right: 0.25em;\n",
       "  color: var(--sklearn-color-icon);\n",
       "}\n",
       "\n",
       "#sk-container-id-1 label.sk-toggleable__label-arrow:hover:before {\n",
       "  color: var(--sklearn-color-text);\n",
       "}\n",
       "\n",
       "/* Toggleable content - dropdown */\n",
       "\n",
       "#sk-container-id-1 div.sk-toggleable__content {\n",
       "  max-height: 0;\n",
       "  max-width: 0;\n",
       "  overflow: hidden;\n",
       "  text-align: left;\n",
       "  /* unfitted */\n",
       "  background-color: var(--sklearn-color-unfitted-level-0);\n",
       "}\n",
       "\n",
       "#sk-container-id-1 div.sk-toggleable__content.fitted {\n",
       "  /* fitted */\n",
       "  background-color: var(--sklearn-color-fitted-level-0);\n",
       "}\n",
       "\n",
       "#sk-container-id-1 div.sk-toggleable__content pre {\n",
       "  margin: 0.2em;\n",
       "  border-radius: 0.25em;\n",
       "  color: var(--sklearn-color-text);\n",
       "  /* unfitted */\n",
       "  background-color: var(--sklearn-color-unfitted-level-0);\n",
       "}\n",
       "\n",
       "#sk-container-id-1 div.sk-toggleable__content.fitted pre {\n",
       "  /* unfitted */\n",
       "  background-color: var(--sklearn-color-fitted-level-0);\n",
       "}\n",
       "\n",
       "#sk-container-id-1 input.sk-toggleable__control:checked~div.sk-toggleable__content {\n",
       "  /* Expand drop-down */\n",
       "  max-height: 200px;\n",
       "  max-width: 100%;\n",
       "  overflow: auto;\n",
       "}\n",
       "\n",
       "#sk-container-id-1 input.sk-toggleable__control:checked~label.sk-toggleable__label-arrow:before {\n",
       "  content: \"▾\";\n",
       "}\n",
       "\n",
       "/* Pipeline/ColumnTransformer-specific style */\n",
       "\n",
       "#sk-container-id-1 div.sk-label input.sk-toggleable__control:checked~label.sk-toggleable__label {\n",
       "  color: var(--sklearn-color-text);\n",
       "  background-color: var(--sklearn-color-unfitted-level-2);\n",
       "}\n",
       "\n",
       "#sk-container-id-1 div.sk-label.fitted input.sk-toggleable__control:checked~label.sk-toggleable__label {\n",
       "  background-color: var(--sklearn-color-fitted-level-2);\n",
       "}\n",
       "\n",
       "/* Estimator-specific style */\n",
       "\n",
       "/* Colorize estimator box */\n",
       "#sk-container-id-1 div.sk-estimator input.sk-toggleable__control:checked~label.sk-toggleable__label {\n",
       "  /* unfitted */\n",
       "  background-color: var(--sklearn-color-unfitted-level-2);\n",
       "}\n",
       "\n",
       "#sk-container-id-1 div.sk-estimator.fitted input.sk-toggleable__control:checked~label.sk-toggleable__label {\n",
       "  /* fitted */\n",
       "  background-color: var(--sklearn-color-fitted-level-2);\n",
       "}\n",
       "\n",
       "#sk-container-id-1 div.sk-label label.sk-toggleable__label,\n",
       "#sk-container-id-1 div.sk-label label {\n",
       "  /* The background is the default theme color */\n",
       "  color: var(--sklearn-color-text-on-default-background);\n",
       "}\n",
       "\n",
       "/* On hover, darken the color of the background */\n",
       "#sk-container-id-1 div.sk-label:hover label.sk-toggleable__label {\n",
       "  color: var(--sklearn-color-text);\n",
       "  background-color: var(--sklearn-color-unfitted-level-2);\n",
       "}\n",
       "\n",
       "/* Label box, darken color on hover, fitted */\n",
       "#sk-container-id-1 div.sk-label.fitted:hover label.sk-toggleable__label.fitted {\n",
       "  color: var(--sklearn-color-text);\n",
       "  background-color: var(--sklearn-color-fitted-level-2);\n",
       "}\n",
       "\n",
       "/* Estimator label */\n",
       "\n",
       "#sk-container-id-1 div.sk-label label {\n",
       "  font-family: monospace;\n",
       "  font-weight: bold;\n",
       "  display: inline-block;\n",
       "  line-height: 1.2em;\n",
       "}\n",
       "\n",
       "#sk-container-id-1 div.sk-label-container {\n",
       "  text-align: center;\n",
       "}\n",
       "\n",
       "/* Estimator-specific */\n",
       "#sk-container-id-1 div.sk-estimator {\n",
       "  font-family: monospace;\n",
       "  border: 1px dotted var(--sklearn-color-border-box);\n",
       "  border-radius: 0.25em;\n",
       "  box-sizing: border-box;\n",
       "  margin-bottom: 0.5em;\n",
       "  /* unfitted */\n",
       "  background-color: var(--sklearn-color-unfitted-level-0);\n",
       "}\n",
       "\n",
       "#sk-container-id-1 div.sk-estimator.fitted {\n",
       "  /* fitted */\n",
       "  background-color: var(--sklearn-color-fitted-level-0);\n",
       "}\n",
       "\n",
       "/* on hover */\n",
       "#sk-container-id-1 div.sk-estimator:hover {\n",
       "  /* unfitted */\n",
       "  background-color: var(--sklearn-color-unfitted-level-2);\n",
       "}\n",
       "\n",
       "#sk-container-id-1 div.sk-estimator.fitted:hover {\n",
       "  /* fitted */\n",
       "  background-color: var(--sklearn-color-fitted-level-2);\n",
       "}\n",
       "\n",
       "/* Specification for estimator info (e.g. \"i\" and \"?\") */\n",
       "\n",
       "/* Common style for \"i\" and \"?\" */\n",
       "\n",
       ".sk-estimator-doc-link,\n",
       "a:link.sk-estimator-doc-link,\n",
       "a:visited.sk-estimator-doc-link {\n",
       "  float: right;\n",
       "  font-size: smaller;\n",
       "  line-height: 1em;\n",
       "  font-family: monospace;\n",
       "  background-color: var(--sklearn-color-background);\n",
       "  border-radius: 1em;\n",
       "  height: 1em;\n",
       "  width: 1em;\n",
       "  text-decoration: none !important;\n",
       "  margin-left: 0.5em;\n",
       "  text-align: center;\n",
       "  /* unfitted */\n",
       "  border: var(--sklearn-color-unfitted-level-1) 1pt solid;\n",
       "  color: var(--sklearn-color-unfitted-level-1);\n",
       "}\n",
       "\n",
       ".sk-estimator-doc-link.fitted,\n",
       "a:link.sk-estimator-doc-link.fitted,\n",
       "a:visited.sk-estimator-doc-link.fitted {\n",
       "  /* fitted */\n",
       "  border: var(--sklearn-color-fitted-level-1) 1pt solid;\n",
       "  color: var(--sklearn-color-fitted-level-1);\n",
       "}\n",
       "\n",
       "/* On hover */\n",
       "div.sk-estimator:hover .sk-estimator-doc-link:hover,\n",
       ".sk-estimator-doc-link:hover,\n",
       "div.sk-label-container:hover .sk-estimator-doc-link:hover,\n",
       ".sk-estimator-doc-link:hover {\n",
       "  /* unfitted */\n",
       "  background-color: var(--sklearn-color-unfitted-level-3);\n",
       "  color: var(--sklearn-color-background);\n",
       "  text-decoration: none;\n",
       "}\n",
       "\n",
       "div.sk-estimator.fitted:hover .sk-estimator-doc-link.fitted:hover,\n",
       ".sk-estimator-doc-link.fitted:hover,\n",
       "div.sk-label-container:hover .sk-estimator-doc-link.fitted:hover,\n",
       ".sk-estimator-doc-link.fitted:hover {\n",
       "  /* fitted */\n",
       "  background-color: var(--sklearn-color-fitted-level-3);\n",
       "  color: var(--sklearn-color-background);\n",
       "  text-decoration: none;\n",
       "}\n",
       "\n",
       "/* Span, style for the box shown on hovering the info icon */\n",
       ".sk-estimator-doc-link span {\n",
       "  display: none;\n",
       "  z-index: 9999;\n",
       "  position: relative;\n",
       "  font-weight: normal;\n",
       "  right: .2ex;\n",
       "  padding: .5ex;\n",
       "  margin: .5ex;\n",
       "  width: min-content;\n",
       "  min-width: 20ex;\n",
       "  max-width: 50ex;\n",
       "  color: var(--sklearn-color-text);\n",
       "  box-shadow: 2pt 2pt 4pt #999;\n",
       "  /* unfitted */\n",
       "  background: var(--sklearn-color-unfitted-level-0);\n",
       "  border: .5pt solid var(--sklearn-color-unfitted-level-3);\n",
       "}\n",
       "\n",
       ".sk-estimator-doc-link.fitted span {\n",
       "  /* fitted */\n",
       "  background: var(--sklearn-color-fitted-level-0);\n",
       "  border: var(--sklearn-color-fitted-level-3);\n",
       "}\n",
       "\n",
       ".sk-estimator-doc-link:hover span {\n",
       "  display: block;\n",
       "}\n",
       "\n",
       "/* \"?\"-specific style due to the `<a>` HTML tag */\n",
       "\n",
       "#sk-container-id-1 a.estimator_doc_link {\n",
       "  float: right;\n",
       "  font-size: 1rem;\n",
       "  line-height: 1em;\n",
       "  font-family: monospace;\n",
       "  background-color: var(--sklearn-color-background);\n",
       "  border-radius: 1rem;\n",
       "  height: 1rem;\n",
       "  width: 1rem;\n",
       "  text-decoration: none;\n",
       "  /* unfitted */\n",
       "  color: var(--sklearn-color-unfitted-level-1);\n",
       "  border: var(--sklearn-color-unfitted-level-1) 1pt solid;\n",
       "}\n",
       "\n",
       "#sk-container-id-1 a.estimator_doc_link.fitted {\n",
       "  /* fitted */\n",
       "  border: var(--sklearn-color-fitted-level-1) 1pt solid;\n",
       "  color: var(--sklearn-color-fitted-level-1);\n",
       "}\n",
       "\n",
       "/* On hover */\n",
       "#sk-container-id-1 a.estimator_doc_link:hover {\n",
       "  /* unfitted */\n",
       "  background-color: var(--sklearn-color-unfitted-level-3);\n",
       "  color: var(--sklearn-color-background);\n",
       "  text-decoration: none;\n",
       "}\n",
       "\n",
       "#sk-container-id-1 a.estimator_doc_link.fitted:hover {\n",
       "  /* fitted */\n",
       "  background-color: var(--sklearn-color-fitted-level-3);\n",
       "}\n",
       "</style><div id=\"sk-container-id-1\" class=\"sk-top-container\"><div class=\"sk-text-repr-fallback\"><pre>HistGradientBoostingClassifier(categorical_features=[&#x27;sex&#x27;, &#x27;income_bracket&#x27;,\n",
       "                                                     &#x27;region_name&#x27;,\n",
       "                                                     &#x27;level_of_education&#x27;],\n",
       "                               l2_regularization=0.001, learning_rate=0.2,\n",
       "                               max_depth=8, random_state=42, verbose=1)</pre><b>In a Jupyter environment, please rerun this cell to show the HTML representation or trust the notebook. <br />On GitHub, the HTML representation is unable to render, please try loading this page with nbviewer.org.</b></div><div class=\"sk-container\" hidden><div class=\"sk-item\"><div class=\"sk-estimator fitted sk-toggleable\"><input class=\"sk-toggleable__control sk-hidden--visually\" id=\"sk-estimator-id-1\" type=\"checkbox\" checked><label for=\"sk-estimator-id-1\" class=\"sk-toggleable__label fitted sk-toggleable__label-arrow\"><div><div>HistGradientBoostingClassifier</div></div><div><a class=\"sk-estimator-doc-link fitted\" rel=\"noreferrer\" target=\"_blank\" href=\"https://scikit-learn.org/1.6/modules/generated/sklearn.ensemble.HistGradientBoostingClassifier.html\">?<span>Documentation for HistGradientBoostingClassifier</span></a><span class=\"sk-estimator-doc-link fitted\">i<span>Fitted</span></span></div></label><div class=\"sk-toggleable__content fitted\"><pre>HistGradientBoostingClassifier(categorical_features=[&#x27;sex&#x27;, &#x27;income_bracket&#x27;,\n",
       "                                                     &#x27;region_name&#x27;,\n",
       "                                                     &#x27;level_of_education&#x27;],\n",
       "                               l2_regularization=0.001, learning_rate=0.2,\n",
       "                               max_depth=8, random_state=42, verbose=1)</pre></div> </div></div></div></div>"
      ],
      "text/plain": [
       "HistGradientBoostingClassifier(categorical_features=['sex', 'income_bracket',\n",
       "                                                     'region_name',\n",
       "                                                     'level_of_education'],\n",
       "                               l2_regularization=0.001, learning_rate=0.2,\n",
       "                               max_depth=8, random_state=42, verbose=1)"
      ]
     },
     "execution_count": 36,
     "metadata": {},
     "output_type": "execute_result"
    }
   ],
   "source": [
    "search.best_estimator_"
   ]
  },
  {
   "cell_type": "code",
   "execution_count": null,
   "id": "cf60c382",
   "metadata": {},
   "outputs": [],
   "source": [
    "# explicitly require this experimental feature\n",
    "from sklearn.experimental import enable_halving_search_cv  # noqa\n",
    "\n",
    "# now you can import normally from model_selection\n",
    "from sklearn.model_selection import HalvingGridSearchCV"
   ]
  },
  {
   "cell_type": "code",
   "execution_count": 37,
   "id": "c9c3a002",
   "metadata": {},
   "outputs": [
    {
     "name": "stdout",
     "output_type": "stream",
     "text": [
      "Binning 0.014 GB of training data: "
     ]
    },
    {
     "name": "stderr",
     "output_type": "stream",
     "text": [
      "/home/joel/.local/lib/python3.12/site-packages/sklearn/utils/validation.py:1408: DataConversionWarning: A column-vector y was passed when a 1d array was expected. Please change the shape of y to (n_samples, ), for example using ravel().\n",
      "  y = column_or_1d(y, warn=True)\n"
     ]
    },
    {
     "name": "stdout",
     "output_type": "stream",
     "text": [
      "0.044 s\n",
      "Binning 0.002 GB of validation data: 0.003 s\n",
      "Fitting gradient boosted rounds:\n",
      "Fit 800 trees in 8.407 s, (24800 total leaves)\n",
      "Time spent computing histograms: 1.810s\n",
      "Time spent finding best splits:  0.258s\n",
      "Time spent applying splits:      1.235s\n",
      "Time spent predicting:           0.295s\n"
     ]
    },
    {
     "data": {
      "text/html": [
       "<pre style=\"white-space:pre;overflow-x:auto;line-height:normal;font-family:Menlo,'DejaVu Sans Mono',consolas,'Courier New',monospace\"></pre>\n"
      ],
      "text/plain": []
     },
     "metadata": {},
     "output_type": "display_data"
    },
    {
     "data": {
      "text/plain": [
       "\u001b[1;36m0.4622733714509114\u001b[0m"
      ]
     },
     "execution_count": 37,
     "metadata": {},
     "output_type": "execute_result"
    }
   ],
   "source": [
    "model = search.best_estimator_\n",
    "model.fit(X_train, y_train)\n",
    "y_pred = model.predict(X_test)\n",
    "accuracy_score(y_pred, y_test)"
   ]
  },
  {
   "cell_type": "code",
   "execution_count": 38,
   "id": "6e271d0d",
   "metadata": {},
   "outputs": [
    {
     "name": "stderr",
     "output_type": "stream",
     "text": [
      "/home/joel/.local/lib/python3.12/site-packages/sklearn/utils/validation.py:1408: DataConversionWarning: A column-vector y was passed when a 1d array was expected. Please change the shape of y to (n_samples, ), for example using ravel().\n",
      "  y = column_or_1d(y, warn=True)\n"
     ]
    },
    {
     "name": "stdout",
     "output_type": "stream",
     "text": [
      "Binning 0.017 GB of training data: 0.038 s\n",
      "Binning 0.002 GB of validation data: 0.002 s\n",
      "Fitting gradient boosted rounds:\n",
      "Fit 800 trees in 7.263 s, (24800 total leaves)\n",
      "Time spent computing histograms: 1.991s\n",
      "Time spent finding best splits:  0.256s\n",
      "Time spent applying splits:      1.355s\n",
      "Time spent predicting:           0.338s\n"
     ]
    },
    {
     "name": "stderr",
     "output_type": "stream",
     "text": [
      "/home/joel/.local/lib/python3.12/site-packages/sklearn/utils/validation.py:1408: DataConversionWarning: A column-vector y was passed when a 1d array was expected. Please change the shape of y to (n_samples, ), for example using ravel().\n",
      "  y = column_or_1d(y, warn=True)\n"
     ]
    },
    {
     "name": "stdout",
     "output_type": "stream",
     "text": [
      "Binning 0.017 GB of training data: 0.044 s\n",
      "Binning 0.002 GB of validation data: 0.003 s\n",
      "Fitting gradient boosted rounds:\n",
      "Fit 800 trees in 10.447 s, (24800 total leaves)\n",
      "Time spent computing histograms: 2.987s\n",
      "Time spent finding best splits:  0.396s\n",
      "Time spent applying splits:      2.107s\n",
      "Time spent predicting:           0.493s\n"
     ]
    },
    {
     "name": "stderr",
     "output_type": "stream",
     "text": [
      "/home/joel/.local/lib/python3.12/site-packages/sklearn/utils/validation.py:1408: DataConversionWarning: A column-vector y was passed when a 1d array was expected. Please change the shape of y to (n_samples, ), for example using ravel().\n",
      "  y = column_or_1d(y, warn=True)\n"
     ]
    },
    {
     "name": "stdout",
     "output_type": "stream",
     "text": [
      "Binning 0.017 GB of training data: 0.042 s\n",
      "Binning 0.002 GB of validation data: 0.003 s\n",
      "Fitting gradient boosted rounds:\n",
      "Fit 800 trees in 9.543 s, (24800 total leaves)\n",
      "Time spent computing histograms: 2.717s\n",
      "Time spent finding best splits:  0.365s\n",
      "Time spent applying splits:      1.884s\n",
      "Time spent predicting:           0.457s\n"
     ]
    },
    {
     "name": "stderr",
     "output_type": "stream",
     "text": [
      "/home/joel/.local/lib/python3.12/site-packages/sklearn/utils/validation.py:1408: DataConversionWarning: A column-vector y was passed when a 1d array was expected. Please change the shape of y to (n_samples, ), for example using ravel().\n",
      "  y = column_or_1d(y, warn=True)\n"
     ]
    },
    {
     "name": "stdout",
     "output_type": "stream",
     "text": [
      "Binning 0.017 GB of training data: 0.049 s\n",
      "Binning 0.002 GB of validation data: 0.004 s\n",
      "Fitting gradient boosted rounds:\n",
      "Fit 800 trees in 9.235 s, (24788 total leaves)\n",
      "Time spent computing histograms: 2.567s\n",
      "Time spent finding best splits:  0.349s\n",
      "Time spent applying splits:      1.832s\n",
      "Time spent predicting:           0.443s\n"
     ]
    },
    {
     "name": "stderr",
     "output_type": "stream",
     "text": [
      "/home/joel/.local/lib/python3.12/site-packages/sklearn/utils/validation.py:1408: DataConversionWarning: A column-vector y was passed when a 1d array was expected. Please change the shape of y to (n_samples, ), for example using ravel().\n",
      "  y = column_or_1d(y, warn=True)\n"
     ]
    },
    {
     "name": "stdout",
     "output_type": "stream",
     "text": [
      "Binning 0.017 GB of training data: 0.042 s\n",
      "Binning 0.002 GB of validation data: 0.003 s\n",
      "Fitting gradient boosted rounds:\n",
      "Fit 800 trees in 9.084 s, (24798 total leaves)\n",
      "Time spent computing histograms: 2.549s\n",
      "Time spent finding best splits:  0.340s\n",
      "Time spent applying splits:      1.805s\n",
      "Time spent predicting:           0.448s\n"
     ]
    },
    {
     "data": {
      "text/html": [
       "<pre style=\"white-space:pre;overflow-x:auto;line-height:normal;font-family:Menlo,'DejaVu Sans Mono',consolas,'Courier New',monospace\"></pre>\n"
      ],
      "text/plain": []
     },
     "metadata": {},
     "output_type": "display_data"
    },
    {
     "data": {
      "text/plain": [
       "\u001b[1;36m0.4519156526413527\u001b[0m"
      ]
     },
     "execution_count": 38,
     "metadata": {},
     "output_type": "execute_result"
    }
   ],
   "source": [
    "scores = cross_val_score(model, features, labels, cv=5)\n",
    "scores.mean()"
   ]
  },
  {
   "cell_type": "code",
   "execution_count": 40,
   "id": "a94d3522",
   "metadata": {},
   "outputs": [
    {
     "data": {
      "text/html": [
       "<pre style=\"white-space:pre;overflow-x:auto;line-height:normal;font-family:Menlo,'DejaVu Sans Mono',consolas,'Courier New',monospace\"></pre>\n"
      ],
      "text/plain": []
     },
     "metadata": {},
     "output_type": "display_data"
    },
    {
     "data": {
      "text/plain": [
       "\n",
       "\u001b[1;35marray\u001b[0m\u001b[1m(\u001b[0m\u001b[1m[\u001b[0m\u001b[1;36m0.06652495\u001b[0m, \u001b[1;36m0.23096157\u001b[0m, \u001b[1;36m0.04388245\u001b[0m, \u001b[1;36m0.18233071\u001b[0m, \u001b[1;36m0.25580479\u001b[0m,\n",
       "       \u001b[1;36m0.18336347\u001b[0m, \u001b[1;36m0.1903859\u001b[0m \u001b[1m]\u001b[0m\u001b[1m)\u001b[0m"
      ]
     },
     "execution_count": 40,
     "metadata": {},
     "output_type": "execute_result"
    }
   ],
   "source": [
    "pi = permutation_importance(model, X_test, y_test, n_repeats=5, random_state=42)\n",
    "pi[\"importances_mean\"]"
   ]
  },
  {
   "cell_type": "code",
   "execution_count": null,
   "id": "e9fee328",
   "metadata": {},
   "outputs": [
    {
     "data": {
      "text/html": [
       "<pre style=\"white-space:pre;overflow-x:auto;line-height:normal;font-family:Menlo,'DejaVu Sans Mono',consolas,'Courier New',monospace\"></pre>\n"
      ],
      "text/plain": []
     },
     "metadata": {},
     "output_type": "display_data"
    },
    {
     "data": {
      "text/html": [
       "<div>\n",
       "<style scoped>\n",
       "    .dataframe tbody tr th:only-of-type {\n",
       "        vertical-align: middle;\n",
       "    }\n",
       "\n",
       "    .dataframe tbody tr th {\n",
       "        vertical-align: top;\n",
       "    }\n",
       "\n",
       "    .dataframe thead th {\n",
       "        text-align: right;\n",
       "    }\n",
       "</style>\n",
       "<table border=\"1\" class=\"dataframe\">\n",
       "  <thead>\n",
       "    <tr style=\"text-align: right;\">\n",
       "      <th></th>\n",
       "      <th>1</th>\n",
       "    </tr>\n",
       "    <tr>\n",
       "      <th>0</th>\n",
       "      <th></th>\n",
       "    </tr>\n",
       "  </thead>\n",
       "  <tbody>\n",
       "    <tr>\n",
       "      <th>sex</th>\n",
       "      <td>0.066525</td>\n",
       "    </tr>\n",
       "    <tr>\n",
       "      <th>income_bracket</th>\n",
       "      <td>0.230962</td>\n",
       "    </tr>\n",
       "    <tr>\n",
       "      <th>year</th>\n",
       "      <td>0.043882</td>\n",
       "    </tr>\n",
       "    <tr>\n",
       "      <th>total_sum_sek_millions</th>\n",
       "      <td>0.182331</td>\n",
       "    </tr>\n",
       "    <tr>\n",
       "      <th>number_of_persons</th>\n",
       "      <td>0.255805</td>\n",
       "    </tr>\n",
       "    <tr>\n",
       "      <th>region_name</th>\n",
       "      <td>0.183363</td>\n",
       "    </tr>\n",
       "    <tr>\n",
       "      <th>level_of_education</th>\n",
       "      <td>0.190386</td>\n",
       "    </tr>\n",
       "  </tbody>\n",
       "</table>\n",
       "</div>"
      ],
      "text/plain": [
       "\n",
       "                               \u001b[1;36m1\u001b[0m\n",
       "\u001b[1;36m0\u001b[0m                               \n",
       "sex                     \u001b[1;36m0.066525\u001b[0m\n",
       "income_bracket          \u001b[1;36m0.230962\u001b[0m\n",
       "year                    \u001b[1;36m0.043882\u001b[0m\n",
       "total_sum_sek_millions  \u001b[1;36m0.182331\u001b[0m\n",
       "number_of_persons       \u001b[1;36m0.255805\u001b[0m\n",
       "region_name             \u001b[1;36m0.183363\u001b[0m\n",
       "level_of_education      \u001b[1;36m0.190386\u001b[0m"
      ]
     },
     "execution_count": 41,
     "metadata": {},
     "output_type": "execute_result"
    }
   ],
   "source": [
    "pd.DataFrame([features.columns, pi[\"importances_mean\"]]).T.set_index(0)"
   ]
  },
  {
   "cell_type": "markdown",
   "id": "d046a182",
   "metadata": {},
   "source": [
    "**3. Change your train/test data** (e.g. `X_train`, `X_test`) **to only include the _two most important features_.** Then retrain the model with that & evaluate it again. Did the accuracy score change?"
   ]
  },
  {
   "cell_type": "markdown",
   "id": "75a2b778",
   "metadata": {},
   "source": [
    "**4. Do the same thing, but train the model on the _two least important features only_.** What accuracy score do you expect? See if the result matches your expectation."
   ]
  },
  {
   "cell_type": "markdown",
   "id": "16b225b1",
   "metadata": {},
   "source": [
    "**6. Which of our measurement variables are _normally distributed_?** Checking for a normal distribution is useful, because it is often a requirement for using other metrics that the data is normally distributed."
   ]
  },
  {
   "cell_type": "code",
   "execution_count": 44,
   "id": "614d050a",
   "metadata": {},
   "outputs": [
    {
     "name": "stderr",
     "output_type": "stream",
     "text": [
      "/home/joel/.local/lib/python3.12/site-packages/scipy/stats/_axis_nan_policy.py:586: UserWarning: scipy.stats.shapiro: For N > 5000, computed p-value may not be accurate. Current N is 409260.\n",
      "  res = hypotest_fun_out(*samples, **kwds)\n"
     ]
    },
    {
     "data": {
      "text/html": [
       "<pre style=\"white-space:pre;overflow-x:auto;line-height:normal;font-family:Menlo,'DejaVu Sans Mono',consolas,'Courier New',monospace\"></pre>\n"
      ],
      "text/plain": []
     },
     "metadata": {},
     "output_type": "display_data"
    },
    {
     "data": {
      "text/html": [
       "<div>\n",
       "<style scoped>\n",
       "    .dataframe tbody tr th:only-of-type {\n",
       "        vertical-align: middle;\n",
       "    }\n",
       "\n",
       "    .dataframe tbody tr th {\n",
       "        vertical-align: top;\n",
       "    }\n",
       "\n",
       "    .dataframe thead th {\n",
       "        text-align: right;\n",
       "    }\n",
       "</style>\n",
       "<table border=\"1\" class=\"dataframe\">\n",
       "  <thead>\n",
       "    <tr style=\"text-align: right;\">\n",
       "      <th></th>\n",
       "      <th>W</th>\n",
       "      <th>pval</th>\n",
       "      <th>normal</th>\n",
       "    </tr>\n",
       "  </thead>\n",
       "  <tbody>\n",
       "    <tr>\n",
       "      <th>year</th>\n",
       "      <td>0.943776</td>\n",
       "      <td>3.137042e-123</td>\n",
       "      <td>False</td>\n",
       "    </tr>\n",
       "    <tr>\n",
       "      <th>total_sum_sek_millions</th>\n",
       "      <td>0.063580</td>\n",
       "      <td>6.872029e-219</td>\n",
       "      <td>False</td>\n",
       "    </tr>\n",
       "    <tr>\n",
       "      <th>number_of_persons</th>\n",
       "      <td>0.077122</td>\n",
       "      <td>2.533260e-218</td>\n",
       "      <td>False</td>\n",
       "    </tr>\n",
       "  </tbody>\n",
       "</table>\n",
       "</div>"
      ],
      "text/plain": [
       "\n",
       "                               W           pval  normal\n",
       "year                    \u001b[1;36m0.943776\u001b[0m  \u001b[1;36m3.137042e-123\u001b[0m   \u001b[3;91mFalse\u001b[0m\n",
       "total_sum_sek_millions  \u001b[1;36m0.063580\u001b[0m  \u001b[1;36m6.872029e-219\u001b[0m   \u001b[3;91mFalse\u001b[0m\n",
       "number_of_persons       \u001b[1;36m0.077122\u001b[0m  \u001b[1;36m2.533260e-218\u001b[0m   \u001b[3;91mFalse\u001b[0m"
      ]
     },
     "execution_count": 44,
     "metadata": {},
     "output_type": "execute_result"
    }
   ],
   "source": [
    "pg.normality(data)"
   ]
  },
  {
   "cell_type": "markdown",
   "id": "8f584ba7",
   "metadata": {},
   "source": [
    "**7. Which of the measurement variables are _correlated_?** Perform a pairwise correlation analysis with all the columns of our dataframe. Use Pearson correlation if the variables are normally distributed, and Spearman correlation if not."
   ]
  },
  {
   "cell_type": "code",
   "execution_count": 45,
   "id": "dc5b5444",
   "metadata": {},
   "outputs": [
    {
     "data": {
      "text/html": [
       "<pre style=\"white-space:pre;overflow-x:auto;line-height:normal;font-family:Menlo,'DejaVu Sans Mono',consolas,'Courier New',monospace\"></pre>\n"
      ],
      "text/plain": []
     },
     "metadata": {},
     "output_type": "display_data"
    },
    {
     "data": {
      "text/html": [
       "<div>\n",
       "<style scoped>\n",
       "    .dataframe tbody tr th:only-of-type {\n",
       "        vertical-align: middle;\n",
       "    }\n",
       "\n",
       "    .dataframe tbody tr th {\n",
       "        vertical-align: top;\n",
       "    }\n",
       "\n",
       "    .dataframe thead th {\n",
       "        text-align: right;\n",
       "    }\n",
       "</style>\n",
       "<table border=\"1\" class=\"dataframe\">\n",
       "  <thead>\n",
       "    <tr style=\"text-align: right;\">\n",
       "      <th></th>\n",
       "      <th>X</th>\n",
       "      <th>Y</th>\n",
       "      <th>method</th>\n",
       "      <th>alternative</th>\n",
       "      <th>n</th>\n",
       "      <th>r</th>\n",
       "      <th>CI95%</th>\n",
       "      <th>p-unc</th>\n",
       "      <th>BF10</th>\n",
       "      <th>power</th>\n",
       "    </tr>\n",
       "  </thead>\n",
       "  <tbody>\n",
       "    <tr>\n",
       "      <th>0</th>\n",
       "      <td>year</td>\n",
       "      <td>total_sum_sek_millions</td>\n",
       "      <td>pearson</td>\n",
       "      <td>two-sided</td>\n",
       "      <td>409260</td>\n",
       "      <td>0.011944</td>\n",
       "      <td>[0.01, 0.02]</td>\n",
       "      <td>2.156454e-14</td>\n",
       "      <td>9.331e+09</td>\n",
       "      <td>1.000000</td>\n",
       "    </tr>\n",
       "    <tr>\n",
       "      <th>1</th>\n",
       "      <td>year</td>\n",
       "      <td>number_of_persons</td>\n",
       "      <td>pearson</td>\n",
       "      <td>two-sided</td>\n",
       "      <td>409260</td>\n",
       "      <td>-0.001386</td>\n",
       "      <td>[-0.0, 0.0]</td>\n",
       "      <td>3.752904e-01</td>\n",
       "      <td>0.003</td>\n",
       "      <td>0.143765</td>\n",
       "    </tr>\n",
       "    <tr>\n",
       "      <th>2</th>\n",
       "      <td>total_sum_sek_millions</td>\n",
       "      <td>number_of_persons</td>\n",
       "      <td>pearson</td>\n",
       "      <td>two-sided</td>\n",
       "      <td>409260</td>\n",
       "      <td>0.916260</td>\n",
       "      <td>[0.92, 0.92]</td>\n",
       "      <td>0.000000e+00</td>\n",
       "      <td>inf</td>\n",
       "      <td>1.000000</td>\n",
       "    </tr>\n",
       "  </tbody>\n",
       "</table>\n",
       "</div>"
      ],
      "text/plain": [
       "\n",
       "                        X                       Y   method alternative  \\\n",
       "\u001b[1;36m0\u001b[0m                    year  total_sum_sek_millions  pearson   two-sided   \n",
       "\u001b[1;36m1\u001b[0m                    year       number_of_persons  pearson   two-sided   \n",
       "\u001b[1;36m2\u001b[0m  total_sum_sek_millions       number_of_persons  pearson   two-sided   \n",
       "\n",
       "        n         r         CI95%         p-unc       BF10     power  \n",
       "\u001b[1;36m0\u001b[0m  \u001b[1;36m409260\u001b[0m  \u001b[1;36m0.011944\u001b[0m  \u001b[1m[\u001b[0m\u001b[1;36m0.01\u001b[0m, \u001b[1;36m0.02\u001b[0m\u001b[1m]\u001b[0m  \u001b[1;36m2.156454e-14\u001b[0m  \u001b[1;36m9.331e+09\u001b[0m  \u001b[1;36m1.000000\u001b[0m  \n",
       "\u001b[1;36m1\u001b[0m  \u001b[1;36m409260\u001b[0m \u001b[1;36m-0.001386\u001b[0m   \u001b[1m[\u001b[0m\u001b[1;36m-0.0\u001b[0m, \u001b[1;36m0.0\u001b[0m\u001b[1m]\u001b[0m  \u001b[1;36m3.752904e-01\u001b[0m      \u001b[1;36m0.003\u001b[0m  \u001b[1;36m0.143765\u001b[0m  \n",
       "\u001b[1;36m2\u001b[0m  \u001b[1;36m409260\u001b[0m  \u001b[1;36m0.916260\u001b[0m  \u001b[1m[\u001b[0m\u001b[1;36m0.92\u001b[0m, \u001b[1;36m0.92\u001b[0m\u001b[1m]\u001b[0m  \u001b[1;36m0.000000e+00\u001b[0m        inf  \u001b[1;36m1.000000\u001b[0m  "
      ]
     },
     "execution_count": 45,
     "metadata": {},
     "output_type": "execute_result"
    }
   ],
   "source": [
    "pg.pairwise_corr(data, method=\"pearson\")"
   ]
  },
  {
   "cell_type": "markdown",
   "id": "426b98cd",
   "metadata": {},
   "source": [
    "**8. Make a new Pandas DataFrame with \"classifier correctness\" labels.** This DataFrame should have:\n",
    "\n",
    "- One **column per classifier**, e.g. the \"good\" classifier from Q3, the \"bad\" classifier from Q4, and the \"majority\" classifier from Q5.\n",
    "- One **row per instance in your test set**.\n",
    "- A value of **`True` or `False` in each cell**, depending on whether the classifier _(column)_ correctly classified the instance _(row)_ or not.\n",
    "\n",
    "Your resulting DataFrame could look something like this:\n",
    "\n",
    "|       | **good** | **bad**  | **majority** |\n",
    "|-------|----------|----------|--------------|\n",
    "| **0** | True     | False    | False        |\n",
    "| **1** | True     | False    | False        |\n",
    "| **2** | True     | True     | True         |\n",
    "| ...   | ...      | ...      | ...          |"
   ]
  },
  {
   "cell_type": "code",
   "execution_count": null,
   "id": "e802790f",
   "metadata": {},
   "outputs": [],
   "source": [
    "df_eval = pd.DataFrame(\n",
    "    np.transpose([y_pred_good == y_test, y_pred_bad == y_test, y_majority == y_test]),\n",
    "    columns=[\"good\", \"bad\", \"majority\"],\n",
    ")\n",
    "df_eval"
   ]
  },
  {
   "cell_type": "markdown",
   "id": "5bdf7043",
   "metadata": {},
   "source": [
    "**9. Is the \"bad\" model (from Q4) still significantly better than the \"majority\" class model (from Q5)?**\n",
    "\n",
    "We want to answer this question by using **McNemar's test,** using a significance level of $0.05$.  This means that if McNemar's test gives us a $p$-value $< 0.05$, we accept that there is a significant difference between our two classifiers.  If you use [Pingouin's implementation of McNemar's test](https://pingouin-stats.org/generated/pingouin.chi2_mcnemar.html), you will find that the DataFrame from Q6 is exactly what we need to use with Pingouin!"
   ]
  },
  {
   "cell_type": "markdown",
   "id": "3ce072f6",
   "metadata": {},
   "source": [
    "**11. Perform a principal component analysis (PCA) to map the GloVe vectors into 2-dimensional space.** Two dimensions are a common choice to make them suitable for visualization.\n",
    "\n",
    "If you are using Scikit-learn to do this, you will find that the 2-dimensional vectors are returned as a NumPy array.\n",
    "\n",
    "- **Also merge this back into a DataFrame that has the actual words as an index again**, just like above!"
   ]
  },
  {
   "cell_type": "code",
   "execution_count": null,
   "id": "b6c63399",
   "metadata": {},
   "outputs": [],
   "source": [
    "from sklearn.decomposition import PCA\n",
    "\n",
    "pca = PCA(n_components=2)\n",
    "glove_pca = pca.fit_transform(glove)\n",
    "glove_pca"
   ]
  },
  {
   "cell_type": "code",
   "execution_count": null,
   "id": "c9aa6fe7",
   "metadata": {},
   "outputs": [],
   "source": [
    "glove_pca = pd.DataFrame(glove_pca)\n",
    "glove_pca[\"word\"] = glove.index\n",
    "glove_pca = glove_pca.set_index(\"word\")\n",
    "glove_pca"
   ]
  },
  {
   "cell_type": "code",
   "execution_count": null,
   "id": "f42804ba",
   "metadata": {},
   "outputs": [],
   "source": [
    "def plot_words(df):\n",
    "    \"\"\"This function takes a DataFrame with a word index\n",
    "    and plots some chosen example words of different categories.\"\"\"\n",
    "\n",
    "    word_cats = {\n",
    "        \"food\": [\"apple\", \"orange\", \"lemon\", \"tomato\", \"potato\", \"chocolate\", \"bread\", \"butter\"],\n",
    "        \"transport\": [\"car\", \"train\", \"rail\", \"plane\", \"bike\", \"boat\", \"ship\", \"foot\"],\n",
    "        \"pronouns\": [\"he\", \"she\", \"it\", \"they\", \"them\", \"you\", \"your\", \"us\"],\n",
    "    }\n",
    "    fig, ax = plt.subplots()\n",
    "    pal = sns.color_palette(\"bright\")\n",
    "    for i, (category, words) in enumerate(word_cats.items()):\n",
    "        for word in words:\n",
    "            pos = df.loc[word].iloc[0], df.loc[word].iloc[1]\n",
    "            ax.scatter(*pos, color=pal[i])\n",
    "            ax.annotate(word, pos, color=pal[i])"
   ]
  }
 ],
 "metadata": {
  "kernelspec": {
   "display_name": "Python 3",
   "language": "python",
   "name": "python3"
  },
  "language_info": {
   "codemirror_mode": {
    "name": "ipython",
    "version": 3
   },
   "file_extension": ".py",
   "mimetype": "text/x-python",
   "name": "python",
   "nbconvert_exporter": "python",
   "pygments_lexer": "ipython3",
   "version": "3.12.7"
  }
 },
 "nbformat": 4,
 "nbformat_minor": 5
}
